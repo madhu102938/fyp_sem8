{
 "cells": [
  {
   "cell_type": "code",
   "execution_count": 2,
   "metadata": {},
   "outputs": [],
   "source": [
    "import nibabel as nib\n",
    "from nilearn import image\n",
    "from nilearn import plotting\n",
    "from nilearn import datasets\n",
    "from nilearn import maskers\n",
    "from nilearn.connectome import ConnectivityMeasure\n",
    "from tqdm import tqdm\n",
    "import numpy as np\n",
    "import os\n",
    "import re\n",
    "import pickle\n",
    "from nilearn.input_data import NiftiLabelsMasker"
   ]
  },
  {
   "cell_type": "code",
   "execution_count": 40,
   "metadata": {},
   "outputs": [],
   "source": [
    "dashMatch = re.compile(r'--')"
   ]
  },
  {
   "cell_type": "code",
   "execution_count": null,
   "metadata": {},
   "outputs": [
    {
     "name": "stderr",
     "output_type": "stream",
     "text": [
      "100%|\u001b[32m██████████\u001b[0m| 22/22 [00:23<00:00,  1.08s/it]\n",
      "100%|\u001b[32m██████████\u001b[0m| 46/46 [00:00<00:00, 206.62it/s]\n",
      "100%|\u001b[32m██████████\u001b[0m| 13/13 [00:00<00:00, 34.29it/s]\n"
     ]
    }
   ],
   "source": [
    "# getting all the paths\n",
    "# for loop over all the subjects\n",
    "file_paths = []\n",
    "subject_paths = [r'./MCI (2years)/', r'./MCI (1year)/', r'./MCI (3years)/']\n",
    "for subject_path in tqdm(subject_paths, disable=True):\n",
    "    for one_file in tqdm(os.listdir(subject_path), colour='green'):\n",
    "        if dashMatch.search(one_file):\n",
    "            continue\n",
    "        n_dir = os.path.join(subject_path, one_file)\n",
    "        if not os.path.isdir(n_dir):\n",
    "            continue\n",
    "        nn_dir = os.path.join(n_dir, 'func')\n",
    "        for two_file in os.listdir(nn_dir):\n",
    "            if not two_file.startswith('swar'):\n",
    "                continue\n",
    "            fmri_path = os.path.join(nn_dir, two_file)\n",
    "            file_paths.append(fmri_path)\n",
    "sorted_fmri_paths = sorted(file_paths)"
   ]
  },
  {
   "cell_type": "code",
   "execution_count": 51,
   "metadata": {},
   "outputs": [
    {
     "name": "stderr",
     "output_type": "stream",
     "text": [
      "100%|\u001b[32m██████████\u001b[0m| 38/38 [00:00<00:00, 3806.63it/s]\n"
     ]
    }
   ],
   "source": [
    "# getting all the paths\n",
    "# for loop over all the subjects\n",
    "cn_fmri_file_paths = []\n",
    "subject_paths = [r'D:\\adni datasets\\CN (2years)']\n",
    "for subject_path in tqdm(subject_paths, disable=True):\n",
    "    for one_file in tqdm(os.listdir(subject_path), colour='green'):\n",
    "        if dashMatch.search(one_file):\n",
    "            continue\n",
    "        n_dir = os.path.join(subject_path, one_file)\n",
    "        if not os.path.isdir(n_dir):\n",
    "            continue\n",
    "        nn_dir = os.path.join(n_dir, 'func')\n",
    "        for two_file in os.listdir(nn_dir):\n",
    "            if not two_file.startswith('swar'):\n",
    "                continue\n",
    "            fmri_path = os.path.join(nn_dir, two_file)\n",
    "            cn_fmri_file_paths.append(fmri_path)\n",
    "sorted_cn_fmri_paths = sorted(cn_fmri_file_paths)"
   ]
  },
  {
   "cell_type": "code",
   "execution_count": 5,
   "metadata": {},
   "outputs": [],
   "source": [
    "# regex for starts with 'wm' then `numbers` at end '.nii'\n",
    "wm_match = re.compile(r'^wm.*\\.nii$')"
   ]
  },
  {
   "cell_type": "code",
   "execution_count": null,
   "metadata": {},
   "outputs": [],
   "source": [
    "# all smri paths\n",
    "smri_paths = []\n",
    "smri_path = r'D:\\adni datasets\\MCI_structural_all'\n",
    "for year_dir in os.listdir(smri_path):\n",
    "    year_path = os.path.join(smri_path, year_dir)\n",
    "    if not os.path.isdir(year_path):\n",
    "        continue\n",
    "    for subject in os.listdir(year_path):\n",
    "        subject_path = os.path.join(year_path, subject)\n",
    "        images_path = os.path.join(subject_path, 'mri')\n",
    "        for image_file in os.listdir(images_path):\n",
    "            if not wm_match.search(image_file):\n",
    "                continue\n",
    "            image_path = os.path.join(images_path, image_file)\n",
    "            smri_paths.append(image_path)\n",
    "sorted_smri_paths = sorted(smri_paths)\n",
    "        "
   ]
  },
  {
   "cell_type": "code",
   "execution_count": 41,
   "metadata": {},
   "outputs": [],
   "source": [
    "# all smri paths\n",
    "cn_smri_paths = []\n",
    "smri_path = r'D:\\adni datasets\\CN_structural_all (2years)\\CN (2years)'\n",
    "for subject in os.listdir(smri_path):\n",
    "    subject_path = os.path.join(smri_path, subject)\n",
    "    images_path = os.path.join(subject_path, 'mri')\n",
    "    for image_file in os.listdir(images_path):\n",
    "        if not wm_match.search(image_file):\n",
    "            continue\n",
    "        image_path = os.path.join(images_path, image_file)\n",
    "        cn_smri_paths.append(image_path)\n",
    "sorted_cn_smri_paths = sorted(cn_smri_paths)"
   ]
  },
  {
   "cell_type": "code",
   "execution_count": 55,
   "metadata": {},
   "outputs": [],
   "source": [
    "# comparing the paths\n",
    "for i, (fmri_path, smri_path) in enumerate(zip(sorted_cn_fmri_paths, sorted_cn_smri_paths)):\n",
    "    # getting the end of the path\n",
    "    fmri_path_end = fmri_path.split('\\\\')[-1]\n",
    "    smri_path_end = smri_path.split('\\\\')[-1]\n",
    "    if fmri_path_end[4:] != smri_path_end[2:]:\n",
    "        print(f'{i}: {fmri_path_end} != {smri_path_end}')"
   ]
  },
  {
   "cell_type": "code",
   "execution_count": 8,
   "metadata": {},
   "outputs": [
    {
     "data": {
      "text/plain": [
       "(52, 52)"
      ]
     },
     "execution_count": 8,
     "metadata": {},
     "output_type": "execute_result"
    }
   ],
   "source": [
    "len(sorted_fmri_paths), len(sorted_smri_paths)"
   ]
  },
  {
   "cell_type": "code",
   "execution_count": 57,
   "metadata": {},
   "outputs": [
    {
     "name": "stderr",
     "output_type": "stream",
     "text": [
      "100%|\u001b[32m██████████\u001b[0m| 30/30 [00:03<00:00,  7.81it/s]\n"
     ]
    }
   ],
   "source": [
    "# loading the MCI structural images from smri_paths\n",
    "cn_smri_images = []\n",
    "for smri_path in tqdm(sorted_cn_smri_paths, colour='green', disable=False):\n",
    "    smri_image = nib.load(smri_path)\n",
    "    cn_smri_images.append(smri_image.get_fdata())"
   ]
  },
  {
   "cell_type": "code",
   "execution_count": 58,
   "metadata": {},
   "outputs": [],
   "source": [
    "# checking for null values\n",
    "for i, smri_image in enumerate(cn_smri_images):\n",
    "    if smri_image is None:\n",
    "        print(f'{i}: {smri_image}')"
   ]
  },
  {
   "cell_type": "code",
   "execution_count": 59,
   "metadata": {},
   "outputs": [],
   "source": [
    "# pickle dump\n",
    "cn_smri_images = np.array(cn_smri_images)\n",
    "with open('feature_extraction\\cat12_CN_structural_features.pkl', 'wb') as f:\n",
    "    pickle.dump(cn_smri_images, f)"
   ]
  },
  {
   "cell_type": "code",
   "execution_count": 2,
   "metadata": {},
   "outputs": [
    {
     "data": {
      "text/plain": [
       "(47, 56, 47, 197)"
      ]
     },
     "execution_count": 2,
     "metadata": {},
     "output_type": "execute_result"
    }
   ],
   "source": [
    "fmri_4d_path  = r'MCI (2years)\\003_S_0908\\func\\swar003_S_0908.nii'  # fMRI file\n",
    "fmri_img = nib.load(fmri_4d_path)\n",
    "img = image.load_img(fmri_img)\n",
    "img.shape"
   ]
  },
  {
   "cell_type": "code",
   "execution_count": 3,
   "metadata": {},
   "outputs": [
    {
     "name": "stdout",
     "output_type": "stream",
     "text": [
      "AAL atlas has 116 ROIs.\n",
      "Regions in AAL atlas: ['Precentral_L', 'Precentral_R', 'Frontal_Sup_L', 'Frontal_Sup_R', 'Frontal_Sup_Orb_L', 'Frontal_Sup_Orb_R', 'Frontal_Mid_L', 'Frontal_Mid_R', 'Frontal_Mid_Orb_L', 'Frontal_Mid_Orb_R', 'Frontal_Inf_Oper_L', 'Frontal_Inf_Oper_R', 'Frontal_Inf_Tri_L', 'Frontal_Inf_Tri_R', 'Frontal_Inf_Orb_L', 'Frontal_Inf_Orb_R', 'Rolandic_Oper_L', 'Rolandic_Oper_R', 'Supp_Motor_Area_L', 'Supp_Motor_Area_R', 'Olfactory_L', 'Olfactory_R', 'Frontal_Sup_Medial_L', 'Frontal_Sup_Medial_R', 'Frontal_Med_Orb_L', 'Frontal_Med_Orb_R', 'Rectus_L', 'Rectus_R', 'Insula_L', 'Insula_R', 'Cingulum_Ant_L', 'Cingulum_Ant_R', 'Cingulum_Mid_L', 'Cingulum_Mid_R', 'Cingulum_Post_L', 'Cingulum_Post_R', 'Hippocampus_L', 'Hippocampus_R', 'ParaHippocampal_L', 'ParaHippocampal_R', 'Amygdala_L', 'Amygdala_R', 'Calcarine_L', 'Calcarine_R', 'Cuneus_L', 'Cuneus_R', 'Lingual_L', 'Lingual_R', 'Occipital_Sup_L', 'Occipital_Sup_R', 'Occipital_Mid_L', 'Occipital_Mid_R', 'Occipital_Inf_L', 'Occipital_Inf_R', 'Fusiform_L', 'Fusiform_R', 'Postcentral_L', 'Postcentral_R', 'Parietal_Sup_L', 'Parietal_Sup_R', 'Parietal_Inf_L', 'Parietal_Inf_R', 'SupraMarginal_L', 'SupraMarginal_R', 'Angular_L', 'Angular_R', 'Precuneus_L', 'Precuneus_R', 'Paracentral_Lobule_L', 'Paracentral_Lobule_R', 'Caudate_L', 'Caudate_R', 'Putamen_L', 'Putamen_R', 'Pallidum_L', 'Pallidum_R', 'Thalamus_L', 'Thalamus_R', 'Heschl_L', 'Heschl_R', 'Temporal_Sup_L', 'Temporal_Sup_R', 'Temporal_Pole_Sup_L', 'Temporal_Pole_Sup_R', 'Temporal_Mid_L', 'Temporal_Mid_R', 'Temporal_Pole_Mid_L', 'Temporal_Pole_Mid_R', 'Temporal_Inf_L', 'Temporal_Inf_R', 'Cerebelum_Crus1_L', 'Cerebelum_Crus1_R', 'Cerebelum_Crus2_L', 'Cerebelum_Crus2_R', 'Cerebelum_3_L', 'Cerebelum_3_R', 'Cerebelum_4_5_L', 'Cerebelum_4_5_R', 'Cerebelum_6_L', 'Cerebelum_6_R', 'Cerebelum_7b_L', 'Cerebelum_7b_R', 'Cerebelum_8_L', 'Cerebelum_8_R', 'Cerebelum_9_L', 'Cerebelum_9_R', 'Cerebelum_10_L', 'Cerebelum_10_R', 'Vermis_1_2', 'Vermis_3', 'Vermis_4_5', 'Vermis_6', 'Vermis_7', 'Vermis_8', 'Vermis_9', 'Vermis_10'], 116\n"
     ]
    }
   ],
   "source": [
    "# Fetch the AAL atlas\n",
    "aal_atlas = datasets.fetch_atlas_aal()\n",
    "\n",
    "# Get the number of regions (ROIs) from AAL atlas\n",
    "n_regions = len(aal_atlas['labels'])\n",
    "\n",
    "print(f'AAL atlas has {n_regions} ROIs.')\n",
    "\n",
    "# Print the first few region names\n",
    "print(f\"Regions in AAL atlas: {aal_atlas['labels'][:]}, {len(aal_atlas['labels'][:])}\")"
   ]
  },
  {
   "cell_type": "markdown",
   "metadata": {},
   "source": [
    "## For all the files :)"
   ]
  },
  {
   "cell_type": "code",
   "execution_count": 61,
   "metadata": {},
   "outputs": [],
   "source": [
    "aal_atlas = datasets.fetch_atlas_aal()"
   ]
  },
  {
   "cell_type": "code",
   "execution_count": 62,
   "metadata": {},
   "outputs": [],
   "source": [
    "masker = maskers.NiftiLabelsMasker(\n",
    "    labels_img=aal_atlas.maps,  # Use maps_img instead of maps\n",
    "    resampling_target=\"data\",\n",
    "    t_r=3, \n",
    "    detrend=True,\n",
    "    low_pass=0.1, \n",
    "    high_pass=0.01\n",
    ")"
   ]
  },
  {
   "cell_type": "code",
   "execution_count": 63,
   "metadata": {},
   "outputs": [],
   "source": [
    "correlation_measure = ConnectivityMeasure(kind='correlation')"
   ]
  },
  {
   "cell_type": "code",
   "execution_count": 64,
   "metadata": {},
   "outputs": [
    {
     "name": "stderr",
     "output_type": "stream",
     "text": [
      "100%|██████████| 30/30 [05:57<00:00, 11.92s/it]\n"
     ]
    }
   ],
   "source": [
    "# for loop over all the subjects\n",
    "final_features = []\n",
    "for fmri_path in tqdm(sorted_cn_fmri_paths):\n",
    "    fmri_img = nib.load(fmri_path)\n",
    "    img = image.load_img(fmri_img)\n",
    "    features = masker.fit_transform(fmri_img)\n",
    "    correlation_matrix = correlation_measure.fit_transform([features])[0]\n",
    "    final_features.append(correlation_matrix.reshape(-1))"
   ]
  },
  {
   "cell_type": "code",
   "execution_count": 65,
   "metadata": {},
   "outputs": [],
   "source": [
    "# checking for null values in the final_features\n",
    "for i, feature in enumerate(final_features):\n",
    "    if np.isnan(feature).any():\n",
    "        print(f'{i}: {feature}')"
   ]
  },
  {
   "cell_type": "code",
   "execution_count": 66,
   "metadata": {},
   "outputs": [
    {
     "data": {
      "text/plain": [
       "(30, 13456)"
      ]
     },
     "execution_count": 66,
     "metadata": {},
     "output_type": "execute_result"
    }
   ],
   "source": [
    "final_features = np.array(final_features)\n",
    "final_features.shape"
   ]
  },
  {
   "cell_type": "code",
   "execution_count": 67,
   "metadata": {},
   "outputs": [],
   "source": [
    "pickle.dump(final_features, open(r'./feature_extraction/CN_func_features.pkl', 'wb'))"
   ]
  },
  {
   "cell_type": "code",
   "execution_count": 3,
   "metadata": {},
   "outputs": [],
   "source": [
    "mci_data = pickle.load(open(r'feature_extraction\\MCI_func_features.pkl', 'rb'))\n",
    "ad_data = (pickle.load(open(r'feature_extraction\\AD_func_features.pkl', 'rb')))\n",
    "cn_data = pickle.load(open(r'./feature_extraction/CN_func_features.pkl', 'rb'))"
   ]
  },
  {
   "cell_type": "code",
   "execution_count": 8,
   "metadata": {},
   "outputs": [
    {
     "data": {
      "text/plain": [
       "(122, 13456)"
      ]
     },
     "execution_count": 8,
     "metadata": {},
     "output_type": "execute_result"
    }
   ],
   "source": [
    "func_data = np.concatenate((mci_data, ad_data, cn_data), axis=0)\n",
    "func_data.shape"
   ]
  },
  {
   "cell_type": "code",
   "execution_count": 6,
   "metadata": {},
   "outputs": [
    {
     "data": {
      "text/plain": [
       "((52, 13456), (40, 13456))"
      ]
     },
     "execution_count": 6,
     "metadata": {},
     "output_type": "execute_result"
    }
   ],
   "source": [
    "mci_data.shape, ad_data.shape"
   ]
  },
  {
   "cell_type": "code",
   "execution_count": 9,
   "metadata": {},
   "outputs": [
    {
     "data": {
      "text/plain": [
       "(122,)"
      ]
     },
     "execution_count": 9,
     "metadata": {},
     "output_type": "execute_result"
    }
   ],
   "source": [
    "y = np.zeros((mci_data.shape[0],))\n",
    "y = np.append(y, np.ones((ad_data.shape[0],)))\n",
    "y = np.append(y, np.full((cn_data.shape[0],), 2))\n",
    "y.shape"
   ]
  },
  {
   "cell_type": "code",
   "execution_count": 10,
   "metadata": {},
   "outputs": [
    {
     "data": {
      "text/plain": [
       "array([0., 0., 0., 0., 0., 0., 0., 0., 0., 0., 0., 0., 0., 0., 0., 0., 0.,\n",
       "       0., 0., 0., 0., 0., 0., 0., 0., 0., 0., 0., 0., 0., 0., 0., 0., 0.,\n",
       "       0., 0., 0., 0., 0., 0., 0., 0., 0., 0., 0., 0., 0., 0., 0., 0., 0.,\n",
       "       0., 1., 1., 1., 1., 1., 1., 1., 1., 1., 1., 1., 1., 1., 1., 1., 1.,\n",
       "       1., 1., 1., 1., 1., 1., 1., 1., 1., 1., 1., 1., 1., 1., 1., 1., 1.,\n",
       "       1., 1., 1., 1., 1., 1., 1., 2., 2., 2., 2., 2., 2., 2., 2., 2., 2.,\n",
       "       2., 2., 2., 2., 2., 2., 2., 2., 2., 2., 2., 2., 2., 2., 2., 2., 2.,\n",
       "       2., 2., 2.])"
      ]
     },
     "execution_count": 10,
     "metadata": {},
     "output_type": "execute_result"
    }
   ],
   "source": [
    "y"
   ]
  },
  {
   "cell_type": "code",
   "execution_count": null,
   "metadata": {},
   "outputs": [
    {
     "data": {
      "text/plain": [
       "True"
      ]
     },
     "execution_count": 35,
     "metadata": {},
     "output_type": "execute_result"
    }
   ],
   "source": [
    "# checking for nan values in mci_ad data\n",
    "np.isnan(mci_ad).any() # True\n",
    "# checking for nan values in cn_data\n",
    "np.isnan(ad_data).any() # False\n",
    "# checking for nan values in mci_data\n",
    "np.isnan(mci_data).any() # True"
   ]
  },
  {
   "cell_type": "code",
   "execution_count": 36,
   "metadata": {},
   "outputs": [],
   "source": [
    "# replacing nan with 0\n",
    "mci_ad = np.nan_to_num(mci_ad)"
   ]
  },
  {
   "cell_type": "code",
   "execution_count": 12,
   "metadata": {},
   "outputs": [
    {
     "data": {
      "text/plain": [
       "((97, 13456), (25, 13456), (97,), (25,))"
      ]
     },
     "execution_count": 12,
     "metadata": {},
     "output_type": "execute_result"
    }
   ],
   "source": [
    "# test data train data\n",
    "from sklearn.model_selection import train_test_split\n",
    "X_train, X_test, y_train, y_test = train_test_split(func_data, y, test_size=0.2, random_state=42)\n",
    "X_train.shape, X_test.shape, y_train.shape, y_test.shape"
   ]
  },
  {
   "cell_type": "code",
   "execution_count": 13,
   "metadata": {},
   "outputs": [
    {
     "name": "stdout",
     "output_type": "stream",
     "text": [
      "kernal  linear\n",
      "test accuracy  0.56\n",
      "train accuracy  1.0\n",
      "------\n",
      "kernal  poly\n",
      "test accuracy  0.64\n",
      "train accuracy  1.0\n",
      "------\n",
      "kernal  rbf\n",
      "test accuracy  0.56\n",
      "train accuracy  0.9484536082474226\n",
      "------\n",
      "kernal  sigmoid\n",
      "test accuracy  0.48\n",
      "train accuracy  0.41237113402061853\n",
      "------\n"
     ]
    }
   ],
   "source": [
    "# SVM\n",
    "from sklearn.svm import SVC\n",
    "from sklearn.metrics import accuracy_score\n",
    "\n",
    "kernals = ['linear', 'poly', 'rbf', 'sigmoid']\n",
    "for kernal in kernals:\n",
    "    model = SVC(kernel=kernal)\n",
    "    model.fit(X_train, y_train)\n",
    "    y_pred = model.predict(X_test)\n",
    "    print(\"kernal \",kernal)\n",
    "    print(\"test accuracy \",accuracy_score(y_test, y_pred))\n",
    "    print(\"train accuracy \",accuracy_score(y_train, model.predict(X_train)))\n",
    "    print(\"------\")\n",
    "# model = SVC()\n",
    "# model.fit(X_train, y_train)\n",
    "# y_pred = model.predict(X_test)\n",
    "# print(\"test accuracy \",accuracy_score(y_test, y_pred))\n",
    "# print(\"train accuracy \",accuracy_score(y_train, model.predict(X_train)))"
   ]
  },
  {
   "cell_type": "code",
   "execution_count": 14,
   "metadata": {},
   "outputs": [
    {
     "name": "stdout",
     "output_type": "stream",
     "text": [
      "XGBoost test accuracy: 0.44\n",
      "XGBoost train accuracy: 1.0\n"
     ]
    }
   ],
   "source": [
    "# Import necessary libraries\n",
    "from xgboost import XGBClassifier\n",
    "from sklearn.metrics import accuracy_score\n",
    "\n",
    "# Initialize the XGBoost model\n",
    "model = XGBClassifier()\n",
    "\n",
    "# Train the model\n",
    "model.fit(X_train, y_train)\n",
    "\n",
    "# Predict on the test set\n",
    "y_pred = model.predict(X_test)\n",
    "\n",
    "# Print the accuracy\n",
    "print(\"XGBoost test accuracy:\", accuracy_score(y_test, y_pred))\n",
    "print(\"XGBoost train accuracy:\", accuracy_score(y_train, model.predict(X_train)))"
   ]
  },
  {
   "cell_type": "code",
   "execution_count": 15,
   "metadata": {},
   "outputs": [
    {
     "data": {
      "text/plain": [
       "((97, 88), (25, 88))"
      ]
     },
     "execution_count": 15,
     "metadata": {},
     "output_type": "execute_result"
    }
   ],
   "source": [
    "# feature extraction with PCA\n",
    "from sklearn.decomposition import PCA\n",
    "pca = PCA(n_components=0.99)\n",
    "X_train_pca = pca.fit_transform(X_train)\n",
    "X_test_pca = pca.transform(X_test)\n",
    "X_train_pca.shape, X_test_pca.shape"
   ]
  },
  {
   "cell_type": "code",
   "execution_count": 16,
   "metadata": {},
   "outputs": [
    {
     "name": "stdout",
     "output_type": "stream",
     "text": [
      "test accuracy  0.48\n",
      "train accuracy  0.979381443298969\n"
     ]
    }
   ],
   "source": [
    "# SVM with PCA\n",
    "model2 = SVC()\n",
    "model2.fit(X_train_pca, y_train)\n",
    "y_pred_pca = model2.predict(X_test_pca)\n",
    "print(\"test accuracy \", accuracy_score(y_test, y_pred_pca))\n",
    "print(\"train accuracy \", accuracy_score(y_train, model2.predict(X_train_pca)))"
   ]
  },
  {
   "cell_type": "code",
   "execution_count": 17,
   "metadata": {},
   "outputs": [
    {
     "data": {
      "text/plain": [
       "((97, 2), (25, 2))"
      ]
     },
     "execution_count": 17,
     "metadata": {},
     "output_type": "execute_result"
    }
   ],
   "source": [
    "# trying with LDA\n",
    "from sklearn.discriminant_analysis import LinearDiscriminantAnalysis\n",
    "lda = LinearDiscriminantAnalysis()\n",
    "X_train_lda = lda.fit_transform(X_train, y_train)\n",
    "X_test_lda = lda.transform(X_test)\n",
    "X_train_lda.shape, X_test_lda.shape"
   ]
  },
  {
   "cell_type": "code",
   "execution_count": null,
   "metadata": {},
   "outputs": [
    {
     "name": "stdout",
     "output_type": "stream",
     "text": [
      "test accuracy  0.52\n",
      "train accuracy  0.8247422680412371\n"
     ]
    }
   ],
   "source": [
    "# SVM with LDA\n",
    "\n",
    "model3 = SVC()\n",
    "model3.fit(X_train_lda, y_train)\n",
    "y_pred_lda = model3.predict(X_test_lda)\n",
    "print(\"test accuracy \", accuracy_score(y_test, y_pred_lda))\n",
    "print(\"train accuracy \", accuracy_score(y_train, model3.predict(X_train_lda)))"
   ]
  },
  {
   "cell_type": "code",
   "execution_count": 19,
   "metadata": {},
   "outputs": [
    {
     "name": "stdout",
     "output_type": "stream",
     "text": [
      "Cross-validation scores: [0.7        0.5        0.47368421 0.52631579 0.57894737]\n",
      "Mean cross-validation score: 0.5557894736842105\n"
     ]
    }
   ],
   "source": [
    "from sklearn.model_selection import cross_val_score\n",
    "from sklearn.discriminant_analysis import LinearDiscriminantAnalysis\n",
    "from sklearn.svm import SVC\n",
    "from sklearn.pipeline import Pipeline\n",
    "\n",
    "# Create a pipeline with LDA and SVM\n",
    "pipeline = Pipeline([\n",
    "    ('lda', LinearDiscriminantAnalysis()),\n",
    "    ('svm', SVC())\n",
    "])\n",
    "\n",
    "# Perform cross-validation\n",
    "scores = cross_val_score(pipeline, X_train, y_train, cv=5)\n",
    "print(\"Cross-validation scores:\", scores)\n",
    "print(\"Mean cross-validation score:\", scores.mean())"
   ]
  },
  {
   "cell_type": "code",
   "execution_count": 20,
   "metadata": {},
   "outputs": [
    {
     "name": "stdout",
     "output_type": "stream",
     "text": [
      "Cross-validation scores: [0.75       0.35       0.52631579 0.57894737 0.57894737]\n",
      "Mean cross-validation score: 0.5568421052631579\n"
     ]
    }
   ],
   "source": [
    "pipeline2 = Pipeline([\n",
    "    ('pca', PCA(n_components=0.99)),\n",
    "    ('svm', SVC())\n",
    "])\n",
    "\n",
    "# Perform cross-validation\n",
    "scores = cross_val_score(pipeline2, X_train, y_train, cv=5)\n",
    "print(\"Cross-validation scores:\", scores)\n",
    "print(\"Mean cross-validation score:\", scores.mean())"
   ]
  },
  {
   "cell_type": "code",
   "execution_count": 22,
   "metadata": {},
   "outputs": [],
   "source": [
    "# standard scalar\n",
    "from sklearn.preprocessing import MinMaxScaler\n",
    "mms = MinMaxScaler()\n",
    "X_train_scaled = mms.fit_transform(X_train)"
   ]
  },
  {
   "cell_type": "code",
   "execution_count": 26,
   "metadata": {},
   "outputs": [
    {
     "ename": "NameError",
     "evalue": "name 'X_train_scaled' is not defined",
     "output_type": "error",
     "traceback": [
      "\u001b[1;31m---------------------------------------------------------------------------\u001b[0m",
      "\u001b[1;31mNameError\u001b[0m                                 Traceback (most recent call last)",
      "Cell \u001b[1;32mIn[26], line 3\u001b[0m\n\u001b[0;32m      1\u001b[0m \u001b[38;5;66;03m# SVM with standard scalar\u001b[39;00m\n\u001b[0;32m      2\u001b[0m model4 \u001b[38;5;241m=\u001b[39m SVC()\n\u001b[1;32m----> 3\u001b[0m model4\u001b[38;5;241m.\u001b[39mfit(\u001b[43mX_train_scaled\u001b[49m, y_train)\n\u001b[0;32m      4\u001b[0m X_test_scaled \u001b[38;5;241m=\u001b[39m mms\u001b[38;5;241m.\u001b[39mtransform(X_test)\n\u001b[0;32m      5\u001b[0m y_pred_scaled \u001b[38;5;241m=\u001b[39m model4\u001b[38;5;241m.\u001b[39mpredict(X_test_scaled)\n",
      "\u001b[1;31mNameError\u001b[0m: name 'X_train_scaled' is not defined"
     ]
    }
   ],
   "source": [
    "# SVM with standard scalar\n",
    "model4 = SVC()\n",
    "model4.fit(X_train_scaled, y_train)\n",
    "X_test_scaled = mms.transform(X_test)\n",
    "y_pred_scaled = model4.predict(X_test_scaled)\n",
    "accuracy_score(y_test, y_pred_scaled)"
   ]
  },
  {
   "cell_type": "code",
   "execution_count": 21,
   "metadata": {},
   "outputs": [
    {
     "ename": "NameError",
     "evalue": "name 'X_train_scaled' is not defined",
     "output_type": "error",
     "traceback": [
      "\u001b[1;31m---------------------------------------------------------------------------\u001b[0m",
      "\u001b[1;31mNameError\u001b[0m                                 Traceback (most recent call last)",
      "Cell \u001b[1;32mIn[21], line 8\u001b[0m\n\u001b[0;32m      2\u001b[0m pipeline3 \u001b[38;5;241m=\u001b[39m Pipeline([\n\u001b[0;32m      3\u001b[0m     (\u001b[38;5;124m'\u001b[39m\u001b[38;5;124mlda\u001b[39m\u001b[38;5;124m'\u001b[39m, LinearDiscriminantAnalysis()),\n\u001b[0;32m      4\u001b[0m     (\u001b[38;5;124m'\u001b[39m\u001b[38;5;124msvm\u001b[39m\u001b[38;5;124m'\u001b[39m, SVC())\n\u001b[0;32m      5\u001b[0m ])\n\u001b[0;32m      7\u001b[0m \u001b[38;5;66;03m# Perform cross-validation\u001b[39;00m\n\u001b[1;32m----> 8\u001b[0m scores \u001b[38;5;241m=\u001b[39m cross_val_score(pipeline3, \u001b[43mX_train_scaled\u001b[49m, y_train, cv\u001b[38;5;241m=\u001b[39m\u001b[38;5;241m5\u001b[39m)\n\u001b[0;32m      9\u001b[0m \u001b[38;5;28mprint\u001b[39m(\u001b[38;5;124m\"\u001b[39m\u001b[38;5;124mCross-validation scores:\u001b[39m\u001b[38;5;124m\"\u001b[39m, scores)\n\u001b[0;32m     10\u001b[0m \u001b[38;5;28mprint\u001b[39m(\u001b[38;5;124m\"\u001b[39m\u001b[38;5;124mMean cross-validation score:\u001b[39m\u001b[38;5;124m\"\u001b[39m, scores\u001b[38;5;241m.\u001b[39mmean())\n",
      "\u001b[1;31mNameError\u001b[0m: name 'X_train_scaled' is not defined"
     ]
    }
   ],
   "source": [
    "# Create a pipeline with LDA and SVM\n",
    "pipeline3 = Pipeline([\n",
    "    ('lda', LinearDiscriminantAnalysis()),\n",
    "    ('svm', SVC())\n",
    "])\n",
    "\n",
    "# Perform cross-validation\n",
    "scores = cross_val_score(pipeline3, X_train_scaled, y_train, cv=5)\n",
    "print(\"Cross-validation scores:\", scores)\n",
    "print(\"Mean cross-validation score:\", scores.mean())"
   ]
  },
  {
   "cell_type": "code",
   "execution_count": 25,
   "metadata": {},
   "outputs": [
    {
     "name": "stdout",
     "output_type": "stream",
     "text": [
      "Cross-validation scores: [0.6        0.66666667 0.53333333 0.53333333 0.71428571]\n",
      "Mean cross-validation score: 0.6095238095238095\n"
     ]
    }
   ],
   "source": [
    "pipeline4 = Pipeline([\n",
    "    ('pca', PCA(n_components=0.99)),\n",
    "    ('svm', SVC())\n",
    "])\n",
    "\n",
    "# Perform cross-validation\n",
    "scores = cross_val_score(pipeline4, X_train_scaled, y_train, cv=5)\n",
    "print(\"Cross-validation scores:\", scores)\n",
    "print(\"Mean cross-validation score:\", scores.mean())"
   ]
  },
  {
   "cell_type": "code",
   "execution_count": 26,
   "metadata": {},
   "outputs": [],
   "source": [
    "aal_atlas = datasets.fetch_atlas_aal()"
   ]
  },
  {
   "cell_type": "code",
   "execution_count": 27,
   "metadata": {},
   "outputs": [],
   "source": [
    "aal_atlas = datasets.fetch_atlas_aal()\n",
    "struct_masker = NiftiLabelsMasker(\n",
    "    labels_img=aal_atlas.maps,  # ROI map from the AAL atlas\n",
    "    standardize=True,           # Standardize data (mean=0, variance=1)\n",
    "    smoothing_fwhm=4            # Apply spatial smoothing (optional, adjust as needed)\n",
    ").fit()"
   ]
  },
  {
   "cell_type": "code",
   "execution_count": 28,
   "metadata": {},
   "outputs": [],
   "source": [
    "import seaborn as sns\n",
    "import matplotlib.pyplot as plt"
   ]
  },
  {
   "cell_type": "code",
   "execution_count": 29,
   "metadata": {},
   "outputs": [],
   "source": [
    "cm = np.array([[1942, 17, 8], [8, 1986, 16], [11, 17, 1943]])\n",
    "labels = ['AD', 'CN', 'MCI']"
   ]
  },
  {
   "cell_type": "code",
   "execution_count": 30,
   "metadata": {},
   "outputs": [
    {
     "data": {
      "image/png": "[encoded data removed]",
      "text/plain": [
       "<Figure size 600x400 with 2 Axes>"
      ]
     },
     "metadata": {},
     "output_type": "display_data"
    }
   ],
   "source": [
    "# Plotting\n",
    "plt.figure(figsize=(6,4))\n",
    "sns.heatmap(cm, annot=True, fmt='d', cmap='Blues', xticklabels=labels, yticklabels=labels)\n",
    "plt.xlabel(\"Predicted Labels\")\n",
    "plt.ylabel(\"Actual Labels\")\n",
    "plt.savefig(\"confusion_matrix.png\", dpi=300)"
   ]
  },
  {
   "cell_type": "code",
   "execution_count": 22,
   "metadata": {},
   "outputs": [
    {
     "name": "stdout",
     "output_type": "stream",
     "text": [
      "test accuracy  0.56\n",
      "train accuracy  1.0\n"
     ]
    }
   ],
   "source": [
    "# random forest classifier\n",
    "from sklearn.ensemble import RandomForestClassifier\n",
    "model5 = RandomForestClassifier()\n",
    "model5.fit(X_train, y_train)\n",
    "y_pred_rf = model5.predict(X_test)\n",
    "print(\"test accuracy \", accuracy_score(y_test, y_pred_rf))\n",
    "print(\"train accuracy \", accuracy_score(y_train, model5.predict(X_train)))"
   ]
  },
  {
   "cell_type": "code",
   "execution_count": 40,
   "metadata": {},
   "outputs": [
    {
     "name": "stdout",
     "output_type": "stream",
     "text": [
      "Collecting prettytable\n",
      "  Downloading prettytable-3.12.0-py3-none-any.whl.metadata (30 kB)\n",
      "Requirement already satisfied: wcwidth in c:\\users\\maddi\\anaconda3\\envs\\torch_gpu\\lib\\site-packages (from prettytable) (0.2.13)\n",
      "Downloading prettytable-3.12.0-py3-none-any.whl (31 kB)\n",
      "Installing collected packages: prettytable\n",
      "Successfully installed prettytable-3.12.0\n",
      "Note: you may need to restart the kernel to use updated packages.\n"
     ]
    }
   ],
   "source": [
    "%pip install prettytable"
   ]
  },
  {
   "cell_type": "code",
   "execution_count": 23,
   "metadata": {},
   "outputs": [
    {
     "name": "stdout",
     "output_type": "stream",
     "text": [
      "Random Forest Classifier\n",
      "----------\n",
      "+-----------+--------------+---------------+--------------------+\n",
      "| Criterion | n_estimators | test accuracy |   train accuracy   |\n",
      "+-----------+--------------+---------------+--------------------+\n",
      "|    gini   |      10      |      0.56     | 0.9896907216494846 |\n",
      "|    gini   |      50      |      0.56     |        1.0         |\n",
      "|    gini   |     100      |      0.56     |        1.0         |\n",
      "|    gini   |     200      |      0.6      |        1.0         |\n",
      "|    gini   |     500      |      0.6      |        1.0         |\n",
      "|  entropy  |      10      |      0.64     | 0.979381443298969  |\n",
      "|  entropy  |      50      |      0.48     |        1.0         |\n",
      "|  entropy  |     100      |      0.44     |        1.0         |\n",
      "|  entropy  |     200      |      0.52     |        1.0         |\n",
      "|  entropy  |     500      |      0.56     |        1.0         |\n",
      "|  log_loss |      10      |      0.32     |        1.0         |\n",
      "|  log_loss |      50      |      0.4      |        1.0         |\n",
      "|  log_loss |     100      |      0.64     |        1.0         |\n",
      "|  log_loss |     200      |      0.56     |        1.0         |\n",
      "|  log_loss |     500      |      0.6      |        1.0         |\n",
      "+-----------+--------------+---------------+--------------------+\n"
     ]
    }
   ],
   "source": [
    "# finding the right hyperparameters for random forest\n",
    "from prettytable import PrettyTable\n",
    "table = PrettyTable()\n",
    "table.field_names = [\"Criterion\", \"n_estimators\", \"test accuracy\", \"train accuracy\"]\n",
    "\n",
    "criterions = ['gini', 'entropy', 'log_loss']\n",
    "n_estimators = [10, 50, 100, 200, 500]\n",
    "print(\"Random Forest Classifier\\n----------\")\n",
    "for criterion in criterions:\n",
    "    for n_estimator in n_estimators:\n",
    "        model6 = RandomForestClassifier(criterion=criterion, n_estimators=n_estimator)\n",
    "        model6.fit(X_train, y_train)\n",
    "        y_pred_rf = model6.predict(X_test)\n",
    "        # tabular fomate with criterion, n_estimators with pretty tables\n",
    "        table.add_row([criterion, n_estimator, accuracy_score(y_test, y_pred_rf), accuracy_score(y_train, model6.predict(X_train))])\n",
    "print(table) "
   ]
  },
  {
   "cell_type": "code",
   "execution_count": 24,
   "metadata": {},
   "outputs": [
    {
     "name": "stdout",
     "output_type": "stream",
     "text": [
      "test accuracy  0.4\n",
      "train accuracy  1.0\n"
     ]
    }
   ],
   "source": [
    "# PCA + random forst\n",
    "pipeline4 = Pipeline([\n",
    "    ('pca', PCA(n_components=0.99)),\n",
    "    ('rf', RandomForestClassifier())\n",
    "])\n",
    "\n",
    "# test and train accuracy\n",
    "pipeline4.fit(X_train, y_train)\n",
    "y_pred_rf_pca = pipeline4.predict(X_test)\n",
    "print(\"test accuracy \", accuracy_score(y_test, y_pred_rf_pca))\n",
    "print(\"train accuracy \", accuracy_score(y_train, pipeline4.predict(X_train)))"
   ]
  },
  {
   "cell_type": "code",
   "execution_count": 25,
   "metadata": {},
   "outputs": [
    {
     "name": "stdout",
     "output_type": "stream",
     "text": [
      "test accuracy  0.6\n",
      "train accuracy  1.0\n"
     ]
    }
   ],
   "source": [
    "# LDA + random forst\n",
    "pipeline5 = Pipeline([\n",
    "    ('lda', LinearDiscriminantAnalysis()),\n",
    "    ('rf', RandomForestClassifier())\n",
    "])\n",
    "\n",
    "# test and train accuracy\n",
    "pipeline5.fit(X_train, y_train)\n",
    "y_pred_rf_lda = pipeline5.predict(X_test)\n",
    "print(\"test accuracy \", accuracy_score(y_test, y_pred_rf_lda))\n",
    "print(\"train accuracy \", accuracy_score(y_train, pipeline5.predict(X_train)))"
   ]
  },
  {
   "cell_type": "code",
   "execution_count": null,
   "metadata": {},
   "outputs": [],
   "source": []
  }
 ],
 "metadata": {
  "kernelspec": {
   "display_name": "torch_gpu",
   "language": "python",
   "name": "python3"
  },
  "language_info": {
   "codemirror_mode": {
    "name": "ipython",
    "version": 3
   },
   "file_extension": ".py",
   "mimetype": "text/x-python",
   "name": "python",
   "nbconvert_exporter": "python",
   "pygments_lexer": "ipython3",
   "version": "3.11.9"
  }
 },
 "nbformat": 4,
 "nbformat_minor": 2
}
