{
 "cells": [
  {
   "cell_type": "code",
   "execution_count": 1,
   "metadata": {},
   "outputs": [
    {
     "name": "stdout",
     "output_type": "stream",
     "text": [
      "WARNING:tensorflow:From c:\\Users\\maddi\\anaconda3\\Lib\\site-packages\\keras\\src\\losses.py:2976: The name tf.losses.sparse_softmax_cross_entropy is deprecated. Please use tf.compat.v1.losses.sparse_softmax_cross_entropy instead.\n",
      "\n"
     ]
    }
   ],
   "source": [
    "import tensorflow as tf\n",
    "from tensorflow.keras.models import Model\n",
    "from tensorflow.keras.layers import Input, Conv3D, MaxPooling3D, Flatten, Dense, Dropout, LSTM, TimeDistributed, BatchNormalization, Concatenate, Softmax\n",
    "import tensorflow.keras.backend as K"
   ]
  },
  {
   "cell_type": "code",
   "execution_count": 2,
   "metadata": {},
   "outputs": [],
   "source": [
    "# Self-Attention Mechanism\n",
    "def self_attention(inputs):\n",
    "    \"\"\"\n",
    "    Self-attention mechanism for feature refinement.\n",
    "    inputs: (batch_size, time_steps, features) OR (batch_size, features)\n",
    "    \"\"\"\n",
    "    query = Dense(inputs.shape[-1])(inputs)  # Learn query\n",
    "    key = Dense(inputs.shape[-1])(inputs)  # Learn key\n",
    "    value = Dense(inputs.shape[-1])(inputs)  # Learn value\n",
    "\n",
    "    # Compute attention scores (Scaled Dot-Product Attention)\n",
    "    scores = tf.matmul(query, key, transpose_b=True)  # (batch, time_steps, time_steps)\n",
    "    scores = scores / tf.sqrt(tf.cast(tf.shape(inputs)[-1], tf.float32))  # Scale\n",
    "    attention_weights = Softmax(axis=-1)(scores)  # Apply softmax\n",
    "\n",
    "    # Compute weighted sum of values\n",
    "    attended_output = tf.matmul(attention_weights, value)  # (batch, time_steps, features)\n",
    "\n",
    "    return attended_output"
   ]
  },
  {
   "cell_type": "code",
   "execution_count": 3,
   "metadata": {},
   "outputs": [
    {
     "name": "stdout",
     "output_type": "stream",
     "text": [
      "WARNING:tensorflow:From c:\\Users\\maddi\\anaconda3\\Lib\\site-packages\\keras\\src\\backend.py:1398: The name tf.executing_eagerly_outside_functions is deprecated. Please use tf.compat.v1.executing_eagerly_outside_functions instead.\n",
      "\n",
      "WARNING:tensorflow:From c:\\Users\\maddi\\anaconda3\\Lib\\site-packages\\keras\\src\\layers\\normalization\\batch_normalization.py:979: The name tf.nn.fused_batch_norm is deprecated. Please use tf.compat.v1.nn.fused_batch_norm instead.\n",
      "\n"
     ]
    }
   ],
   "source": [
    "# Define input shapes\n",
    "time_steps = 20  # fMRI time steps\n",
    "depth, height, width, channels = 64, 64, 64, 1  # 3D volume shape\n",
    "num_classes = 2  # Number of classification categories\n",
    "\n",
    "# --- fMRI Branch (3D-CNN → LSTM → Self-Attention) ---\n",
    "fmri_input = Input(shape=(time_steps, depth, height, width, channels), name=\"fMRI_Input\")\n",
    "\n",
    "x = TimeDistributed(Conv3D(32, (3, 3, 3), activation='relu', padding='same'))(fmri_input)\n",
    "x = TimeDistributed(MaxPooling3D((2, 2, 2)))(x)\n",
    "x = TimeDistributed(BatchNormalization())(x)\n",
    "\n",
    "x = TimeDistributed(Conv3D(64, (3, 3, 3), activation='relu', padding='same'))(x)\n",
    "x = TimeDistributed(MaxPooling3D((2, 2, 2)))(x)\n",
    "x = TimeDistributed(BatchNormalization())(x)\n",
    "\n",
    "x = TimeDistributed(Flatten())(x)\n",
    "x = LSTM(64, return_sequences=True)(x)  # Keep sequence for attention\n",
    "\n",
    "# Apply Self-Attention on LSTM Outputs\n",
    "x = self_attention(x)\n",
    "fmri_features = LSTM(64, return_sequences=False)(x)  # Extract final feature representation"
   ]
  },
  {
   "cell_type": "code",
   "execution_count": 4,
   "metadata": {},
   "outputs": [
    {
     "ename": "ResourceExhaustedError",
     "evalue": "{{function_node __wrapped__StatelessRandomUniformV2_device_/job:localhost/replica:0/task:0/device:CPU:0}} OOM when allocating tensor with shape[262144,262144] and type float on /job:localhost/replica:0/task:0/device:CPU:0 by allocator mklcpu [Op:StatelessRandomUniformV2] name: ",
     "output_type": "error",
     "traceback": [
      "\u001b[1;31m---------------------------------------------------------------------------\u001b[0m",
      "\u001b[1;31mResourceExhaustedError\u001b[0m                    Traceback (most recent call last)",
      "Cell \u001b[1;32mIn[4], line 13\u001b[0m\n\u001b[0;32m     10\u001b[0m y \u001b[38;5;241m=\u001b[39m BatchNormalization()(y)\n\u001b[0;32m     12\u001b[0m y \u001b[38;5;241m=\u001b[39m Flatten()(y)\n\u001b[1;32m---> 13\u001b[0m y \u001b[38;5;241m=\u001b[39m self_attention(y)  \u001b[38;5;66;03m# Apply Self-Attention on extracted features\u001b[39;00m\n\u001b[0;32m     14\u001b[0m smri_features \u001b[38;5;241m=\u001b[39m Dense(\u001b[38;5;241m64\u001b[39m, activation\u001b[38;5;241m=\u001b[39m\u001b[38;5;124m'\u001b[39m\u001b[38;5;124mrelu\u001b[39m\u001b[38;5;124m'\u001b[39m)(y)\n",
      "Cell \u001b[1;32mIn[2], line 7\u001b[0m, in \u001b[0;36mself_attention\u001b[1;34m(inputs)\u001b[0m\n\u001b[0;32m      2\u001b[0m \u001b[38;5;28;01mdef\u001b[39;00m \u001b[38;5;21mself_attention\u001b[39m(inputs):\n\u001b[0;32m      3\u001b[0m \u001b[38;5;250m    \u001b[39m\u001b[38;5;124;03m\"\"\"\u001b[39;00m\n\u001b[0;32m      4\u001b[0m \u001b[38;5;124;03m    Self-attention mechanism for feature refinement.\u001b[39;00m\n\u001b[0;32m      5\u001b[0m \u001b[38;5;124;03m    inputs: (batch_size, time_steps, features) OR (batch_size, features)\u001b[39;00m\n\u001b[0;32m      6\u001b[0m \u001b[38;5;124;03m    \"\"\"\u001b[39;00m\n\u001b[1;32m----> 7\u001b[0m     query \u001b[38;5;241m=\u001b[39m Dense(inputs\u001b[38;5;241m.\u001b[39mshape[\u001b[38;5;241m-\u001b[39m\u001b[38;5;241m1\u001b[39m])(inputs)  \u001b[38;5;66;03m# Learn query\u001b[39;00m\n\u001b[0;32m      8\u001b[0m     key \u001b[38;5;241m=\u001b[39m Dense(inputs\u001b[38;5;241m.\u001b[39mshape[\u001b[38;5;241m-\u001b[39m\u001b[38;5;241m1\u001b[39m])(inputs)  \u001b[38;5;66;03m# Learn key\u001b[39;00m\n\u001b[0;32m      9\u001b[0m     value \u001b[38;5;241m=\u001b[39m Dense(inputs\u001b[38;5;241m.\u001b[39mshape[\u001b[38;5;241m-\u001b[39m\u001b[38;5;241m1\u001b[39m])(inputs)  \u001b[38;5;66;03m# Learn value\u001b[39;00m\n",
      "File \u001b[1;32mc:\\Users\\maddi\\anaconda3\\Lib\\site-packages\\keras\\src\\utils\\traceback_utils.py:70\u001b[0m, in \u001b[0;36mfilter_traceback.<locals>.error_handler\u001b[1;34m(*args, **kwargs)\u001b[0m\n\u001b[0;32m     67\u001b[0m     filtered_tb \u001b[38;5;241m=\u001b[39m _process_traceback_frames(e\u001b[38;5;241m.\u001b[39m__traceback__)\n\u001b[0;32m     68\u001b[0m     \u001b[38;5;66;03m# To get the full stack trace, call:\u001b[39;00m\n\u001b[0;32m     69\u001b[0m     \u001b[38;5;66;03m# `tf.debugging.disable_traceback_filtering()`\u001b[39;00m\n\u001b[1;32m---> 70\u001b[0m     \u001b[38;5;28;01mraise\u001b[39;00m e\u001b[38;5;241m.\u001b[39mwith_traceback(filtered_tb) \u001b[38;5;28;01mfrom\u001b[39;00m \u001b[38;5;28;01mNone\u001b[39;00m\n\u001b[0;32m     71\u001b[0m \u001b[38;5;28;01mfinally\u001b[39;00m:\n\u001b[0;32m     72\u001b[0m     \u001b[38;5;28;01mdel\u001b[39;00m filtered_tb\n",
      "File \u001b[1;32mc:\\Users\\maddi\\anaconda3\\Lib\\site-packages\\keras\\src\\backend.py:2100\u001b[0m, in \u001b[0;36mRandomGenerator.random_uniform\u001b[1;34m(self, shape, minval, maxval, dtype, nonce)\u001b[0m\n\u001b[0;32m   2098\u001b[0m     \u001b[38;5;28;01mif\u001b[39;00m nonce:\n\u001b[0;32m   2099\u001b[0m         seed \u001b[38;5;241m=\u001b[39m tf\u001b[38;5;241m.\u001b[39mrandom\u001b[38;5;241m.\u001b[39mexperimental\u001b[38;5;241m.\u001b[39mstateless_fold_in(seed, nonce)\n\u001b[1;32m-> 2100\u001b[0m     \u001b[38;5;28;01mreturn\u001b[39;00m tf\u001b[38;5;241m.\u001b[39mrandom\u001b[38;5;241m.\u001b[39mstateless_uniform(\n\u001b[0;32m   2101\u001b[0m         shape\u001b[38;5;241m=\u001b[39mshape,\n\u001b[0;32m   2102\u001b[0m         minval\u001b[38;5;241m=\u001b[39mminval,\n\u001b[0;32m   2103\u001b[0m         maxval\u001b[38;5;241m=\u001b[39mmaxval,\n\u001b[0;32m   2104\u001b[0m         dtype\u001b[38;5;241m=\u001b[39mdtype,\n\u001b[0;32m   2105\u001b[0m         seed\u001b[38;5;241m=\u001b[39mseed,\n\u001b[0;32m   2106\u001b[0m     )\n\u001b[0;32m   2107\u001b[0m \u001b[38;5;28;01mreturn\u001b[39;00m tf\u001b[38;5;241m.\u001b[39mrandom\u001b[38;5;241m.\u001b[39muniform(\n\u001b[0;32m   2108\u001b[0m     shape\u001b[38;5;241m=\u001b[39mshape,\n\u001b[0;32m   2109\u001b[0m     minval\u001b[38;5;241m=\u001b[39mminval,\n\u001b[1;32m   (...)\u001b[0m\n\u001b[0;32m   2112\u001b[0m     seed\u001b[38;5;241m=\u001b[39m\u001b[38;5;28mself\u001b[39m\u001b[38;5;241m.\u001b[39mmake_legacy_seed(),\n\u001b[0;32m   2113\u001b[0m )\n",
      "\u001b[1;31mResourceExhaustedError\u001b[0m: {{function_node __wrapped__StatelessRandomUniformV2_device_/job:localhost/replica:0/task:0/device:CPU:0}} OOM when allocating tensor with shape[262144,262144] and type float on /job:localhost/replica:0/task:0/device:CPU:0 by allocator mklcpu [Op:StatelessRandomUniformV2] name: "
     ]
    }
   ],
   "source": [
    "# --- sMRI Branch (3D-CNN → Self-Attention) ---\n",
    "smri_input = Input(shape=(depth, height, width, channels), name=\"sMRI_Input\")\n",
    "\n",
    "y = Conv3D(32, (3, 3, 3), activation='relu', padding='same')(smri_input)\n",
    "y = MaxPooling3D((2, 2, 2))(y)\n",
    "y = BatchNormalization()(y)\n",
    "\n",
    "y = Conv3D(64, (3, 3, 3), activation='relu', padding='same')(y)\n",
    "y = MaxPooling3D((2, 2, 2))(y)\n",
    "y = BatchNormalization()(y)\n",
    "\n",
    "y = Flatten()(y)\n",
    "y = self_attention(y)  # Apply Self-Attention on extracted features\n",
    "smri_features = Dense(64, activation='relu')(y)"
   ]
  },
  {
   "cell_type": "code",
   "execution_count": null,
   "metadata": {},
   "outputs": [],
   "source": [
    "# --- Fusion with Self-Attention ---\n",
    "merged = Concatenate()([fmri_features, smri_features])  # Merge fMRI & sMRI features\n",
    "merged = self_attention(merged)  # Apply Self-Attention to combined features\n",
    "\n",
    "# --- Final Classification ---\n",
    "z = Dense(64, activation='relu')(merged)\n",
    "z = Dropout(0.5)(z)\n",
    "output = Dense(num_classes, activation='softmax', name=\"Output\")(z)  \n",
    "\n",
    "# Build and compile the model\n",
    "model = Model(inputs=[fmri_input, smri_input], outputs=output)\n",
    "model.compile(optimizer='adam', loss='categorical_crossentropy', metrics=['accuracy'])\n",
    "\n",
    "# Print Model Summary\n",
    "model.summary()\n"
   ]
  }
 ],
 "metadata": {
  "kernelspec": {
   "display_name": "base",
   "language": "python",
   "name": "python3"
  },
  "language_info": {
   "codemirror_mode": {
    "name": "ipython",
    "version": 3
   },
   "file_extension": ".py",
   "mimetype": "text/x-python",
   "name": "python",
   "nbconvert_exporter": "python",
   "pygments_lexer": "ipython3",
   "version": "3.11.5"
  }
 },
 "nbformat": 4,
 "nbformat_minor": 2
}
