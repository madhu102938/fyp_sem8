{
 "cells": [
  {
   "cell_type": "code",
   "execution_count": 80,
   "id": "4edd328d",
   "metadata": {},
   "outputs": [],
   "source": [
    "import nibabel as nib\n",
    "from nilearn import image\n",
    "from nilearn import plotting\n",
    "from nilearn import datasets\n",
    "from nilearn import maskers\n",
    "from nilearn.connectome import ConnectivityMeasure\n",
    "from tqdm import tqdm\n",
    "import numpy as np\n",
    "import os\n",
    "import re\n",
    "import pickle\n",
    "from nilearn import datasets\n",
    "from nilearn.input_data import NiftiLabelsMasker\n",
    "import nibabel as nib\n",
    "import numpy as np"
   ]
  },
  {
   "cell_type": "code",
   "execution_count": 46,
   "id": "88ade6f7",
   "metadata": {},
   "outputs": [
    {
     "name": "stdout",
     "output_type": "stream",
     "text": [
      "AAL atlas has 116 ROIs.\n",
      "Regions in AAL atlas: ['Precentral_L', 'Precentral_R', 'Frontal_Sup_L', 'Frontal_Sup_R', 'Frontal_Sup_Orb_L', 'Frontal_Sup_Orb_R', 'Frontal_Mid_L', 'Frontal_Mid_R', 'Frontal_Mid_Orb_L', 'Frontal_Mid_Orb_R', 'Frontal_Inf_Oper_L', 'Frontal_Inf_Oper_R', 'Frontal_Inf_Tri_L', 'Frontal_Inf_Tri_R', 'Frontal_Inf_Orb_L', 'Frontal_Inf_Orb_R', 'Rolandic_Oper_L', 'Rolandic_Oper_R', 'Supp_Motor_Area_L', 'Supp_Motor_Area_R', 'Olfactory_L', 'Olfactory_R', 'Frontal_Sup_Medial_L', 'Frontal_Sup_Medial_R', 'Frontal_Med_Orb_L', 'Frontal_Med_Orb_R', 'Rectus_L', 'Rectus_R', 'Insula_L', 'Insula_R', 'Cingulum_Ant_L', 'Cingulum_Ant_R', 'Cingulum_Mid_L', 'Cingulum_Mid_R', 'Cingulum_Post_L', 'Cingulum_Post_R', 'Hippocampus_L', 'Hippocampus_R', 'ParaHippocampal_L', 'ParaHippocampal_R', 'Amygdala_L', 'Amygdala_R', 'Calcarine_L', 'Calcarine_R', 'Cuneus_L', 'Cuneus_R', 'Lingual_L', 'Lingual_R', 'Occipital_Sup_L', 'Occipital_Sup_R', 'Occipital_Mid_L', 'Occipital_Mid_R', 'Occipital_Inf_L', 'Occipital_Inf_R', 'Fusiform_L', 'Fusiform_R', 'Postcentral_L', 'Postcentral_R', 'Parietal_Sup_L', 'Parietal_Sup_R', 'Parietal_Inf_L', 'Parietal_Inf_R', 'SupraMarginal_L', 'SupraMarginal_R', 'Angular_L', 'Angular_R', 'Precuneus_L', 'Precuneus_R', 'Paracentral_Lobule_L', 'Paracentral_Lobule_R', 'Caudate_L', 'Caudate_R', 'Putamen_L', 'Putamen_R', 'Pallidum_L', 'Pallidum_R', 'Thalamus_L', 'Thalamus_R', 'Heschl_L', 'Heschl_R', 'Temporal_Sup_L', 'Temporal_Sup_R', 'Temporal_Pole_Sup_L', 'Temporal_Pole_Sup_R', 'Temporal_Mid_L', 'Temporal_Mid_R', 'Temporal_Pole_Mid_L', 'Temporal_Pole_Mid_R', 'Temporal_Inf_L', 'Temporal_Inf_R', 'Cerebelum_Crus1_L', 'Cerebelum_Crus1_R', 'Cerebelum_Crus2_L', 'Cerebelum_Crus2_R', 'Cerebelum_3_L', 'Cerebelum_3_R', 'Cerebelum_4_5_L', 'Cerebelum_4_5_R', 'Cerebelum_6_L', 'Cerebelum_6_R', 'Cerebelum_7b_L', 'Cerebelum_7b_R', 'Cerebelum_8_L', 'Cerebelum_8_R', 'Cerebelum_9_L', 'Cerebelum_9_R', 'Cerebelum_10_L', 'Cerebelum_10_R', 'Vermis_1_2', 'Vermis_3', 'Vermis_4_5', 'Vermis_6', 'Vermis_7', 'Vermis_8', 'Vermis_9', 'Vermis_10'], 116\n"
     ]
    }
   ],
   "source": [
    "# Fetch the AAL atlas\n",
    "aal_atlas = datasets.fetch_atlas_aal()\n",
    "\n",
    "# Get the number of regions (ROIs) from AAL atlas\n",
    "n_regions = len(aal_atlas['labels'])\n",
    "\n",
    "print(f'AAL atlas has {n_regions} ROIs.')\n",
    "\n",
    "# Print the first few region names\n",
    "print(f\"Regions in AAL atlas: {aal_atlas['labels'][:]}, {len(aal_atlas['labels'][:])}\")"
   ]
  },
  {
   "cell_type": "code",
   "execution_count": 49,
   "id": "fe378a4b",
   "metadata": {},
   "outputs": [],
   "source": [
    "masker = maskers.NiftiLabelsMasker(\n",
    "    labels_img=aal_atlas.maps,  # Use maps_img instead of maps\n",
    "    resampling_target=\"data\",\n",
    "    t_r=3, \n",
    "    detrend=True,\n",
    "    low_pass=0.1, \n",
    "    high_pass=0.01\n",
    ").fit()\n"
   ]
  },
  {
   "cell_type": "code",
   "execution_count": 50,
   "id": "44826991",
   "metadata": {},
   "outputs": [],
   "source": [
    "correlation_measure = ConnectivityMeasure(kind='correlation')"
   ]
  },
  {
   "cell_type": "code",
   "execution_count": 11,
   "id": "f3001879",
   "metadata": {},
   "outputs": [],
   "source": [
    "img_dir = r\"C:\\Users\\praneeth darlanka\\Desktop\\ALL_AD\\003_S_6833\\Struct\\003_S_6833.nii\""
   ]
  },
  {
   "cell_type": "code",
   "execution_count": 15,
   "id": "b4816fc0",
   "metadata": {},
   "outputs": [],
   "source": [
    "first_image = nib.load(img_dir)"
   ]
  },
  {
   "cell_type": "code",
   "execution_count": 20,
   "id": "07f2d146",
   "metadata": {},
   "outputs": [],
   "source": [
    "img_data = first_image.get_fdata()"
   ]
  },
  {
   "cell_type": "code",
   "execution_count": 23,
   "id": "74ceca53",
   "metadata": {},
   "outputs": [],
   "source": [
    "main_dir = r\"C:\\Users\\praneeth darlanka\\Desktop\\ALL_AD\""
   ]
  },
  {
   "cell_type": "code",
   "execution_count": 54,
   "id": "3c718b4e",
   "metadata": {},
   "outputs": [],
   "source": [
    "func_features = []"
   ]
  },
  {
   "cell_type": "code",
   "execution_count": 55,
   "id": "421b6e30",
   "metadata": {},
   "outputs": [
    {
     "name": "stdout",
     "output_type": "stream",
     "text": [
      "1\n",
      "2\n",
      "3\n",
      "4\n",
      "5\n",
      "6\n",
      "7\n",
      "8\n",
      "9\n",
      "10\n",
      "11\n",
      "12\n",
      "13\n",
      "14\n",
      "15\n",
      "16\n",
      "17\n",
      "18\n",
      "19\n",
      "20\n",
      "21\n",
      "22\n",
      "23\n",
      "24\n",
      "25\n",
      "26\n",
      "27\n",
      "28\n",
      "29\n",
      "30\n",
      "31\n",
      "32\n",
      "33\n",
      "34\n",
      "35\n",
      "36\n",
      "37\n",
      "38\n",
      "39\n"
     ]
    }
   ],
   "source": [
    "cnt = 0\n",
    "for sub in os.listdir(main_dir):\n",
    "    subject_path = os.path.join(main_dir,sub)\n",
    "    for type in os.listdir(subject_path):\n",
    "        if(type == \"Func\"):\n",
    "            struct_dir = os.path.join(subject_path,type)\n",
    "            file = os.listdir(struct_dir)\n",
    "            for f in file:\n",
    "                if f.startswith('swar'):\n",
    "                    cnt += 1\n",
    "                    lovda_img = os.path.join(struct_dir,f)\n",
    "                    fmri_img = nib.load(lovda_img)\n",
    "                    img = image.load_img(fmri_img)\n",
    "                    features = masker.fit_transform(fmri_img)\n",
    "                    correlation_matrix = correlation_measure.fit_transform([features])[0]\n",
    "                    func_features.append(correlation_matrix.reshape(-1))\n",
    "                    print(cnt)\n",
    "                    "
   ]
  },
  {
   "cell_type": "code",
   "execution_count": 73,
   "id": "84e66ae4",
   "metadata": {},
   "outputs": [],
   "source": [
    "yoo  = r\"C:\\Users\\praneeth darlanka\\Desktop\\022_S_6013_62.57_F\\Func\\swar022_S_6013_62.57_F.nii\"\n",
    "fmri_img = nib.load(yoo)\n",
    "img = image.load_img(fmri_img)\n",
    "features = masker.fit_transform(fmri_img)\n",
    "correlation_matrix = correlation_measure.fit_transform([features])[0]\n",
    "func_features.append(correlation_matrix.reshape(-1))"
   ]
  },
  {
   "cell_type": "code",
   "execution_count": 76,
   "id": "01b086fe",
   "metadata": {},
   "outputs": [
    {
     "data": {
      "text/plain": [
       "13456"
      ]
     },
     "execution_count": 76,
     "metadata": {},
     "output_type": "execute_result"
    }
   ],
   "source": [
    "len(func_features[0])"
   ]
  },
  {
   "cell_type": "code",
   "execution_count": 97,
   "id": "4057c579",
   "metadata": {},
   "outputs": [],
   "source": [
    "struc_features = []\n",
    "y = []"
   ]
  },
  {
   "cell_type": "code",
   "execution_count": 99,
   "id": "b24f8279",
   "metadata": {},
   "outputs": [
    {
     "data": {
      "text/plain": [
       "40"
      ]
     },
     "execution_count": 99,
     "metadata": {},
     "output_type": "execute_result"
    }
   ],
   "source": [
    "len(func_features)"
   ]
  },
  {
   "cell_type": "code",
   "execution_count": 98,
   "id": "0ec562d6",
   "metadata": {},
   "outputs": [
    {
     "ename": "ValueError",
     "evalue": "The length of the input vector x must be greater than padlen, which is 33.",
     "output_type": "error",
     "traceback": [
      "\u001b[1;31m---------------------------------------------------------------------------\u001b[0m",
      "\u001b[1;31mValueError\u001b[0m                                Traceback (most recent call last)",
      "Cell \u001b[1;32mIn[98], line 4\u001b[0m\n\u001b[0;32m      2\u001b[0m fmri_img \u001b[38;5;241m=\u001b[39m nib\u001b[38;5;241m.\u001b[39mload(lovda_img)\n\u001b[0;32m      3\u001b[0m img \u001b[38;5;241m=\u001b[39m image\u001b[38;5;241m.\u001b[39mload_img(fmri_img)\n\u001b[1;32m----> 4\u001b[0m features \u001b[38;5;241m=\u001b[39m masker\u001b[38;5;241m.\u001b[39mfit_transform(fmri_img)\n\u001b[0;32m      5\u001b[0m correlation_matrix \u001b[38;5;241m=\u001b[39m correlation_measure\u001b[38;5;241m.\u001b[39mfit_transform([features])[\u001b[38;5;241m0\u001b[39m]\n\u001b[0;32m      6\u001b[0m y\u001b[38;5;241m.\u001b[39mappend(correlation_matrix\u001b[38;5;241m.\u001b[39mreshape(\u001b[38;5;241m-\u001b[39m\u001b[38;5;241m1\u001b[39m))\n",
      "File \u001b[1;32m~\\anaconda3\\Lib\\site-packages\\sklearn\\utils\\_set_output.py:140\u001b[0m, in \u001b[0;36m_wrap_method_output.<locals>.wrapped\u001b[1;34m(self, X, *args, **kwargs)\u001b[0m\n\u001b[0;32m    138\u001b[0m \u001b[38;5;129m@wraps\u001b[39m(f)\n\u001b[0;32m    139\u001b[0m \u001b[38;5;28;01mdef\u001b[39;00m \u001b[38;5;21mwrapped\u001b[39m(\u001b[38;5;28mself\u001b[39m, X, \u001b[38;5;241m*\u001b[39margs, \u001b[38;5;241m*\u001b[39m\u001b[38;5;241m*\u001b[39mkwargs):\n\u001b[1;32m--> 140\u001b[0m     data_to_wrap \u001b[38;5;241m=\u001b[39m f(\u001b[38;5;28mself\u001b[39m, X, \u001b[38;5;241m*\u001b[39margs, \u001b[38;5;241m*\u001b[39m\u001b[38;5;241m*\u001b[39mkwargs)\n\u001b[0;32m    141\u001b[0m     \u001b[38;5;28;01mif\u001b[39;00m \u001b[38;5;28misinstance\u001b[39m(data_to_wrap, \u001b[38;5;28mtuple\u001b[39m):\n\u001b[0;32m    142\u001b[0m         \u001b[38;5;66;03m# only wrap the first output for cross decomposition\u001b[39;00m\n\u001b[0;32m    143\u001b[0m         return_tuple \u001b[38;5;241m=\u001b[39m (\n\u001b[0;32m    144\u001b[0m             _wrap_data_with_container(method, data_to_wrap[\u001b[38;5;241m0\u001b[39m], X, \u001b[38;5;28mself\u001b[39m),\n\u001b[0;32m    145\u001b[0m             \u001b[38;5;241m*\u001b[39mdata_to_wrap[\u001b[38;5;241m1\u001b[39m:],\n\u001b[0;32m    146\u001b[0m         )\n",
      "File \u001b[1;32m~\\anaconda3\\Lib\\site-packages\\nilearn\\maskers\\nifti_labels_masker.py:620\u001b[0m, in \u001b[0;36mNiftiLabelsMasker.fit_transform\u001b[1;34m(self, imgs, confounds, sample_mask)\u001b[0m\n\u001b[0;32m    589\u001b[0m \u001b[38;5;28;01mdef\u001b[39;00m \u001b[38;5;21mfit_transform\u001b[39m(\u001b[38;5;28mself\u001b[39m, imgs, confounds\u001b[38;5;241m=\u001b[39m\u001b[38;5;28;01mNone\u001b[39;00m, sample_mask\u001b[38;5;241m=\u001b[39m\u001b[38;5;28;01mNone\u001b[39;00m):\n\u001b[0;32m    590\u001b[0m \u001b[38;5;250m    \u001b[39m\u001b[38;5;124;03m\"\"\"Prepare and perform signal extraction from regions.\u001b[39;00m\n\u001b[0;32m    591\u001b[0m \n\u001b[0;32m    592\u001b[0m \u001b[38;5;124;03m    Parameters\u001b[39;00m\n\u001b[1;32m   (...)\u001b[0m\n\u001b[0;32m    618\u001b[0m \n\u001b[0;32m    619\u001b[0m \u001b[38;5;124;03m    \"\"\"\u001b[39;00m\n\u001b[1;32m--> 620\u001b[0m     \u001b[38;5;28;01mreturn\u001b[39;00m \u001b[38;5;28mself\u001b[39m\u001b[38;5;241m.\u001b[39mfit(imgs)\u001b[38;5;241m.\u001b[39mtransform(\n\u001b[0;32m    621\u001b[0m         imgs, confounds\u001b[38;5;241m=\u001b[39mconfounds, sample_mask\u001b[38;5;241m=\u001b[39msample_mask\n\u001b[0;32m    622\u001b[0m     )\n",
      "File \u001b[1;32m~\\anaconda3\\Lib\\site-packages\\sklearn\\utils\\_set_output.py:140\u001b[0m, in \u001b[0;36m_wrap_method_output.<locals>.wrapped\u001b[1;34m(self, X, *args, **kwargs)\u001b[0m\n\u001b[0;32m    138\u001b[0m \u001b[38;5;129m@wraps\u001b[39m(f)\n\u001b[0;32m    139\u001b[0m \u001b[38;5;28;01mdef\u001b[39;00m \u001b[38;5;21mwrapped\u001b[39m(\u001b[38;5;28mself\u001b[39m, X, \u001b[38;5;241m*\u001b[39margs, \u001b[38;5;241m*\u001b[39m\u001b[38;5;241m*\u001b[39mkwargs):\n\u001b[1;32m--> 140\u001b[0m     data_to_wrap \u001b[38;5;241m=\u001b[39m f(\u001b[38;5;28mself\u001b[39m, X, \u001b[38;5;241m*\u001b[39margs, \u001b[38;5;241m*\u001b[39m\u001b[38;5;241m*\u001b[39mkwargs)\n\u001b[0;32m    141\u001b[0m     \u001b[38;5;28;01mif\u001b[39;00m \u001b[38;5;28misinstance\u001b[39m(data_to_wrap, \u001b[38;5;28mtuple\u001b[39m):\n\u001b[0;32m    142\u001b[0m         \u001b[38;5;66;03m# only wrap the first output for cross decomposition\u001b[39;00m\n\u001b[0;32m    143\u001b[0m         return_tuple \u001b[38;5;241m=\u001b[39m (\n\u001b[0;32m    144\u001b[0m             _wrap_data_with_container(method, data_to_wrap[\u001b[38;5;241m0\u001b[39m], X, \u001b[38;5;28mself\u001b[39m),\n\u001b[0;32m    145\u001b[0m             \u001b[38;5;241m*\u001b[39mdata_to_wrap[\u001b[38;5;241m1\u001b[39m:],\n\u001b[0;32m    146\u001b[0m         )\n",
      "File \u001b[1;32m~\\anaconda3\\Lib\\site-packages\\nilearn\\maskers\\base_masker.py:253\u001b[0m, in \u001b[0;36mBaseMasker.transform\u001b[1;34m(self, imgs, confounds, sample_mask)\u001b[0m\n\u001b[0;32m    250\u001b[0m \u001b[38;5;28mself\u001b[39m\u001b[38;5;241m.\u001b[39m_check_fitted()\n\u001b[0;32m    252\u001b[0m \u001b[38;5;28;01mif\u001b[39;00m confounds \u001b[38;5;129;01mis\u001b[39;00m \u001b[38;5;28;01mNone\u001b[39;00m \u001b[38;5;129;01mand\u001b[39;00m \u001b[38;5;129;01mnot\u001b[39;00m \u001b[38;5;28mself\u001b[39m\u001b[38;5;241m.\u001b[39mhigh_variance_confounds:\n\u001b[1;32m--> 253\u001b[0m     \u001b[38;5;28;01mreturn\u001b[39;00m \u001b[38;5;28mself\u001b[39m\u001b[38;5;241m.\u001b[39mtransform_single_imgs(\n\u001b[0;32m    254\u001b[0m         imgs, confounds\u001b[38;5;241m=\u001b[39mconfounds, sample_mask\u001b[38;5;241m=\u001b[39msample_mask\n\u001b[0;32m    255\u001b[0m     )\n\u001b[0;32m    257\u001b[0m \u001b[38;5;66;03m# Compute high variance confounds if requested\u001b[39;00m\n\u001b[0;32m    258\u001b[0m all_confounds \u001b[38;5;241m=\u001b[39m []\n",
      "File \u001b[1;32m~\\anaconda3\\Lib\\site-packages\\nilearn\\maskers\\nifti_labels_masker.py:724\u001b[0m, in \u001b[0;36mNiftiLabelsMasker.transform_single_imgs\u001b[1;34m(self, imgs, confounds, sample_mask)\u001b[0m\n\u001b[0;32m    721\u001b[0m params[\u001b[38;5;124m\"\u001b[39m\u001b[38;5;124mtarget_affine\u001b[39m\u001b[38;5;124m\"\u001b[39m] \u001b[38;5;241m=\u001b[39m target_affine\n\u001b[0;32m    722\u001b[0m params[\u001b[38;5;124m\"\u001b[39m\u001b[38;5;124mclean_kwargs\u001b[39m\u001b[38;5;124m\"\u001b[39m] \u001b[38;5;241m=\u001b[39m \u001b[38;5;28mself\u001b[39m\u001b[38;5;241m.\u001b[39mclean_kwargs\n\u001b[1;32m--> 724\u001b[0m region_signals, (ids, masked_atlas) \u001b[38;5;241m=\u001b[39m \u001b[38;5;28mself\u001b[39m\u001b[38;5;241m.\u001b[39m_cache(\n\u001b[0;32m    725\u001b[0m     _filter_and_extract,\n\u001b[0;32m    726\u001b[0m     ignore\u001b[38;5;241m=\u001b[39m[\u001b[38;5;124m\"\u001b[39m\u001b[38;5;124mverbose\u001b[39m\u001b[38;5;124m\"\u001b[39m, \u001b[38;5;124m\"\u001b[39m\u001b[38;5;124mmemory\u001b[39m\u001b[38;5;124m\"\u001b[39m, \u001b[38;5;124m\"\u001b[39m\u001b[38;5;124mmemory_level\u001b[39m\u001b[38;5;124m\"\u001b[39m],\n\u001b[0;32m    727\u001b[0m )(\n\u001b[0;32m    728\u001b[0m     \u001b[38;5;66;03m# Images\u001b[39;00m\n\u001b[0;32m    729\u001b[0m     imgs,\n\u001b[0;32m    730\u001b[0m     _ExtractionFunctor(\n\u001b[0;32m    731\u001b[0m         \u001b[38;5;28mself\u001b[39m\u001b[38;5;241m.\u001b[39m_resampled_labels_img_,\n\u001b[0;32m    732\u001b[0m         \u001b[38;5;28mself\u001b[39m\u001b[38;5;241m.\u001b[39mbackground_label,\n\u001b[0;32m    733\u001b[0m         \u001b[38;5;28mself\u001b[39m\u001b[38;5;241m.\u001b[39mstrategy,\n\u001b[0;32m    734\u001b[0m         \u001b[38;5;28mself\u001b[39m\u001b[38;5;241m.\u001b[39mkeep_masked_labels,\n\u001b[0;32m    735\u001b[0m         \u001b[38;5;28mself\u001b[39m\u001b[38;5;241m.\u001b[39m_resampled_mask_img,\n\u001b[0;32m    736\u001b[0m     ),\n\u001b[0;32m    737\u001b[0m     \u001b[38;5;66;03m# Pre-processing\u001b[39;00m\n\u001b[0;32m    738\u001b[0m     params,\n\u001b[0;32m    739\u001b[0m     confounds\u001b[38;5;241m=\u001b[39mconfounds,\n\u001b[0;32m    740\u001b[0m     sample_mask\u001b[38;5;241m=\u001b[39msample_mask,\n\u001b[0;32m    741\u001b[0m     dtype\u001b[38;5;241m=\u001b[39m\u001b[38;5;28mself\u001b[39m\u001b[38;5;241m.\u001b[39mdtype,\n\u001b[0;32m    742\u001b[0m     \u001b[38;5;66;03m# Caching\u001b[39;00m\n\u001b[0;32m    743\u001b[0m     memory\u001b[38;5;241m=\u001b[39m\u001b[38;5;28mself\u001b[39m\u001b[38;5;241m.\u001b[39mmemory,\n\u001b[0;32m    744\u001b[0m     memory_level\u001b[38;5;241m=\u001b[39m\u001b[38;5;28mself\u001b[39m\u001b[38;5;241m.\u001b[39mmemory_level,\n\u001b[0;32m    745\u001b[0m     verbose\u001b[38;5;241m=\u001b[39m\u001b[38;5;28mself\u001b[39m\u001b[38;5;241m.\u001b[39mverbose,\n\u001b[0;32m    746\u001b[0m )\n\u001b[0;32m    748\u001b[0m \u001b[38;5;28mself\u001b[39m\u001b[38;5;241m.\u001b[39mlabels_ \u001b[38;5;241m=\u001b[39m ids\n\u001b[0;32m    750\u001b[0m \u001b[38;5;66;03m# defining a dictionary containing regions ids\u001b[39;00m\n",
      "File \u001b[1;32m~\\anaconda3\\Lib\\site-packages\\joblib\\memory.py:349\u001b[0m, in \u001b[0;36mNotMemorizedFunc.__call__\u001b[1;34m(self, *args, **kwargs)\u001b[0m\n\u001b[0;32m    348\u001b[0m \u001b[38;5;28;01mdef\u001b[39;00m \u001b[38;5;21m__call__\u001b[39m(\u001b[38;5;28mself\u001b[39m, \u001b[38;5;241m*\u001b[39margs, \u001b[38;5;241m*\u001b[39m\u001b[38;5;241m*\u001b[39mkwargs):\n\u001b[1;32m--> 349\u001b[0m     \u001b[38;5;28;01mreturn\u001b[39;00m \u001b[38;5;28mself\u001b[39m\u001b[38;5;241m.\u001b[39mfunc(\u001b[38;5;241m*\u001b[39margs, \u001b[38;5;241m*\u001b[39m\u001b[38;5;241m*\u001b[39mkwargs)\n",
      "File \u001b[1;32m~\\anaconda3\\Lib\\site-packages\\nilearn\\maskers\\base_masker.py:139\u001b[0m, in \u001b[0;36m_filter_and_extract\u001b[1;34m(imgs, extraction_function, parameters, memory_level, memory, verbose, confounds, sample_mask, copy, dtype)\u001b[0m\n\u001b[0;32m    137\u001b[0m     \u001b[38;5;28mprint\u001b[39m(\u001b[38;5;124mf\u001b[39m\u001b[38;5;124m\"\u001b[39m\u001b[38;5;124m[\u001b[39m\u001b[38;5;132;01m{\u001b[39;00mclass_name\u001b[38;5;132;01m}\u001b[39;00m\u001b[38;5;124m] Cleaning extracted signals\u001b[39m\u001b[38;5;124m\"\u001b[39m)\n\u001b[0;32m    138\u001b[0m runs \u001b[38;5;241m=\u001b[39m parameters\u001b[38;5;241m.\u001b[39mget(\u001b[38;5;124m\"\u001b[39m\u001b[38;5;124mruns\u001b[39m\u001b[38;5;124m\"\u001b[39m, \u001b[38;5;28;01mNone\u001b[39;00m)\n\u001b[1;32m--> 139\u001b[0m region_signals \u001b[38;5;241m=\u001b[39m cache(\n\u001b[0;32m    140\u001b[0m     signal\u001b[38;5;241m.\u001b[39mclean,\n\u001b[0;32m    141\u001b[0m     memory\u001b[38;5;241m=\u001b[39mmemory,\n\u001b[0;32m    142\u001b[0m     func_memory_level\u001b[38;5;241m=\u001b[39m\u001b[38;5;241m2\u001b[39m,\n\u001b[0;32m    143\u001b[0m     memory_level\u001b[38;5;241m=\u001b[39mmemory_level,\n\u001b[0;32m    144\u001b[0m )(\n\u001b[0;32m    145\u001b[0m     region_signals,\n\u001b[0;32m    146\u001b[0m     detrend\u001b[38;5;241m=\u001b[39mparameters[\u001b[38;5;124m\"\u001b[39m\u001b[38;5;124mdetrend\u001b[39m\u001b[38;5;124m\"\u001b[39m],\n\u001b[0;32m    147\u001b[0m     standardize\u001b[38;5;241m=\u001b[39mparameters[\u001b[38;5;124m\"\u001b[39m\u001b[38;5;124mstandardize\u001b[39m\u001b[38;5;124m\"\u001b[39m],\n\u001b[0;32m    148\u001b[0m     standardize_confounds\u001b[38;5;241m=\u001b[39mparameters[\u001b[38;5;124m\"\u001b[39m\u001b[38;5;124mstandardize_confounds\u001b[39m\u001b[38;5;124m\"\u001b[39m],\n\u001b[0;32m    149\u001b[0m     t_r\u001b[38;5;241m=\u001b[39mparameters[\u001b[38;5;124m\"\u001b[39m\u001b[38;5;124mt_r\u001b[39m\u001b[38;5;124m\"\u001b[39m],\n\u001b[0;32m    150\u001b[0m     low_pass\u001b[38;5;241m=\u001b[39mparameters[\u001b[38;5;124m\"\u001b[39m\u001b[38;5;124mlow_pass\u001b[39m\u001b[38;5;124m\"\u001b[39m],\n\u001b[0;32m    151\u001b[0m     high_pass\u001b[38;5;241m=\u001b[39mparameters[\u001b[38;5;124m\"\u001b[39m\u001b[38;5;124mhigh_pass\u001b[39m\u001b[38;5;124m\"\u001b[39m],\n\u001b[0;32m    152\u001b[0m     confounds\u001b[38;5;241m=\u001b[39mconfounds,\n\u001b[0;32m    153\u001b[0m     sample_mask\u001b[38;5;241m=\u001b[39msample_mask,\n\u001b[0;32m    154\u001b[0m     runs\u001b[38;5;241m=\u001b[39mruns,\n\u001b[0;32m    155\u001b[0m     \u001b[38;5;241m*\u001b[39m\u001b[38;5;241m*\u001b[39mparameters[\u001b[38;5;124m\"\u001b[39m\u001b[38;5;124mclean_kwargs\u001b[39m\u001b[38;5;124m\"\u001b[39m],\n\u001b[0;32m    156\u001b[0m )\n\u001b[0;32m    158\u001b[0m \u001b[38;5;28;01mreturn\u001b[39;00m region_signals, aux\n",
      "File \u001b[1;32m~\\anaconda3\\Lib\\site-packages\\joblib\\memory.py:349\u001b[0m, in \u001b[0;36mNotMemorizedFunc.__call__\u001b[1;34m(self, *args, **kwargs)\u001b[0m\n\u001b[0;32m    348\u001b[0m \u001b[38;5;28;01mdef\u001b[39;00m \u001b[38;5;21m__call__\u001b[39m(\u001b[38;5;28mself\u001b[39m, \u001b[38;5;241m*\u001b[39margs, \u001b[38;5;241m*\u001b[39m\u001b[38;5;241m*\u001b[39mkwargs):\n\u001b[1;32m--> 349\u001b[0m     \u001b[38;5;28;01mreturn\u001b[39;00m \u001b[38;5;28mself\u001b[39m\u001b[38;5;241m.\u001b[39mfunc(\u001b[38;5;241m*\u001b[39margs, \u001b[38;5;241m*\u001b[39m\u001b[38;5;241m*\u001b[39mkwargs)\n",
      "File \u001b[1;32m~\\anaconda3\\Lib\\site-packages\\nilearn\\signal.py:767\u001b[0m, in \u001b[0;36mclean\u001b[1;34m(signals, runs, detrend, standardize, sample_mask, confounds, standardize_confounds, filter, low_pass, high_pass, t_r, ensure_finite, extrapolate, **kwargs)\u001b[0m\n\u001b[0;32m    761\u001b[0m \u001b[38;5;28;01mif\u001b[39;00m filter_type \u001b[38;5;241m==\u001b[39m \u001b[38;5;124m\"\u001b[39m\u001b[38;5;124mbutterworth\u001b[39m\u001b[38;5;124m\"\u001b[39m:\n\u001b[0;32m    762\u001b[0m     butterworth_kwargs \u001b[38;5;241m=\u001b[39m {\n\u001b[0;32m    763\u001b[0m         k\u001b[38;5;241m.\u001b[39mreplace(\u001b[38;5;124m\"\u001b[39m\u001b[38;5;124mbutterworth__\u001b[39m\u001b[38;5;124m\"\u001b[39m, \u001b[38;5;124m\"\u001b[39m\u001b[38;5;124m\"\u001b[39m): v\n\u001b[0;32m    764\u001b[0m         \u001b[38;5;28;01mfor\u001b[39;00m k, v \u001b[38;5;129;01min\u001b[39;00m kwargs\u001b[38;5;241m.\u001b[39mitems()\n\u001b[0;32m    765\u001b[0m         \u001b[38;5;28;01mif\u001b[39;00m k\u001b[38;5;241m.\u001b[39mstartswith(\u001b[38;5;124m\"\u001b[39m\u001b[38;5;124mbutterworth__\u001b[39m\u001b[38;5;124m\"\u001b[39m)\n\u001b[0;32m    766\u001b[0m     }\n\u001b[1;32m--> 767\u001b[0m     signals \u001b[38;5;241m=\u001b[39m butterworth(\n\u001b[0;32m    768\u001b[0m         signals,\n\u001b[0;32m    769\u001b[0m         sampling_rate\u001b[38;5;241m=\u001b[39m\u001b[38;5;241m1.0\u001b[39m \u001b[38;5;241m/\u001b[39m t_r,\n\u001b[0;32m    770\u001b[0m         low_pass\u001b[38;5;241m=\u001b[39mlow_pass,\n\u001b[0;32m    771\u001b[0m         high_pass\u001b[38;5;241m=\u001b[39mhigh_pass,\n\u001b[0;32m    772\u001b[0m         \u001b[38;5;241m*\u001b[39m\u001b[38;5;241m*\u001b[39mbutterworth_kwargs,\n\u001b[0;32m    773\u001b[0m     )\n\u001b[0;32m    774\u001b[0m     \u001b[38;5;28;01mif\u001b[39;00m confounds \u001b[38;5;129;01mis\u001b[39;00m \u001b[38;5;129;01mnot\u001b[39;00m \u001b[38;5;28;01mNone\u001b[39;00m:\n\u001b[0;32m    775\u001b[0m         \u001b[38;5;66;03m# Apply low- and high-pass filters to keep filters orthogonal\u001b[39;00m\n\u001b[0;32m    776\u001b[0m         \u001b[38;5;66;03m# (according to Lindquist et al. (2018))\u001b[39;00m\n\u001b[0;32m    777\u001b[0m         confounds \u001b[38;5;241m=\u001b[39m butterworth(\n\u001b[0;32m    778\u001b[0m             confounds,\n\u001b[0;32m    779\u001b[0m             sampling_rate\u001b[38;5;241m=\u001b[39m\u001b[38;5;241m1.0\u001b[39m \u001b[38;5;241m/\u001b[39m t_r,\n\u001b[1;32m   (...)\u001b[0m\n\u001b[0;32m    782\u001b[0m             \u001b[38;5;241m*\u001b[39m\u001b[38;5;241m*\u001b[39mbutterworth_kwargs,\n\u001b[0;32m    783\u001b[0m         )\n",
      "File \u001b[1;32m~\\anaconda3\\Lib\\site-packages\\nilearn\\signal.py:451\u001b[0m, in \u001b[0;36mbutterworth\u001b[1;34m(signals, sampling_rate, low_pass, high_pass, order, padtype, padlen, copy)\u001b[0m\n\u001b[0;32m    448\u001b[0m \u001b[38;5;28;01melse\u001b[39;00m:\n\u001b[0;32m    449\u001b[0m     \u001b[38;5;66;03m# Lesser memory consumption, slower.\u001b[39;00m\n\u001b[0;32m    450\u001b[0m     \u001b[38;5;28;01mfor\u001b[39;00m timeseries \u001b[38;5;129;01min\u001b[39;00m signals\u001b[38;5;241m.\u001b[39mT:\n\u001b[1;32m--> 451\u001b[0m         timeseries[:] \u001b[38;5;241m=\u001b[39m sp_signal\u001b[38;5;241m.\u001b[39mfiltfilt(\n\u001b[0;32m    452\u001b[0m             b,\n\u001b[0;32m    453\u001b[0m             a,\n\u001b[0;32m    454\u001b[0m             timeseries,\n\u001b[0;32m    455\u001b[0m             padtype\u001b[38;5;241m=\u001b[39mpadtype,\n\u001b[0;32m    456\u001b[0m             padlen\u001b[38;5;241m=\u001b[39mpadlen,\n\u001b[0;32m    457\u001b[0m         )\n\u001b[0;32m    459\u001b[0m     \u001b[38;5;66;03m# results returned in-place\u001b[39;00m\n\u001b[0;32m    461\u001b[0m \u001b[38;5;28;01mreturn\u001b[39;00m signals\n",
      "File \u001b[1;32m~\\anaconda3\\Lib\\site-packages\\scipy\\signal\\_signaltools.py:4159\u001b[0m, in \u001b[0;36mfiltfilt\u001b[1;34m(b, a, x, axis, padtype, padlen, method, irlen)\u001b[0m\n\u001b[0;32m   4156\u001b[0m     \u001b[38;5;28;01mreturn\u001b[39;00m y\n\u001b[0;32m   4158\u001b[0m \u001b[38;5;66;03m# method == \"pad\"\u001b[39;00m\n\u001b[1;32m-> 4159\u001b[0m edge, ext \u001b[38;5;241m=\u001b[39m _validate_pad(padtype, padlen, x, axis,\n\u001b[0;32m   4160\u001b[0m                           ntaps\u001b[38;5;241m=\u001b[39m\u001b[38;5;28mmax\u001b[39m(\u001b[38;5;28mlen\u001b[39m(a), \u001b[38;5;28mlen\u001b[39m(b)))\n\u001b[0;32m   4162\u001b[0m \u001b[38;5;66;03m# Get the steady state of the filter's step response.\u001b[39;00m\n\u001b[0;32m   4163\u001b[0m zi \u001b[38;5;241m=\u001b[39m lfilter_zi(b, a)\n",
      "File \u001b[1;32m~\\anaconda3\\Lib\\site-packages\\scipy\\signal\\_signaltools.py:4209\u001b[0m, in \u001b[0;36m_validate_pad\u001b[1;34m(padtype, padlen, x, axis, ntaps)\u001b[0m\n\u001b[0;32m   4207\u001b[0m \u001b[38;5;66;03m# x's 'axis' dimension must be bigger than edge.\u001b[39;00m\n\u001b[0;32m   4208\u001b[0m \u001b[38;5;28;01mif\u001b[39;00m x\u001b[38;5;241m.\u001b[39mshape[axis] \u001b[38;5;241m<\u001b[39m\u001b[38;5;241m=\u001b[39m edge:\n\u001b[1;32m-> 4209\u001b[0m     \u001b[38;5;28;01mraise\u001b[39;00m \u001b[38;5;167;01mValueError\u001b[39;00m(\u001b[38;5;124m\"\u001b[39m\u001b[38;5;124mThe length of the input vector x must be greater \u001b[39m\u001b[38;5;124m\"\u001b[39m\n\u001b[0;32m   4210\u001b[0m                      \u001b[38;5;124m\"\u001b[39m\u001b[38;5;124mthan padlen, which is \u001b[39m\u001b[38;5;132;01m%d\u001b[39;00m\u001b[38;5;124m.\u001b[39m\u001b[38;5;124m\"\u001b[39m \u001b[38;5;241m%\u001b[39m edge)\n\u001b[0;32m   4212\u001b[0m \u001b[38;5;28;01mif\u001b[39;00m padtype \u001b[38;5;129;01mis\u001b[39;00m \u001b[38;5;129;01mnot\u001b[39;00m \u001b[38;5;28;01mNone\u001b[39;00m \u001b[38;5;129;01mand\u001b[39;00m edge \u001b[38;5;241m>\u001b[39m \u001b[38;5;241m0\u001b[39m:\n\u001b[0;32m   4213\u001b[0m     \u001b[38;5;66;03m# Make an extension of length `edge` at each\u001b[39;00m\n\u001b[0;32m   4214\u001b[0m     \u001b[38;5;66;03m# end of the input array.\u001b[39;00m\n\u001b[0;32m   4215\u001b[0m     \u001b[38;5;28;01mif\u001b[39;00m padtype \u001b[38;5;241m==\u001b[39m \u001b[38;5;124m'\u001b[39m\u001b[38;5;124meven\u001b[39m\u001b[38;5;124m'\u001b[39m:\n",
      "\u001b[1;31mValueError\u001b[0m: The length of the input vector x must be greater than padlen, which is 33."
     ]
    }
   ],
   "source": [
    "lovda_img = r'C:\\Users\\praneeth darlanka\\Desktop\\022_S_6013_62.57_F\\Struct\\022_S_6013_62.57_F.nii'\n",
    "fmri_img = nib.load(lovda_img)\n",
    "img = image.load_img(fmri_img)\n",
    "features = masker.fit_transform(fmri_img)\n",
    "correlation_matrix = correlation_measure.fit_transform([features])[0]\n",
    "y.append(correlation_matrix.reshape(-1))"
   ]
  },
  {
   "cell_type": "code",
   "execution_count": 89,
   "id": "e9587618",
   "metadata": {},
   "outputs": [
    {
     "data": {
      "text/plain": [
       "(116, 116)"
      ]
     },
     "execution_count": 89,
     "metadata": {},
     "output_type": "execute_result"
    }
   ],
   "source": [
    "correlation_matrix.shape"
   ]
  },
  {
   "cell_type": "code",
   "execution_count": 134,
   "id": "9f6906fa",
   "metadata": {},
   "outputs": [],
   "source": [
    "import pickle\n",
    "pickle.dump(func_features, open(r'C:\\Users\\praneeth darlanka\\Desktop\\features\\func_features', 'wb'))\n"
   ]
  },
  {
   "cell_type": "code",
   "execution_count": 92,
   "id": "5692b912",
   "metadata": {},
   "outputs": [],
   "source": [
    "loading_feature1 = pickle.load(open(r\"C:\\Users\\praneeth darlanka\\Desktop\\features\\func_features.pkl\", 'rb'))"
   ]
  },
  {
   "cell_type": "code",
   "execution_count": 93,
   "id": "009db2d3",
   "metadata": {},
   "outputs": [],
   "source": [
    "loading_feature = np.array(loading_feature1)"
   ]
  },
  {
   "cell_type": "code",
   "execution_count": 94,
   "id": "6cc03f44",
   "metadata": {},
   "outputs": [
    {
     "data": {
      "text/plain": [
       "(40, 13456)"
      ]
     },
     "execution_count": 94,
     "metadata": {},
     "output_type": "execute_result"
    }
   ],
   "source": [
    "loading_feature.shape"
   ]
  },
  {
   "cell_type": "code",
   "execution_count": 100,
   "id": "d0c8ad16",
   "metadata": {},
   "outputs": [],
   "source": [
    "aal_atlas = datasets.fetch_atlas_aal()"
   ]
  },
  {
   "cell_type": "code",
   "execution_count": 101,
   "id": "08d6f644",
   "metadata": {},
   "outputs": [],
   "source": [
    "struct_masker = NiftiLabelsMasker(\n",
    "    labels_img=aal_atlas.maps,  # ROI map from the AAL atlas\n",
    "    standardize=True,           # Standardize data (mean=0, variance=1)\n",
    "    smoothing_fwhm=4            # Apply spatial smoothing (optional, adjust as needed)\n",
    ").fit()"
   ]
  },
  {
   "cell_type": "code",
   "execution_count": 120,
   "id": "1d48acf6",
   "metadata": {},
   "outputs": [],
   "source": [
    "struct_features = []"
   ]
  },
  {
   "cell_type": "code",
   "execution_count": 122,
   "id": "0ce9c414",
   "metadata": {},
   "outputs": [
    {
     "name": "stderr",
     "output_type": "stream",
     "text": [
      "C:\\Users\\praneeth darlanka\\anaconda3\\Lib\\site-packages\\nilearn\\signal.py:74: UserWarning: Standardization of 3D signal has been requested but would lead to zero values. Skipping.\n",
      "  warnings.warn(\n",
      "C:\\Users\\praneeth darlanka\\anaconda3\\Lib\\site-packages\\sklearn\\covariance\\_shrunk_covariance.py:327: UserWarning: Only one sample available. You may want to reshape your data array\n",
      "  warnings.warn(\n",
      "C:\\Users\\praneeth darlanka\\anaconda3\\Lib\\site-packages\\sklearn\\covariance\\_empirical_covariance.py:95: UserWarning: Only one sample available. You may want to reshape your data array\n",
      "  warnings.warn(\n",
      "C:\\Users\\praneeth darlanka\\anaconda3\\Lib\\site-packages\\nilearn\\connectome\\connectivity_matrices.py:345: RuntimeWarning: divide by zero encountered in divide\n",
      "  diagonal = np.atleast_2d(1.0 / np.sqrt(np.diag(covariance)))\n",
      "C:\\Users\\praneeth darlanka\\anaconda3\\Lib\\site-packages\\nilearn\\connectome\\connectivity_matrices.py:346: RuntimeWarning: invalid value encountered in multiply\n",
      "  correlation = covariance * diagonal * diagonal.T\n"
     ]
    },
    {
     "name": "stdout",
     "output_type": "stream",
     "text": [
      "1 003_S_6264.nii\n"
     ]
    },
    {
     "name": "stderr",
     "output_type": "stream",
     "text": [
      "C:\\Users\\praneeth darlanka\\anaconda3\\Lib\\site-packages\\nilearn\\signal.py:74: UserWarning: Standardization of 3D signal has been requested but would lead to zero values. Skipping.\n",
      "  warnings.warn(\n",
      "C:\\Users\\praneeth darlanka\\anaconda3\\Lib\\site-packages\\sklearn\\covariance\\_shrunk_covariance.py:327: UserWarning: Only one sample available. You may want to reshape your data array\n",
      "  warnings.warn(\n",
      "C:\\Users\\praneeth darlanka\\anaconda3\\Lib\\site-packages\\sklearn\\covariance\\_empirical_covariance.py:95: UserWarning: Only one sample available. You may want to reshape your data array\n",
      "  warnings.warn(\n",
      "C:\\Users\\praneeth darlanka\\anaconda3\\Lib\\site-packages\\nilearn\\connectome\\connectivity_matrices.py:345: RuntimeWarning: divide by zero encountered in divide\n",
      "  diagonal = np.atleast_2d(1.0 / np.sqrt(np.diag(covariance)))\n",
      "C:\\Users\\praneeth darlanka\\anaconda3\\Lib\\site-packages\\nilearn\\connectome\\connectivity_matrices.py:346: RuntimeWarning: invalid value encountered in multiply\n",
      "  correlation = covariance * diagonal * diagonal.T\n"
     ]
    },
    {
     "name": "stdout",
     "output_type": "stream",
     "text": [
      "2 003_S_6833.nii\n"
     ]
    },
    {
     "name": "stderr",
     "output_type": "stream",
     "text": [
      "C:\\Users\\praneeth darlanka\\anaconda3\\Lib\\site-packages\\nilearn\\signal.py:74: UserWarning: Standardization of 3D signal has been requested but would lead to zero values. Skipping.\n",
      "  warnings.warn(\n",
      "C:\\Users\\praneeth darlanka\\anaconda3\\Lib\\site-packages\\sklearn\\covariance\\_shrunk_covariance.py:327: UserWarning: Only one sample available. You may want to reshape your data array\n",
      "  warnings.warn(\n",
      "C:\\Users\\praneeth darlanka\\anaconda3\\Lib\\site-packages\\sklearn\\covariance\\_empirical_covariance.py:95: UserWarning: Only one sample available. You may want to reshape your data array\n",
      "  warnings.warn(\n",
      "C:\\Users\\praneeth darlanka\\anaconda3\\Lib\\site-packages\\nilearn\\connectome\\connectivity_matrices.py:345: RuntimeWarning: divide by zero encountered in divide\n",
      "  diagonal = np.atleast_2d(1.0 / np.sqrt(np.diag(covariance)))\n",
      "C:\\Users\\praneeth darlanka\\anaconda3\\Lib\\site-packages\\nilearn\\connectome\\connectivity_matrices.py:346: RuntimeWarning: invalid value encountered in multiply\n",
      "  correlation = covariance * diagonal * diagonal.T\n"
     ]
    },
    {
     "name": "stdout",
     "output_type": "stream",
     "text": [
      "3 011_S_4827.nii\n"
     ]
    },
    {
     "name": "stderr",
     "output_type": "stream",
     "text": [
      "C:\\Users\\praneeth darlanka\\anaconda3\\Lib\\site-packages\\nilearn\\signal.py:74: UserWarning: Standardization of 3D signal has been requested but would lead to zero values. Skipping.\n",
      "  warnings.warn(\n",
      "C:\\Users\\praneeth darlanka\\anaconda3\\Lib\\site-packages\\sklearn\\covariance\\_shrunk_covariance.py:327: UserWarning: Only one sample available. You may want to reshape your data array\n",
      "  warnings.warn(\n",
      "C:\\Users\\praneeth darlanka\\anaconda3\\Lib\\site-packages\\sklearn\\covariance\\_empirical_covariance.py:95: UserWarning: Only one sample available. You may want to reshape your data array\n",
      "  warnings.warn(\n",
      "C:\\Users\\praneeth darlanka\\anaconda3\\Lib\\site-packages\\nilearn\\connectome\\connectivity_matrices.py:345: RuntimeWarning: divide by zero encountered in divide\n",
      "  diagonal = np.atleast_2d(1.0 / np.sqrt(np.diag(covariance)))\n",
      "C:\\Users\\praneeth darlanka\\anaconda3\\Lib\\site-packages\\nilearn\\connectome\\connectivity_matrices.py:346: RuntimeWarning: invalid value encountered in multiply\n",
      "  correlation = covariance * diagonal * diagonal.T\n"
     ]
    },
    {
     "name": "stdout",
     "output_type": "stream",
     "text": [
      "4 011_S_6303_70.41_M.nii\n"
     ]
    },
    {
     "name": "stderr",
     "output_type": "stream",
     "text": [
      "C:\\Users\\praneeth darlanka\\anaconda3\\Lib\\site-packages\\nilearn\\signal.py:74: UserWarning: Standardization of 3D signal has been requested but would lead to zero values. Skipping.\n",
      "  warnings.warn(\n",
      "C:\\Users\\praneeth darlanka\\anaconda3\\Lib\\site-packages\\sklearn\\covariance\\_shrunk_covariance.py:327: UserWarning: Only one sample available. You may want to reshape your data array\n",
      "  warnings.warn(\n",
      "C:\\Users\\praneeth darlanka\\anaconda3\\Lib\\site-packages\\sklearn\\covariance\\_empirical_covariance.py:95: UserWarning: Only one sample available. You may want to reshape your data array\n",
      "  warnings.warn(\n",
      "C:\\Users\\praneeth darlanka\\anaconda3\\Lib\\site-packages\\nilearn\\connectome\\connectivity_matrices.py:345: RuntimeWarning: divide by zero encountered in divide\n",
      "  diagonal = np.atleast_2d(1.0 / np.sqrt(np.diag(covariance)))\n",
      "C:\\Users\\praneeth darlanka\\anaconda3\\Lib\\site-packages\\nilearn\\connectome\\connectivity_matrices.py:346: RuntimeWarning: invalid value encountered in multiply\n",
      "  correlation = covariance * diagonal * diagonal.T\n"
     ]
    },
    {
     "name": "stdout",
     "output_type": "stream",
     "text": [
      "5 011_S_6303_71.46_M.nii\n"
     ]
    },
    {
     "name": "stderr",
     "output_type": "stream",
     "text": [
      "C:\\Users\\praneeth darlanka\\anaconda3\\Lib\\site-packages\\nilearn\\signal.py:74: UserWarning: Standardization of 3D signal has been requested but would lead to zero values. Skipping.\n",
      "  warnings.warn(\n",
      "C:\\Users\\praneeth darlanka\\anaconda3\\Lib\\site-packages\\sklearn\\covariance\\_shrunk_covariance.py:327: UserWarning: Only one sample available. You may want to reshape your data array\n",
      "  warnings.warn(\n",
      "C:\\Users\\praneeth darlanka\\anaconda3\\Lib\\site-packages\\sklearn\\covariance\\_empirical_covariance.py:95: UserWarning: Only one sample available. You may want to reshape your data array\n",
      "  warnings.warn(\n",
      "C:\\Users\\praneeth darlanka\\anaconda3\\Lib\\site-packages\\nilearn\\connectome\\connectivity_matrices.py:345: RuntimeWarning: divide by zero encountered in divide\n",
      "  diagonal = np.atleast_2d(1.0 / np.sqrt(np.diag(covariance)))\n",
      "C:\\Users\\praneeth darlanka\\anaconda3\\Lib\\site-packages\\nilearn\\connectome\\connectivity_matrices.py:346: RuntimeWarning: invalid value encountered in multiply\n",
      "  correlation = covariance * diagonal * diagonal.T\n"
     ]
    },
    {
     "name": "stdout",
     "output_type": "stream",
     "text": [
      "6 013_S_6768.nii\n"
     ]
    },
    {
     "name": "stderr",
     "output_type": "stream",
     "text": [
      "C:\\Users\\praneeth darlanka\\anaconda3\\Lib\\site-packages\\nilearn\\signal.py:74: UserWarning: Standardization of 3D signal has been requested but would lead to zero values. Skipping.\n",
      "  warnings.warn(\n",
      "C:\\Users\\praneeth darlanka\\anaconda3\\Lib\\site-packages\\sklearn\\covariance\\_shrunk_covariance.py:327: UserWarning: Only one sample available. You may want to reshape your data array\n",
      "  warnings.warn(\n",
      "C:\\Users\\praneeth darlanka\\anaconda3\\Lib\\site-packages\\sklearn\\covariance\\_empirical_covariance.py:95: UserWarning: Only one sample available. You may want to reshape your data array\n",
      "  warnings.warn(\n",
      "C:\\Users\\praneeth darlanka\\anaconda3\\Lib\\site-packages\\nilearn\\connectome\\connectivity_matrices.py:345: RuntimeWarning: divide by zero encountered in divide\n",
      "  diagonal = np.atleast_2d(1.0 / np.sqrt(np.diag(covariance)))\n",
      "C:\\Users\\praneeth darlanka\\anaconda3\\Lib\\site-packages\\nilearn\\connectome\\connectivity_matrices.py:346: RuntimeWarning: invalid value encountered in multiply\n",
      "  correlation = covariance * diagonal * diagonal.T\n"
     ]
    },
    {
     "name": "stdout",
     "output_type": "stream",
     "text": [
      "7 013_S_6975.nii\n"
     ]
    },
    {
     "name": "stderr",
     "output_type": "stream",
     "text": [
      "C:\\Users\\praneeth darlanka\\anaconda3\\Lib\\site-packages\\nilearn\\signal.py:74: UserWarning: Standardization of 3D signal has been requested but would lead to zero values. Skipping.\n",
      "  warnings.warn(\n",
      "C:\\Users\\praneeth darlanka\\anaconda3\\Lib\\site-packages\\sklearn\\covariance\\_shrunk_covariance.py:327: UserWarning: Only one sample available. You may want to reshape your data array\n",
      "  warnings.warn(\n",
      "C:\\Users\\praneeth darlanka\\anaconda3\\Lib\\site-packages\\sklearn\\covariance\\_empirical_covariance.py:95: UserWarning: Only one sample available. You may want to reshape your data array\n",
      "  warnings.warn(\n",
      "C:\\Users\\praneeth darlanka\\anaconda3\\Lib\\site-packages\\nilearn\\connectome\\connectivity_matrices.py:345: RuntimeWarning: divide by zero encountered in divide\n",
      "  diagonal = np.atleast_2d(1.0 / np.sqrt(np.diag(covariance)))\n",
      "C:\\Users\\praneeth darlanka\\anaconda3\\Lib\\site-packages\\nilearn\\connectome\\connectivity_matrices.py:346: RuntimeWarning: invalid value encountered in multiply\n",
      "  correlation = covariance * diagonal * diagonal.T\n"
     ]
    },
    {
     "name": "stdout",
     "output_type": "stream",
     "text": [
      "8 022_S_6013_60.42_F.nii\n"
     ]
    },
    {
     "name": "stderr",
     "output_type": "stream",
     "text": [
      "C:\\Users\\praneeth darlanka\\anaconda3\\Lib\\site-packages\\nilearn\\signal.py:74: UserWarning: Standardization of 3D signal has been requested but would lead to zero values. Skipping.\n",
      "  warnings.warn(\n",
      "C:\\Users\\praneeth darlanka\\anaconda3\\Lib\\site-packages\\sklearn\\covariance\\_shrunk_covariance.py:327: UserWarning: Only one sample available. You may want to reshape your data array\n",
      "  warnings.warn(\n",
      "C:\\Users\\praneeth darlanka\\anaconda3\\Lib\\site-packages\\sklearn\\covariance\\_empirical_covariance.py:95: UserWarning: Only one sample available. You may want to reshape your data array\n",
      "  warnings.warn(\n",
      "C:\\Users\\praneeth darlanka\\anaconda3\\Lib\\site-packages\\nilearn\\connectome\\connectivity_matrices.py:345: RuntimeWarning: divide by zero encountered in divide\n",
      "  diagonal = np.atleast_2d(1.0 / np.sqrt(np.diag(covariance)))\n",
      "C:\\Users\\praneeth darlanka\\anaconda3\\Lib\\site-packages\\nilearn\\connectome\\connectivity_matrices.py:346: RuntimeWarning: invalid value encountered in multiply\n",
      "  correlation = covariance * diagonal * diagonal.T\n"
     ]
    },
    {
     "name": "stdout",
     "output_type": "stream",
     "text": [
      "9 032_S_6600_71.29_F.nii\n"
     ]
    },
    {
     "name": "stderr",
     "output_type": "stream",
     "text": [
      "C:\\Users\\praneeth darlanka\\anaconda3\\Lib\\site-packages\\nilearn\\signal.py:74: UserWarning: Standardization of 3D signal has been requested but would lead to zero values. Skipping.\n",
      "  warnings.warn(\n",
      "C:\\Users\\praneeth darlanka\\anaconda3\\Lib\\site-packages\\sklearn\\covariance\\_shrunk_covariance.py:327: UserWarning: Only one sample available. You may want to reshape your data array\n",
      "  warnings.warn(\n",
      "C:\\Users\\praneeth darlanka\\anaconda3\\Lib\\site-packages\\sklearn\\covariance\\_empirical_covariance.py:95: UserWarning: Only one sample available. You may want to reshape your data array\n",
      "  warnings.warn(\n",
      "C:\\Users\\praneeth darlanka\\anaconda3\\Lib\\site-packages\\nilearn\\connectome\\connectivity_matrices.py:345: RuntimeWarning: divide by zero encountered in divide\n",
      "  diagonal = np.atleast_2d(1.0 / np.sqrt(np.diag(covariance)))\n",
      "C:\\Users\\praneeth darlanka\\anaconda3\\Lib\\site-packages\\nilearn\\connectome\\connectivity_matrices.py:346: RuntimeWarning: invalid value encountered in multiply\n",
      "  correlation = covariance * diagonal * diagonal.T\n"
     ]
    },
    {
     "name": "stdout",
     "output_type": "stream",
     "text": [
      "10 032_S_6600_72.38_F.nii\n"
     ]
    },
    {
     "name": "stderr",
     "output_type": "stream",
     "text": [
      "C:\\Users\\praneeth darlanka\\anaconda3\\Lib\\site-packages\\nilearn\\signal.py:74: UserWarning: Standardization of 3D signal has been requested but would lead to zero values. Skipping.\n",
      "  warnings.warn(\n",
      "C:\\Users\\praneeth darlanka\\anaconda3\\Lib\\site-packages\\sklearn\\covariance\\_shrunk_covariance.py:327: UserWarning: Only one sample available. You may want to reshape your data array\n",
      "  warnings.warn(\n",
      "C:\\Users\\praneeth darlanka\\anaconda3\\Lib\\site-packages\\sklearn\\covariance\\_empirical_covariance.py:95: UserWarning: Only one sample available. You may want to reshape your data array\n",
      "  warnings.warn(\n",
      "C:\\Users\\praneeth darlanka\\anaconda3\\Lib\\site-packages\\nilearn\\connectome\\connectivity_matrices.py:345: RuntimeWarning: divide by zero encountered in divide\n",
      "  diagonal = np.atleast_2d(1.0 / np.sqrt(np.diag(covariance)))\n",
      "C:\\Users\\praneeth darlanka\\anaconda3\\Lib\\site-packages\\nilearn\\connectome\\connectivity_matrices.py:346: RuntimeWarning: invalid value encountered in multiply\n",
      "  correlation = covariance * diagonal * diagonal.T\n"
     ]
    },
    {
     "name": "stdout",
     "output_type": "stream",
     "text": [
      "11 032_S_6602_63.37_M.nii\n"
     ]
    },
    {
     "name": "stderr",
     "output_type": "stream",
     "text": [
      "C:\\Users\\praneeth darlanka\\anaconda3\\Lib\\site-packages\\nilearn\\signal.py:74: UserWarning: Standardization of 3D signal has been requested but would lead to zero values. Skipping.\n",
      "  warnings.warn(\n",
      "C:\\Users\\praneeth darlanka\\anaconda3\\Lib\\site-packages\\sklearn\\covariance\\_shrunk_covariance.py:327: UserWarning: Only one sample available. You may want to reshape your data array\n",
      "  warnings.warn(\n",
      "C:\\Users\\praneeth darlanka\\anaconda3\\Lib\\site-packages\\sklearn\\covariance\\_empirical_covariance.py:95: UserWarning: Only one sample available. You may want to reshape your data array\n",
      "  warnings.warn(\n",
      "C:\\Users\\praneeth darlanka\\anaconda3\\Lib\\site-packages\\nilearn\\connectome\\connectivity_matrices.py:345: RuntimeWarning: divide by zero encountered in divide\n",
      "  diagonal = np.atleast_2d(1.0 / np.sqrt(np.diag(covariance)))\n",
      "C:\\Users\\praneeth darlanka\\anaconda3\\Lib\\site-packages\\nilearn\\connectome\\connectivity_matrices.py:346: RuntimeWarning: invalid value encountered in multiply\n",
      "  correlation = covariance * diagonal * diagonal.T\n"
     ]
    },
    {
     "name": "stdout",
     "output_type": "stream",
     "text": [
      "12 032_S_6602_64.45_M.nii\n"
     ]
    },
    {
     "name": "stderr",
     "output_type": "stream",
     "text": [
      "C:\\Users\\praneeth darlanka\\anaconda3\\Lib\\site-packages\\nilearn\\signal.py:74: UserWarning: Standardization of 3D signal has been requested but would lead to zero values. Skipping.\n",
      "  warnings.warn(\n",
      "C:\\Users\\praneeth darlanka\\anaconda3\\Lib\\site-packages\\sklearn\\covariance\\_shrunk_covariance.py:327: UserWarning: Only one sample available. You may want to reshape your data array\n",
      "  warnings.warn(\n",
      "C:\\Users\\praneeth darlanka\\anaconda3\\Lib\\site-packages\\sklearn\\covariance\\_empirical_covariance.py:95: UserWarning: Only one sample available. You may want to reshape your data array\n",
      "  warnings.warn(\n",
      "C:\\Users\\praneeth darlanka\\anaconda3\\Lib\\site-packages\\nilearn\\connectome\\connectivity_matrices.py:345: RuntimeWarning: divide by zero encountered in divide\n",
      "  diagonal = np.atleast_2d(1.0 / np.sqrt(np.diag(covariance)))\n",
      "C:\\Users\\praneeth darlanka\\anaconda3\\Lib\\site-packages\\nilearn\\connectome\\connectivity_matrices.py:346: RuntimeWarning: invalid value encountered in multiply\n",
      "  correlation = covariance * diagonal * diagonal.T\n"
     ]
    },
    {
     "name": "stdout",
     "output_type": "stream",
     "text": [
      "13 032_S_6855.nii\n"
     ]
    },
    {
     "name": "stderr",
     "output_type": "stream",
     "text": [
      "C:\\Users\\praneeth darlanka\\anaconda3\\Lib\\site-packages\\nilearn\\signal.py:74: UserWarning: Standardization of 3D signal has been requested but would lead to zero values. Skipping.\n",
      "  warnings.warn(\n",
      "C:\\Users\\praneeth darlanka\\anaconda3\\Lib\\site-packages\\sklearn\\covariance\\_shrunk_covariance.py:327: UserWarning: Only one sample available. You may want to reshape your data array\n",
      "  warnings.warn(\n",
      "C:\\Users\\praneeth darlanka\\anaconda3\\Lib\\site-packages\\sklearn\\covariance\\_empirical_covariance.py:95: UserWarning: Only one sample available. You may want to reshape your data array\n",
      "  warnings.warn(\n",
      "C:\\Users\\praneeth darlanka\\anaconda3\\Lib\\site-packages\\nilearn\\connectome\\connectivity_matrices.py:345: RuntimeWarning: divide by zero encountered in divide\n",
      "  diagonal = np.atleast_2d(1.0 / np.sqrt(np.diag(covariance)))\n",
      "C:\\Users\\praneeth darlanka\\anaconda3\\Lib\\site-packages\\nilearn\\connectome\\connectivity_matrices.py:346: RuntimeWarning: invalid value encountered in multiply\n",
      "  correlation = covariance * diagonal * diagonal.T\n"
     ]
    },
    {
     "name": "stdout",
     "output_type": "stream",
     "text": [
      "14 035_S_6650.nii\n"
     ]
    },
    {
     "name": "stderr",
     "output_type": "stream",
     "text": [
      "C:\\Users\\praneeth darlanka\\anaconda3\\Lib\\site-packages\\nilearn\\signal.py:74: UserWarning: Standardization of 3D signal has been requested but would lead to zero values. Skipping.\n",
      "  warnings.warn(\n",
      "C:\\Users\\praneeth darlanka\\anaconda3\\Lib\\site-packages\\sklearn\\covariance\\_shrunk_covariance.py:327: UserWarning: Only one sample available. You may want to reshape your data array\n",
      "  warnings.warn(\n",
      "C:\\Users\\praneeth darlanka\\anaconda3\\Lib\\site-packages\\sklearn\\covariance\\_empirical_covariance.py:95: UserWarning: Only one sample available. You may want to reshape your data array\n",
      "  warnings.warn(\n",
      "C:\\Users\\praneeth darlanka\\anaconda3\\Lib\\site-packages\\nilearn\\connectome\\connectivity_matrices.py:345: RuntimeWarning: divide by zero encountered in divide\n",
      "  diagonal = np.atleast_2d(1.0 / np.sqrt(np.diag(covariance)))\n",
      "C:\\Users\\praneeth darlanka\\anaconda3\\Lib\\site-packages\\nilearn\\connectome\\connectivity_matrices.py:346: RuntimeWarning: invalid value encountered in multiply\n",
      "  correlation = covariance * diagonal * diagonal.T\n"
     ]
    },
    {
     "name": "stdout",
     "output_type": "stream",
     "text": [
      "15 035_S_6660.nii\n"
     ]
    },
    {
     "name": "stderr",
     "output_type": "stream",
     "text": [
      "C:\\Users\\praneeth darlanka\\anaconda3\\Lib\\site-packages\\nilearn\\signal.py:74: UserWarning: Standardization of 3D signal has been requested but would lead to zero values. Skipping.\n",
      "  warnings.warn(\n",
      "C:\\Users\\praneeth darlanka\\anaconda3\\Lib\\site-packages\\sklearn\\covariance\\_shrunk_covariance.py:327: UserWarning: Only one sample available. You may want to reshape your data array\n",
      "  warnings.warn(\n",
      "C:\\Users\\praneeth darlanka\\anaconda3\\Lib\\site-packages\\sklearn\\covariance\\_empirical_covariance.py:95: UserWarning: Only one sample available. You may want to reshape your data array\n",
      "  warnings.warn(\n",
      "C:\\Users\\praneeth darlanka\\anaconda3\\Lib\\site-packages\\nilearn\\connectome\\connectivity_matrices.py:345: RuntimeWarning: divide by zero encountered in divide\n",
      "  diagonal = np.atleast_2d(1.0 / np.sqrt(np.diag(covariance)))\n",
      "C:\\Users\\praneeth darlanka\\anaconda3\\Lib\\site-packages\\nilearn\\connectome\\connectivity_matrices.py:346: RuntimeWarning: invalid value encountered in multiply\n",
      "  correlation = covariance * diagonal * diagonal.T\n"
     ]
    },
    {
     "name": "stdout",
     "output_type": "stream",
     "text": [
      "16 082_S_6690.nii\n"
     ]
    },
    {
     "name": "stderr",
     "output_type": "stream",
     "text": [
      "C:\\Users\\praneeth darlanka\\anaconda3\\Lib\\site-packages\\nilearn\\signal.py:74: UserWarning: Standardization of 3D signal has been requested but would lead to zero values. Skipping.\n",
      "  warnings.warn(\n",
      "C:\\Users\\praneeth darlanka\\anaconda3\\Lib\\site-packages\\sklearn\\covariance\\_shrunk_covariance.py:327: UserWarning: Only one sample available. You may want to reshape your data array\n",
      "  warnings.warn(\n",
      "C:\\Users\\praneeth darlanka\\anaconda3\\Lib\\site-packages\\sklearn\\covariance\\_empirical_covariance.py:95: UserWarning: Only one sample available. You may want to reshape your data array\n",
      "  warnings.warn(\n",
      "C:\\Users\\praneeth darlanka\\anaconda3\\Lib\\site-packages\\nilearn\\connectome\\connectivity_matrices.py:345: RuntimeWarning: divide by zero encountered in divide\n",
      "  diagonal = np.atleast_2d(1.0 / np.sqrt(np.diag(covariance)))\n",
      "C:\\Users\\praneeth darlanka\\anaconda3\\Lib\\site-packages\\nilearn\\connectome\\connectivity_matrices.py:346: RuntimeWarning: invalid value encountered in multiply\n",
      "  correlation = covariance * diagonal * diagonal.T\n"
     ]
    },
    {
     "name": "stdout",
     "output_type": "stream",
     "text": [
      "17 114_S_6347_86.0_M.nii\n"
     ]
    },
    {
     "name": "stderr",
     "output_type": "stream",
     "text": [
      "C:\\Users\\praneeth darlanka\\anaconda3\\Lib\\site-packages\\nilearn\\signal.py:74: UserWarning: Standardization of 3D signal has been requested but would lead to zero values. Skipping.\n",
      "  warnings.warn(\n",
      "C:\\Users\\praneeth darlanka\\anaconda3\\Lib\\site-packages\\sklearn\\covariance\\_shrunk_covariance.py:327: UserWarning: Only one sample available. You may want to reshape your data array\n",
      "  warnings.warn(\n",
      "C:\\Users\\praneeth darlanka\\anaconda3\\Lib\\site-packages\\sklearn\\covariance\\_empirical_covariance.py:95: UserWarning: Only one sample available. You may want to reshape your data array\n",
      "  warnings.warn(\n",
      "C:\\Users\\praneeth darlanka\\anaconda3\\Lib\\site-packages\\nilearn\\connectome\\connectivity_matrices.py:345: RuntimeWarning: divide by zero encountered in divide\n",
      "  diagonal = np.atleast_2d(1.0 / np.sqrt(np.diag(covariance)))\n",
      "C:\\Users\\praneeth darlanka\\anaconda3\\Lib\\site-packages\\nilearn\\connectome\\connectivity_matrices.py:346: RuntimeWarning: invalid value encountered in multiply\n",
      "  correlation = covariance * diagonal * diagonal.T\n"
     ]
    },
    {
     "name": "stdout",
     "output_type": "stream",
     "text": [
      "18 114_S_6347_88.28_M.nii\n"
     ]
    },
    {
     "name": "stderr",
     "output_type": "stream",
     "text": [
      "C:\\Users\\praneeth darlanka\\anaconda3\\Lib\\site-packages\\nilearn\\signal.py:74: UserWarning: Standardization of 3D signal has been requested but would lead to zero values. Skipping.\n",
      "  warnings.warn(\n",
      "C:\\Users\\praneeth darlanka\\anaconda3\\Lib\\site-packages\\sklearn\\covariance\\_shrunk_covariance.py:327: UserWarning: Only one sample available. You may want to reshape your data array\n",
      "  warnings.warn(\n",
      "C:\\Users\\praneeth darlanka\\anaconda3\\Lib\\site-packages\\sklearn\\covariance\\_empirical_covariance.py:95: UserWarning: Only one sample available. You may want to reshape your data array\n",
      "  warnings.warn(\n",
      "C:\\Users\\praneeth darlanka\\anaconda3\\Lib\\site-packages\\nilearn\\connectome\\connectivity_matrices.py:345: RuntimeWarning: divide by zero encountered in divide\n",
      "  diagonal = np.atleast_2d(1.0 / np.sqrt(np.diag(covariance)))\n",
      "C:\\Users\\praneeth darlanka\\anaconda3\\Lib\\site-packages\\nilearn\\connectome\\connectivity_matrices.py:346: RuntimeWarning: invalid value encountered in multiply\n",
      "  correlation = covariance * diagonal * diagonal.T\n"
     ]
    },
    {
     "name": "stdout",
     "output_type": "stream",
     "text": [
      "19 114_S_6368.nii\n"
     ]
    },
    {
     "name": "stderr",
     "output_type": "stream",
     "text": [
      "C:\\Users\\praneeth darlanka\\anaconda3\\Lib\\site-packages\\nilearn\\signal.py:74: UserWarning: Standardization of 3D signal has been requested but would lead to zero values. Skipping.\n",
      "  warnings.warn(\n",
      "C:\\Users\\praneeth darlanka\\anaconda3\\Lib\\site-packages\\sklearn\\covariance\\_shrunk_covariance.py:327: UserWarning: Only one sample available. You may want to reshape your data array\n",
      "  warnings.warn(\n",
      "C:\\Users\\praneeth darlanka\\anaconda3\\Lib\\site-packages\\sklearn\\covariance\\_empirical_covariance.py:95: UserWarning: Only one sample available. You may want to reshape your data array\n",
      "  warnings.warn(\n",
      "C:\\Users\\praneeth darlanka\\anaconda3\\Lib\\site-packages\\nilearn\\connectome\\connectivity_matrices.py:345: RuntimeWarning: divide by zero encountered in divide\n",
      "  diagonal = np.atleast_2d(1.0 / np.sqrt(np.diag(covariance)))\n",
      "C:\\Users\\praneeth darlanka\\anaconda3\\Lib\\site-packages\\nilearn\\connectome\\connectivity_matrices.py:346: RuntimeWarning: invalid value encountered in multiply\n",
      "  correlation = covariance * diagonal * diagonal.T\n"
     ]
    },
    {
     "name": "stdout",
     "output_type": "stream",
     "text": [
      "20 114_S_6595.nii\n"
     ]
    },
    {
     "name": "stderr",
     "output_type": "stream",
     "text": [
      "C:\\Users\\praneeth darlanka\\anaconda3\\Lib\\site-packages\\nilearn\\signal.py:74: UserWarning: Standardization of 3D signal has been requested but would lead to zero values. Skipping.\n",
      "  warnings.warn(\n",
      "C:\\Users\\praneeth darlanka\\anaconda3\\Lib\\site-packages\\sklearn\\covariance\\_shrunk_covariance.py:327: UserWarning: Only one sample available. You may want to reshape your data array\n",
      "  warnings.warn(\n",
      "C:\\Users\\praneeth darlanka\\anaconda3\\Lib\\site-packages\\sklearn\\covariance\\_empirical_covariance.py:95: UserWarning: Only one sample available. You may want to reshape your data array\n",
      "  warnings.warn(\n",
      "C:\\Users\\praneeth darlanka\\anaconda3\\Lib\\site-packages\\nilearn\\connectome\\connectivity_matrices.py:345: RuntimeWarning: divide by zero encountered in divide\n",
      "  diagonal = np.atleast_2d(1.0 / np.sqrt(np.diag(covariance)))\n",
      "C:\\Users\\praneeth darlanka\\anaconda3\\Lib\\site-packages\\nilearn\\connectome\\connectivity_matrices.py:346: RuntimeWarning: invalid value encountered in multiply\n",
      "  correlation = covariance * diagonal * diagonal.T\n"
     ]
    },
    {
     "name": "stdout",
     "output_type": "stream",
     "text": [
      "21 116_S_6100_71.32_F.nii\n"
     ]
    },
    {
     "name": "stderr",
     "output_type": "stream",
     "text": [
      "C:\\Users\\praneeth darlanka\\anaconda3\\Lib\\site-packages\\nilearn\\signal.py:74: UserWarning: Standardization of 3D signal has been requested but would lead to zero values. Skipping.\n",
      "  warnings.warn(\n",
      "C:\\Users\\praneeth darlanka\\anaconda3\\Lib\\site-packages\\sklearn\\covariance\\_shrunk_covariance.py:327: UserWarning: Only one sample available. You may want to reshape your data array\n",
      "  warnings.warn(\n",
      "C:\\Users\\praneeth darlanka\\anaconda3\\Lib\\site-packages\\sklearn\\covariance\\_empirical_covariance.py:95: UserWarning: Only one sample available. You may want to reshape your data array\n",
      "  warnings.warn(\n",
      "C:\\Users\\praneeth darlanka\\anaconda3\\Lib\\site-packages\\nilearn\\connectome\\connectivity_matrices.py:345: RuntimeWarning: divide by zero encountered in divide\n",
      "  diagonal = np.atleast_2d(1.0 / np.sqrt(np.diag(covariance)))\n",
      "C:\\Users\\praneeth darlanka\\anaconda3\\Lib\\site-packages\\nilearn\\connectome\\connectivity_matrices.py:346: RuntimeWarning: invalid value encountered in multiply\n",
      "  correlation = covariance * diagonal * diagonal.T\n"
     ]
    },
    {
     "name": "stdout",
     "output_type": "stream",
     "text": [
      "22 116_S_6100_72.56_F.nii\n"
     ]
    },
    {
     "name": "stderr",
     "output_type": "stream",
     "text": [
      "C:\\Users\\praneeth darlanka\\anaconda3\\Lib\\site-packages\\nilearn\\signal.py:74: UserWarning: Standardization of 3D signal has been requested but would lead to zero values. Skipping.\n",
      "  warnings.warn(\n",
      "C:\\Users\\praneeth darlanka\\anaconda3\\Lib\\site-packages\\sklearn\\covariance\\_shrunk_covariance.py:327: UserWarning: Only one sample available. You may want to reshape your data array\n",
      "  warnings.warn(\n",
      "C:\\Users\\praneeth darlanka\\anaconda3\\Lib\\site-packages\\sklearn\\covariance\\_empirical_covariance.py:95: UserWarning: Only one sample available. You may want to reshape your data array\n",
      "  warnings.warn(\n",
      "C:\\Users\\praneeth darlanka\\anaconda3\\Lib\\site-packages\\nilearn\\connectome\\connectivity_matrices.py:345: RuntimeWarning: divide by zero encountered in divide\n",
      "  diagonal = np.atleast_2d(1.0 / np.sqrt(np.diag(covariance)))\n",
      "C:\\Users\\praneeth darlanka\\anaconda3\\Lib\\site-packages\\nilearn\\connectome\\connectivity_matrices.py:346: RuntimeWarning: invalid value encountered in multiply\n",
      "  correlation = covariance * diagonal * diagonal.T\n"
     ]
    },
    {
     "name": "stdout",
     "output_type": "stream",
     "text": [
      "23 116_S_6543_72.29_M.nii\n"
     ]
    },
    {
     "name": "stderr",
     "output_type": "stream",
     "text": [
      "C:\\Users\\praneeth darlanka\\anaconda3\\Lib\\site-packages\\nilearn\\signal.py:74: UserWarning: Standardization of 3D signal has been requested but would lead to zero values. Skipping.\n",
      "  warnings.warn(\n",
      "C:\\Users\\praneeth darlanka\\anaconda3\\Lib\\site-packages\\sklearn\\covariance\\_shrunk_covariance.py:327: UserWarning: Only one sample available. You may want to reshape your data array\n",
      "  warnings.warn(\n",
      "C:\\Users\\praneeth darlanka\\anaconda3\\Lib\\site-packages\\sklearn\\covariance\\_empirical_covariance.py:95: UserWarning: Only one sample available. You may want to reshape your data array\n",
      "  warnings.warn(\n",
      "C:\\Users\\praneeth darlanka\\anaconda3\\Lib\\site-packages\\nilearn\\connectome\\connectivity_matrices.py:345: RuntimeWarning: divide by zero encountered in divide\n",
      "  diagonal = np.atleast_2d(1.0 / np.sqrt(np.diag(covariance)))\n",
      "C:\\Users\\praneeth darlanka\\anaconda3\\Lib\\site-packages\\nilearn\\connectome\\connectivity_matrices.py:346: RuntimeWarning: invalid value encountered in multiply\n",
      "  correlation = covariance * diagonal * diagonal.T\n"
     ]
    },
    {
     "name": "stdout",
     "output_type": "stream",
     "text": [
      "24 116_S_6543_73.57_M.nii\n"
     ]
    },
    {
     "name": "stderr",
     "output_type": "stream",
     "text": [
      "C:\\Users\\praneeth darlanka\\anaconda3\\Lib\\site-packages\\nilearn\\signal.py:74: UserWarning: Standardization of 3D signal has been requested but would lead to zero values. Skipping.\n",
      "  warnings.warn(\n",
      "C:\\Users\\praneeth darlanka\\anaconda3\\Lib\\site-packages\\sklearn\\covariance\\_shrunk_covariance.py:327: UserWarning: Only one sample available. You may want to reshape your data array\n",
      "  warnings.warn(\n",
      "C:\\Users\\praneeth darlanka\\anaconda3\\Lib\\site-packages\\sklearn\\covariance\\_empirical_covariance.py:95: UserWarning: Only one sample available. You may want to reshape your data array\n",
      "  warnings.warn(\n",
      "C:\\Users\\praneeth darlanka\\anaconda3\\Lib\\site-packages\\nilearn\\connectome\\connectivity_matrices.py:345: RuntimeWarning: divide by zero encountered in divide\n",
      "  diagonal = np.atleast_2d(1.0 / np.sqrt(np.diag(covariance)))\n",
      "C:\\Users\\praneeth darlanka\\anaconda3\\Lib\\site-packages\\nilearn\\connectome\\connectivity_matrices.py:346: RuntimeWarning: invalid value encountered in multiply\n",
      "  correlation = covariance * diagonal * diagonal.T\n"
     ]
    },
    {
     "name": "stdout",
     "output_type": "stream",
     "text": [
      "25 168_S_6142_86.1_F.nii\n"
     ]
    },
    {
     "name": "stderr",
     "output_type": "stream",
     "text": [
      "C:\\Users\\praneeth darlanka\\anaconda3\\Lib\\site-packages\\nilearn\\signal.py:74: UserWarning: Standardization of 3D signal has been requested but would lead to zero values. Skipping.\n",
      "  warnings.warn(\n",
      "C:\\Users\\praneeth darlanka\\anaconda3\\Lib\\site-packages\\sklearn\\covariance\\_shrunk_covariance.py:327: UserWarning: Only one sample available. You may want to reshape your data array\n",
      "  warnings.warn(\n",
      "C:\\Users\\praneeth darlanka\\anaconda3\\Lib\\site-packages\\sklearn\\covariance\\_empirical_covariance.py:95: UserWarning: Only one sample available. You may want to reshape your data array\n",
      "  warnings.warn(\n",
      "C:\\Users\\praneeth darlanka\\anaconda3\\Lib\\site-packages\\nilearn\\connectome\\connectivity_matrices.py:345: RuntimeWarning: divide by zero encountered in divide\n",
      "  diagonal = np.atleast_2d(1.0 / np.sqrt(np.diag(covariance)))\n",
      "C:\\Users\\praneeth darlanka\\anaconda3\\Lib\\site-packages\\nilearn\\connectome\\connectivity_matrices.py:346: RuntimeWarning: invalid value encountered in multiply\n",
      "  correlation = covariance * diagonal * diagonal.T\n"
     ]
    },
    {
     "name": "stdout",
     "output_type": "stream",
     "text": [
      "26 168_S_6142_87.52_F.nii\n"
     ]
    },
    {
     "name": "stderr",
     "output_type": "stream",
     "text": [
      "C:\\Users\\praneeth darlanka\\anaconda3\\Lib\\site-packages\\nilearn\\signal.py:74: UserWarning: Standardization of 3D signal has been requested but would lead to zero values. Skipping.\n",
      "  warnings.warn(\n",
      "C:\\Users\\praneeth darlanka\\anaconda3\\Lib\\site-packages\\sklearn\\covariance\\_shrunk_covariance.py:327: UserWarning: Only one sample available. You may want to reshape your data array\n",
      "  warnings.warn(\n",
      "C:\\Users\\praneeth darlanka\\anaconda3\\Lib\\site-packages\\sklearn\\covariance\\_empirical_covariance.py:95: UserWarning: Only one sample available. You may want to reshape your data array\n",
      "  warnings.warn(\n",
      "C:\\Users\\praneeth darlanka\\anaconda3\\Lib\\site-packages\\nilearn\\connectome\\connectivity_matrices.py:345: RuntimeWarning: divide by zero encountered in divide\n",
      "  diagonal = np.atleast_2d(1.0 / np.sqrt(np.diag(covariance)))\n",
      "C:\\Users\\praneeth darlanka\\anaconda3\\Lib\\site-packages\\nilearn\\connectome\\connectivity_matrices.py:346: RuntimeWarning: invalid value encountered in multiply\n",
      "  correlation = covariance * diagonal * diagonal.T\n"
     ]
    },
    {
     "name": "stdout",
     "output_type": "stream",
     "text": [
      "27 168_S_6142_88.31_F.nii\n"
     ]
    },
    {
     "name": "stderr",
     "output_type": "stream",
     "text": [
      "C:\\Users\\praneeth darlanka\\anaconda3\\Lib\\site-packages\\nilearn\\signal.py:74: UserWarning: Standardization of 3D signal has been requested but would lead to zero values. Skipping.\n",
      "  warnings.warn(\n",
      "C:\\Users\\praneeth darlanka\\anaconda3\\Lib\\site-packages\\sklearn\\covariance\\_shrunk_covariance.py:327: UserWarning: Only one sample available. You may want to reshape your data array\n",
      "  warnings.warn(\n",
      "C:\\Users\\praneeth darlanka\\anaconda3\\Lib\\site-packages\\sklearn\\covariance\\_empirical_covariance.py:95: UserWarning: Only one sample available. You may want to reshape your data array\n",
      "  warnings.warn(\n",
      "C:\\Users\\praneeth darlanka\\anaconda3\\Lib\\site-packages\\nilearn\\connectome\\connectivity_matrices.py:345: RuntimeWarning: divide by zero encountered in divide\n",
      "  diagonal = np.atleast_2d(1.0 / np.sqrt(np.diag(covariance)))\n",
      "C:\\Users\\praneeth darlanka\\anaconda3\\Lib\\site-packages\\nilearn\\connectome\\connectivity_matrices.py:346: RuntimeWarning: invalid value encountered in multiply\n",
      "  correlation = covariance * diagonal * diagonal.T\n"
     ]
    },
    {
     "name": "stdout",
     "output_type": "stream",
     "text": [
      "28 168_S_6735.nii\n"
     ]
    },
    {
     "name": "stderr",
     "output_type": "stream",
     "text": [
      "C:\\Users\\praneeth darlanka\\anaconda3\\Lib\\site-packages\\nilearn\\signal.py:74: UserWarning: Standardization of 3D signal has been requested but would lead to zero values. Skipping.\n",
      "  warnings.warn(\n",
      "C:\\Users\\praneeth darlanka\\anaconda3\\Lib\\site-packages\\sklearn\\covariance\\_shrunk_covariance.py:327: UserWarning: Only one sample available. You may want to reshape your data array\n",
      "  warnings.warn(\n",
      "C:\\Users\\praneeth darlanka\\anaconda3\\Lib\\site-packages\\sklearn\\covariance\\_empirical_covariance.py:95: UserWarning: Only one sample available. You may want to reshape your data array\n",
      "  warnings.warn(\n",
      "C:\\Users\\praneeth darlanka\\anaconda3\\Lib\\site-packages\\nilearn\\connectome\\connectivity_matrices.py:345: RuntimeWarning: divide by zero encountered in divide\n",
      "  diagonal = np.atleast_2d(1.0 / np.sqrt(np.diag(covariance)))\n",
      "C:\\Users\\praneeth darlanka\\anaconda3\\Lib\\site-packages\\nilearn\\connectome\\connectivity_matrices.py:346: RuntimeWarning: invalid value encountered in multiply\n",
      "  correlation = covariance * diagonal * diagonal.T\n"
     ]
    },
    {
     "name": "stdout",
     "output_type": "stream",
     "text": [
      "29 168_S_6754_77.92_M.nii\n"
     ]
    },
    {
     "name": "stderr",
     "output_type": "stream",
     "text": [
      "C:\\Users\\praneeth darlanka\\anaconda3\\Lib\\site-packages\\nilearn\\signal.py:74: UserWarning: Standardization of 3D signal has been requested but would lead to zero values. Skipping.\n",
      "  warnings.warn(\n",
      "C:\\Users\\praneeth darlanka\\anaconda3\\Lib\\site-packages\\sklearn\\covariance\\_shrunk_covariance.py:327: UserWarning: Only one sample available. You may want to reshape your data array\n",
      "  warnings.warn(\n",
      "C:\\Users\\praneeth darlanka\\anaconda3\\Lib\\site-packages\\sklearn\\covariance\\_empirical_covariance.py:95: UserWarning: Only one sample available. You may want to reshape your data array\n",
      "  warnings.warn(\n",
      "C:\\Users\\praneeth darlanka\\anaconda3\\Lib\\site-packages\\nilearn\\connectome\\connectivity_matrices.py:345: RuntimeWarning: divide by zero encountered in divide\n",
      "  diagonal = np.atleast_2d(1.0 / np.sqrt(np.diag(covariance)))\n",
      "C:\\Users\\praneeth darlanka\\anaconda3\\Lib\\site-packages\\nilearn\\connectome\\connectivity_matrices.py:346: RuntimeWarning: invalid value encountered in multiply\n",
      "  correlation = covariance * diagonal * diagonal.T\n"
     ]
    },
    {
     "name": "stdout",
     "output_type": "stream",
     "text": [
      "30 168_S_6754_79.17_M.nii\n"
     ]
    },
    {
     "name": "stderr",
     "output_type": "stream",
     "text": [
      "C:\\Users\\praneeth darlanka\\anaconda3\\Lib\\site-packages\\nilearn\\signal.py:74: UserWarning: Standardization of 3D signal has been requested but would lead to zero values. Skipping.\n",
      "  warnings.warn(\n",
      "C:\\Users\\praneeth darlanka\\anaconda3\\Lib\\site-packages\\sklearn\\covariance\\_shrunk_covariance.py:327: UserWarning: Only one sample available. You may want to reshape your data array\n",
      "  warnings.warn(\n",
      "C:\\Users\\praneeth darlanka\\anaconda3\\Lib\\site-packages\\sklearn\\covariance\\_empirical_covariance.py:95: UserWarning: Only one sample available. You may want to reshape your data array\n",
      "  warnings.warn(\n",
      "C:\\Users\\praneeth darlanka\\anaconda3\\Lib\\site-packages\\nilearn\\connectome\\connectivity_matrices.py:345: RuntimeWarning: divide by zero encountered in divide\n",
      "  diagonal = np.atleast_2d(1.0 / np.sqrt(np.diag(covariance)))\n",
      "C:\\Users\\praneeth darlanka\\anaconda3\\Lib\\site-packages\\nilearn\\connectome\\connectivity_matrices.py:346: RuntimeWarning: invalid value encountered in multiply\n",
      "  correlation = covariance * diagonal * diagonal.T\n"
     ]
    },
    {
     "name": "stdout",
     "output_type": "stream",
     "text": [
      "31 168_S_6754_81.25_M.nii\n"
     ]
    },
    {
     "name": "stderr",
     "output_type": "stream",
     "text": [
      "C:\\Users\\praneeth darlanka\\anaconda3\\Lib\\site-packages\\nilearn\\signal.py:74: UserWarning: Standardization of 3D signal has been requested but would lead to zero values. Skipping.\n",
      "  warnings.warn(\n",
      "C:\\Users\\praneeth darlanka\\anaconda3\\Lib\\site-packages\\sklearn\\covariance\\_shrunk_covariance.py:327: UserWarning: Only one sample available. You may want to reshape your data array\n",
      "  warnings.warn(\n",
      "C:\\Users\\praneeth darlanka\\anaconda3\\Lib\\site-packages\\sklearn\\covariance\\_empirical_covariance.py:95: UserWarning: Only one sample available. You may want to reshape your data array\n",
      "  warnings.warn(\n",
      "C:\\Users\\praneeth darlanka\\anaconda3\\Lib\\site-packages\\nilearn\\connectome\\connectivity_matrices.py:345: RuntimeWarning: divide by zero encountered in divide\n",
      "  diagonal = np.atleast_2d(1.0 / np.sqrt(np.diag(covariance)))\n",
      "C:\\Users\\praneeth darlanka\\anaconda3\\Lib\\site-packages\\nilearn\\connectome\\connectivity_matrices.py:346: RuntimeWarning: invalid value encountered in multiply\n",
      "  correlation = covariance * diagonal * diagonal.T\n"
     ]
    },
    {
     "name": "stdout",
     "output_type": "stream",
     "text": [
      "32 168_S_6827.nii\n"
     ]
    },
    {
     "name": "stderr",
     "output_type": "stream",
     "text": [
      "C:\\Users\\praneeth darlanka\\anaconda3\\Lib\\site-packages\\nilearn\\signal.py:74: UserWarning: Standardization of 3D signal has been requested but would lead to zero values. Skipping.\n",
      "  warnings.warn(\n",
      "C:\\Users\\praneeth darlanka\\anaconda3\\Lib\\site-packages\\sklearn\\covariance\\_shrunk_covariance.py:327: UserWarning: Only one sample available. You may want to reshape your data array\n",
      "  warnings.warn(\n",
      "C:\\Users\\praneeth darlanka\\anaconda3\\Lib\\site-packages\\sklearn\\covariance\\_empirical_covariance.py:95: UserWarning: Only one sample available. You may want to reshape your data array\n",
      "  warnings.warn(\n",
      "C:\\Users\\praneeth darlanka\\anaconda3\\Lib\\site-packages\\nilearn\\connectome\\connectivity_matrices.py:345: RuntimeWarning: divide by zero encountered in divide\n",
      "  diagonal = np.atleast_2d(1.0 / np.sqrt(np.diag(covariance)))\n",
      "C:\\Users\\praneeth darlanka\\anaconda3\\Lib\\site-packages\\nilearn\\connectome\\connectivity_matrices.py:346: RuntimeWarning: invalid value encountered in multiply\n",
      "  correlation = covariance * diagonal * diagonal.T\n"
     ]
    },
    {
     "name": "stdout",
     "output_type": "stream",
     "text": [
      "33 168_S_6828_81.33_M.nii\n"
     ]
    },
    {
     "name": "stderr",
     "output_type": "stream",
     "text": [
      "C:\\Users\\praneeth darlanka\\anaconda3\\Lib\\site-packages\\nilearn\\signal.py:74: UserWarning: Standardization of 3D signal has been requested but would lead to zero values. Skipping.\n",
      "  warnings.warn(\n",
      "C:\\Users\\praneeth darlanka\\anaconda3\\Lib\\site-packages\\sklearn\\covariance\\_shrunk_covariance.py:327: UserWarning: Only one sample available. You may want to reshape your data array\n",
      "  warnings.warn(\n",
      "C:\\Users\\praneeth darlanka\\anaconda3\\Lib\\site-packages\\sklearn\\covariance\\_empirical_covariance.py:95: UserWarning: Only one sample available. You may want to reshape your data array\n",
      "  warnings.warn(\n",
      "C:\\Users\\praneeth darlanka\\anaconda3\\Lib\\site-packages\\nilearn\\connectome\\connectivity_matrices.py:345: RuntimeWarning: divide by zero encountered in divide\n",
      "  diagonal = np.atleast_2d(1.0 / np.sqrt(np.diag(covariance)))\n",
      "C:\\Users\\praneeth darlanka\\anaconda3\\Lib\\site-packages\\nilearn\\connectome\\connectivity_matrices.py:346: RuntimeWarning: invalid value encountered in multiply\n",
      "  correlation = covariance * diagonal * diagonal.T\n"
     ]
    },
    {
     "name": "stdout",
     "output_type": "stream",
     "text": [
      "34 168_S_6828_82.58_M.nii\n"
     ]
    },
    {
     "name": "stderr",
     "output_type": "stream",
     "text": [
      "C:\\Users\\praneeth darlanka\\anaconda3\\Lib\\site-packages\\nilearn\\signal.py:74: UserWarning: Standardization of 3D signal has been requested but would lead to zero values. Skipping.\n",
      "  warnings.warn(\n",
      "C:\\Users\\praneeth darlanka\\anaconda3\\Lib\\site-packages\\sklearn\\covariance\\_shrunk_covariance.py:327: UserWarning: Only one sample available. You may want to reshape your data array\n",
      "  warnings.warn(\n",
      "C:\\Users\\praneeth darlanka\\anaconda3\\Lib\\site-packages\\sklearn\\covariance\\_empirical_covariance.py:95: UserWarning: Only one sample available. You may want to reshape your data array\n",
      "  warnings.warn(\n",
      "C:\\Users\\praneeth darlanka\\anaconda3\\Lib\\site-packages\\nilearn\\connectome\\connectivity_matrices.py:345: RuntimeWarning: divide by zero encountered in divide\n",
      "  diagonal = np.atleast_2d(1.0 / np.sqrt(np.diag(covariance)))\n",
      "C:\\Users\\praneeth darlanka\\anaconda3\\Lib\\site-packages\\nilearn\\connectome\\connectivity_matrices.py:346: RuntimeWarning: invalid value encountered in multiply\n",
      "  correlation = covariance * diagonal * diagonal.T\n"
     ]
    },
    {
     "name": "stdout",
     "output_type": "stream",
     "text": [
      "35 168_S_6828_83.78_M.nii\n"
     ]
    },
    {
     "name": "stderr",
     "output_type": "stream",
     "text": [
      "C:\\Users\\praneeth darlanka\\anaconda3\\Lib\\site-packages\\nilearn\\signal.py:74: UserWarning: Standardization of 3D signal has been requested but would lead to zero values. Skipping.\n",
      "  warnings.warn(\n",
      "C:\\Users\\praneeth darlanka\\anaconda3\\Lib\\site-packages\\sklearn\\covariance\\_shrunk_covariance.py:327: UserWarning: Only one sample available. You may want to reshape your data array\n",
      "  warnings.warn(\n",
      "C:\\Users\\praneeth darlanka\\anaconda3\\Lib\\site-packages\\sklearn\\covariance\\_empirical_covariance.py:95: UserWarning: Only one sample available. You may want to reshape your data array\n",
      "  warnings.warn(\n",
      "C:\\Users\\praneeth darlanka\\anaconda3\\Lib\\site-packages\\nilearn\\connectome\\connectivity_matrices.py:345: RuntimeWarning: divide by zero encountered in divide\n",
      "  diagonal = np.atleast_2d(1.0 / np.sqrt(np.diag(covariance)))\n",
      "C:\\Users\\praneeth darlanka\\anaconda3\\Lib\\site-packages\\nilearn\\connectome\\connectivity_matrices.py:346: RuntimeWarning: invalid value encountered in multiply\n",
      "  correlation = covariance * diagonal * diagonal.T\n"
     ]
    },
    {
     "name": "stdout",
     "output_type": "stream",
     "text": [
      "36 168_S_6843.nii\n"
     ]
    },
    {
     "name": "stderr",
     "output_type": "stream",
     "text": [
      "C:\\Users\\praneeth darlanka\\anaconda3\\Lib\\site-packages\\nilearn\\signal.py:74: UserWarning: Standardization of 3D signal has been requested but would lead to zero values. Skipping.\n",
      "  warnings.warn(\n",
      "C:\\Users\\praneeth darlanka\\anaconda3\\Lib\\site-packages\\sklearn\\covariance\\_shrunk_covariance.py:327: UserWarning: Only one sample available. You may want to reshape your data array\n",
      "  warnings.warn(\n",
      "C:\\Users\\praneeth darlanka\\anaconda3\\Lib\\site-packages\\sklearn\\covariance\\_empirical_covariance.py:95: UserWarning: Only one sample available. You may want to reshape your data array\n",
      "  warnings.warn(\n",
      "C:\\Users\\praneeth darlanka\\anaconda3\\Lib\\site-packages\\nilearn\\connectome\\connectivity_matrices.py:345: RuntimeWarning: divide by zero encountered in divide\n",
      "  diagonal = np.atleast_2d(1.0 / np.sqrt(np.diag(covariance)))\n",
      "C:\\Users\\praneeth darlanka\\anaconda3\\Lib\\site-packages\\nilearn\\connectome\\connectivity_matrices.py:346: RuntimeWarning: invalid value encountered in multiply\n",
      "  correlation = covariance * diagonal * diagonal.T\n"
     ]
    },
    {
     "name": "stdout",
     "output_type": "stream",
     "text": [
      "37 168_S_6921_76.55_M.nii\n"
     ]
    },
    {
     "name": "stderr",
     "output_type": "stream",
     "text": [
      "C:\\Users\\praneeth darlanka\\anaconda3\\Lib\\site-packages\\nilearn\\signal.py:74: UserWarning: Standardization of 3D signal has been requested but would lead to zero values. Skipping.\n",
      "  warnings.warn(\n",
      "C:\\Users\\praneeth darlanka\\anaconda3\\Lib\\site-packages\\sklearn\\covariance\\_shrunk_covariance.py:327: UserWarning: Only one sample available. You may want to reshape your data array\n",
      "  warnings.warn(\n",
      "C:\\Users\\praneeth darlanka\\anaconda3\\Lib\\site-packages\\sklearn\\covariance\\_empirical_covariance.py:95: UserWarning: Only one sample available. You may want to reshape your data array\n",
      "  warnings.warn(\n",
      "C:\\Users\\praneeth darlanka\\anaconda3\\Lib\\site-packages\\nilearn\\connectome\\connectivity_matrices.py:345: RuntimeWarning: divide by zero encountered in divide\n",
      "  diagonal = np.atleast_2d(1.0 / np.sqrt(np.diag(covariance)))\n",
      "C:\\Users\\praneeth darlanka\\anaconda3\\Lib\\site-packages\\nilearn\\connectome\\connectivity_matrices.py:346: RuntimeWarning: invalid value encountered in multiply\n",
      "  correlation = covariance * diagonal * diagonal.T\n"
     ]
    },
    {
     "name": "stdout",
     "output_type": "stream",
     "text": [
      "38 168_S_6921_78.01_M.nii\n",
      "39 168_S_6938.nii\n"
     ]
    },
    {
     "name": "stderr",
     "output_type": "stream",
     "text": [
      "C:\\Users\\praneeth darlanka\\anaconda3\\Lib\\site-packages\\nilearn\\signal.py:74: UserWarning: Standardization of 3D signal has been requested but would lead to zero values. Skipping.\n",
      "  warnings.warn(\n",
      "C:\\Users\\praneeth darlanka\\anaconda3\\Lib\\site-packages\\sklearn\\covariance\\_shrunk_covariance.py:327: UserWarning: Only one sample available. You may want to reshape your data array\n",
      "  warnings.warn(\n",
      "C:\\Users\\praneeth darlanka\\anaconda3\\Lib\\site-packages\\sklearn\\covariance\\_empirical_covariance.py:95: UserWarning: Only one sample available. You may want to reshape your data array\n",
      "  warnings.warn(\n",
      "C:\\Users\\praneeth darlanka\\anaconda3\\Lib\\site-packages\\nilearn\\connectome\\connectivity_matrices.py:345: RuntimeWarning: divide by zero encountered in divide\n",
      "  diagonal = np.atleast_2d(1.0 / np.sqrt(np.diag(covariance)))\n",
      "C:\\Users\\praneeth darlanka\\anaconda3\\Lib\\site-packages\\nilearn\\connectome\\connectivity_matrices.py:346: RuntimeWarning: invalid value encountered in multiply\n",
      "  correlation = covariance * diagonal * diagonal.T\n"
     ]
    }
   ],
   "source": [
    "cnt = 0\n",
    "for sub in os.listdir(main_dir):\n",
    "    subject_path = os.path.join(main_dir,sub)\n",
    "    for type in os.listdir(subject_path):\n",
    "        if(type == \"Struct\"):\n",
    "            struct_dir = os.path.join(subject_path,type)\n",
    "            file = os.listdir(struct_dir)\n",
    "            cnt += 1\n",
    "            f = file[0]\n",
    "            lovda_img = os.path.join(struct_dir,f)\n",
    "            struct_image = nib.load(lovda_img)\n",
    "            features = struct_masker.transform(struct_image)\n",
    "            correlation_matrix = correlation_measure.fit_transform([features])[0]\n",
    "            struct_features.append(correlation_matrix.reshape(-1))\n",
    "            print(cnt,f)"
   ]
  },
  {
   "cell_type": "code",
   "execution_count": 124,
   "id": "22f1c94d",
   "metadata": {},
   "outputs": [
    {
     "name": "stdout",
     "output_type": "stream",
     "text": [
      "39 168_S_6938.nii\n"
     ]
    },
    {
     "name": "stderr",
     "output_type": "stream",
     "text": [
      "C:\\Users\\praneeth darlanka\\anaconda3\\Lib\\site-packages\\nilearn\\signal.py:74: UserWarning: Standardization of 3D signal has been requested but would lead to zero values. Skipping.\n",
      "  warnings.warn(\n",
      "C:\\Users\\praneeth darlanka\\anaconda3\\Lib\\site-packages\\sklearn\\covariance\\_shrunk_covariance.py:327: UserWarning: Only one sample available. You may want to reshape your data array\n",
      "  warnings.warn(\n",
      "C:\\Users\\praneeth darlanka\\anaconda3\\Lib\\site-packages\\sklearn\\covariance\\_empirical_covariance.py:95: UserWarning: Only one sample available. You may want to reshape your data array\n",
      "  warnings.warn(\n",
      "C:\\Users\\praneeth darlanka\\anaconda3\\Lib\\site-packages\\nilearn\\connectome\\connectivity_matrices.py:345: RuntimeWarning: divide by zero encountered in divide\n",
      "  diagonal = np.atleast_2d(1.0 / np.sqrt(np.diag(covariance)))\n",
      "C:\\Users\\praneeth darlanka\\anaconda3\\Lib\\site-packages\\nilearn\\connectome\\connectivity_matrices.py:346: RuntimeWarning: invalid value encountered in multiply\n",
      "  correlation = covariance * diagonal * diagonal.T\n"
     ]
    }
   ],
   "source": [
    "lovda_img = r'C:\\Users\\praneeth darlanka\\Desktop\\022_S_6013_62.57_F\\Struct\\022_S_6013_62.57_F.nii'\n",
    "struct_image = nib.load(lovda_img)\n",
    "features = struct_masker.transform(struct_image)\n",
    "correlation_matrix = correlation_measure.fit_transform([features])[0]\n",
    "struct_features.append(correlation_matrix.reshape(-1))\n"
   ]
  },
  {
   "cell_type": "code",
   "execution_count": 126,
   "id": "f84ff7e3",
   "metadata": {},
   "outputs": [
    {
     "data": {
      "text/plain": [
       "40"
      ]
     },
     "execution_count": 126,
     "metadata": {},
     "output_type": "execute_result"
    }
   ],
   "source": [
    "len(struct_features)"
   ]
  },
  {
   "cell_type": "code",
   "execution_count": 127,
   "id": "24adffe8",
   "metadata": {},
   "outputs": [],
   "source": [
    "func = np.array(func_features)"
   ]
  },
  {
   "cell_type": "code",
   "execution_count": 128,
   "id": "d33155fb",
   "metadata": {},
   "outputs": [],
   "source": [
    "struc = np.array(struct_features)"
   ]
  },
  {
   "cell_type": "code",
   "execution_count": 129,
   "id": "f83e8401",
   "metadata": {},
   "outputs": [
    {
     "data": {
      "text/plain": [
       "(40, 13456)"
      ]
     },
     "execution_count": 129,
     "metadata": {},
     "output_type": "execute_result"
    }
   ],
   "source": [
    "struc.shape"
   ]
  },
  {
   "cell_type": "code",
   "execution_count": 130,
   "id": "1f0a6993",
   "metadata": {},
   "outputs": [
    {
     "data": {
      "text/plain": [
       "(40, 13456)"
      ]
     },
     "execution_count": 130,
     "metadata": {},
     "output_type": "execute_result"
    }
   ],
   "source": [
    "func.shape"
   ]
  },
  {
   "cell_type": "code",
   "execution_count": 131,
   "id": "8b0b726a",
   "metadata": {},
   "outputs": [],
   "source": [
    "combined_features = np.hstack((func, struc))"
   ]
  },
  {
   "cell_type": "code",
   "execution_count": 133,
   "id": "b1fffcec",
   "metadata": {},
   "outputs": [
    {
     "data": {
      "text/plain": [
       "(40, 26912)"
      ]
     },
     "execution_count": 133,
     "metadata": {},
     "output_type": "execute_result"
    }
   ],
   "source": [
    "combined_features.shape"
   ]
  },
  {
   "cell_type": "code",
   "execution_count": 135,
   "id": "41544dad",
   "metadata": {},
   "outputs": [],
   "source": [
    "pickle.dump(combined_features, open(r'C:\\Users\\praneeth darlanka\\Desktop\\features\\combined_features', 'wb'))"
   ]
  },
  {
   "cell_type": "code",
   "execution_count": 136,
   "id": "dc027305",
   "metadata": {},
   "outputs": [],
   "source": [
    "pickle.dump(struct_features, open(r'C:\\Users\\praneeth darlanka\\Desktop\\features\\struct_features', 'wb'))\n"
   ]
  },
  {
   "cell_type": "code",
   "execution_count": null,
   "id": "943583ba",
   "metadata": {},
   "outputs": [],
   "source": []
  }
 ],
 "metadata": {
  "kernelspec": {
   "display_name": "Python 3 (ipykernel)",
   "language": "python",
   "name": "python3"
  },
  "language_info": {
   "codemirror_mode": {
    "name": "ipython",
    "version": 3
   },
   "file_extension": ".py",
   "mimetype": "text/x-python",
   "name": "python",
   "nbconvert_exporter": "python",
   "pygments_lexer": "ipython3",
   "version": "3.11.5"
  }
 },
 "nbformat": 4,
 "nbformat_minor": 5
}
