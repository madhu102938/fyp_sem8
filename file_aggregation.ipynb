{
 "cells": [
  {
   "cell_type": "code",
   "execution_count": 1,
   "metadata": {},
   "outputs": [],
   "source": [
    "import numpy as np\n",
    "import nibabel as nib\n",
    "import os\n",
    "import regex as re\n",
    "import pickle\n",
    "from tqdm import tqdm\n",
    "import shutil"
   ]
  },
  {
   "cell_type": "code",
   "execution_count": 6,
   "metadata": {},
   "outputs": [],
   "source": [
    "# string with pattern (starting with numbers)\n",
    "re_number = re.compile(r'^\\d+')\n",
    "# string with pattern ('swar' + numbers, (can be anything in middle) ending with nii)\n",
    "re_swar_number_nii = re.compile(r\"^swar\\d+.+\\.nii$\")"
   ]
  },
  {
   "cell_type": "code",
   "execution_count": 7,
   "metadata": {},
   "outputs": [
    {
     "name": "stderr",
     "output_type": "stream",
     "text": [
      "100%|██████████| 46/46 [00:00<00:00, 122.88it/s]\n",
      "100%|██████████| 22/22 [00:00<00:00, 3148.88it/s]\n",
      "100%|██████████| 13/13 [00:00<00:00, 1181.96it/s]\n"
     ]
    }
   ],
   "source": [
    "mci_func_file_paths = []\n",
    "cnt = 0\n",
    "main_dirs = [r\"./MCI (1year)\", r\"./MCI (2years)\", r\"./MCI (3years)\"]\n",
    "for main_dir in main_dirs:\n",
    "    for sub in tqdm(os.listdir(main_dir)):\n",
    "        if not os.path.isdir(os.path.join(main_dir, sub)) or not re_number.match(sub):\n",
    "            continue\n",
    "        if sub.find(\"--\") != -1:\n",
    "            continue\n",
    "        subject_path = os.path.join(main_dir,sub)\n",
    "        for struct_func in os.listdir(subject_path):\n",
    "            if not struct_func.startswith(\"func\"):\n",
    "                continue\n",
    "            func_dir = os.path.join(subject_path, struct_func)\n",
    "            for fmri_file in os.listdir(func_dir):\n",
    "                if not re_swar_number_nii.match(fmri_file):\n",
    "                    continue\n",
    "                cnt += 1\n",
    "                mci_func_file_paths.append(os.path.join(func_dir, fmri_file))"
   ]
  },
  {
   "cell_type": "code",
   "execution_count": 2,
   "metadata": {},
   "outputs": [],
   "source": [
    "def get_MCI_file_paths(modality : str) -> list[str]:\n",
    "    image_paths = []\n",
    "    base_path = r\"./MCI_full_data/\" + modality\n",
    "    for year in os.listdir(base_path):\n",
    "        year_path = os.path.join(base_path, year)\n",
    "        for image in os.listdir(year_path):\n",
    "            image_path = os.path.join(year_path, image)\n",
    "            image_paths.append(image_path)\n",
    "    return image_paths\n",
    "    "
   ]
  },
  {
   "cell_type": "code",
   "execution_count": 3,
   "metadata": {},
   "outputs": [],
   "source": [
    "mci_fmri_paths = get_MCI_file_paths('func')\n",
    "mci_mri_paths = get_MCI_file_paths('struct')\n",
    "\n",
    "mci_fmri_paths = sorted(mci_fmri_paths)\n",
    "mci_mri_paths = sorted(mci_mri_paths)"
   ]
  },
  {
   "cell_type": "code",
   "execution_count": 4,
   "metadata": {},
   "outputs": [
    {
     "name": "stdout",
     "output_type": "stream",
     "text": [
      "./MCI_full_data/func/MCI (1year)/swar002_S_1155.nii ./MCI_full_data/struct/MCI (1year)/wm002_S_1155.nii\n",
      "./MCI_full_data/func/MCI (1year)/swar003_S_0908.nii ./MCI_full_data/struct/MCI (1year)/wm003_S_0908.nii\n",
      "./MCI_full_data/func/MCI (1year)/swar003_S_1122.nii ./MCI_full_data/struct/MCI (1year)/wm003_S_1122.nii\n",
      "./MCI_full_data/func/MCI (1year)/swar003_S_6258.nii ./MCI_full_data/struct/MCI (1year)/wm003_S_6258.nii\n",
      "./MCI_full_data/func/MCI (1year)/swar003_S_6268.nii ./MCI_full_data/struct/MCI (1year)/wm003_S_6268.nii\n",
      "./MCI_full_data/func/MCI (1year)/swar003_S_6432.nii ./MCI_full_data/struct/MCI (1year)/wm003_S_6432.nii\n",
      "./MCI_full_data/func/MCI (1year)/swar003_S_6479.nii ./MCI_full_data/struct/MCI (1year)/wm003_S_6479.nii\n",
      "./MCI_full_data/func/MCI (1year)/swar003_S_6606.nii ./MCI_full_data/struct/MCI (1year)/wm003_S_6606.nii\n",
      "./MCI_full_data/func/MCI (1year)/swar012_S_6073.nii ./MCI_full_data/struct/MCI (1year)/wm012_S_6073.nii\n",
      "./MCI_full_data/func/MCI (1year)/swar012_S_6760.nii ./MCI_full_data/struct/MCI (1year)/wm012_S_6760.nii\n",
      "./MCI_full_data/func/MCI (1year)/swar013_S_6206.nii ./MCI_full_data/struct/MCI (1year)/wm013_S_6206.nii\n",
      "./MCI_full_data/func/MCI (1year)/swar068_S_0802.nii ./MCI_full_data/struct/MCI (1year)/wm068_S_0802.nii\n",
      "./MCI_full_data/func/MCI (1year)/swar116_S_6428.nii ./MCI_full_data/struct/MCI (1year)/wm116_S_6428.nii\n",
      "./MCI_full_data/func/MCI (1year)/swar116_S_6550.nii ./MCI_full_data/struct/MCI (1year)/wm116_S_6550.nii\n",
      "./MCI_full_data/func/MCI (1year)/swar116_S_6775.nii ./MCI_full_data/struct/MCI (1year)/wm116_S_6775.nii\n",
      "./MCI_full_data/func/MCI (1year)/swar153_S_6679.nii ./MCI_full_data/struct/MCI (1year)/wm153_S_6679.nii\n",
      "./MCI_full_data/func/MCI (1year)/swar168_S_6180.nii ./MCI_full_data/struct/MCI (1year)/wm168_S_6180.nii\n",
      "./MCI_full_data/func/MCI (1year)/swar168_S_6426.nii ./MCI_full_data/struct/MCI (1year)/wm168_S_6426.nii\n",
      "./MCI_full_data/func/MCI (1year)/swar168_S_6467.nii ./MCI_full_data/struct/MCI (1year)/wm168_S_6467.nii\n",
      "./MCI_full_data/func/MCI (1year)/swar168_S_6541.nii ./MCI_full_data/struct/MCI (1year)/wm168_S_6541.nii\n",
      "./MCI_full_data/func/MCI (1year)/swar168_S_6591.nii ./MCI_full_data/struct/MCI (1year)/wm168_S_6591.nii\n",
      "./MCI_full_data/func/MCI (1year)/swar168_S_6619.nii ./MCI_full_data/struct/MCI (1year)/wm168_S_6619.nii\n",
      "./MCI_full_data/func/MCI (1year)/swar168_S_6634.nii ./MCI_full_data/struct/MCI (1year)/wm168_S_6634.nii\n",
      "./MCI_full_data/func/MCI (1year)/swar168_S_6821.nii ./MCI_full_data/struct/MCI (1year)/wm168_S_6821.nii\n",
      "./MCI_full_data/func/MCI (1year)/swar168_S_6874.nii ./MCI_full_data/struct/MCI (1year)/wm168_S_6874.nii\n",
      "./MCI_full_data/func/MCI (1year)/swar168_S_6875.nii ./MCI_full_data/struct/MCI (1year)/wm168_S_6875.nii\n",
      "./MCI_full_data/func/MCI (2years)/swar003_S_0908.nii ./MCI_full_data/struct/MCI (2years)/wm003_S_0908.nii\n",
      "./MCI_full_data/func/MCI (2years)/swar003_S_1122.nii ./MCI_full_data/struct/MCI (2years)/wm003_S_1122.nii\n",
      "./MCI_full_data/func/MCI (2years)/swar012_S_6073.nii ./MCI_full_data/struct/MCI (2years)/wm012_S_6073.nii\n",
      "./MCI_full_data/func/MCI (2years)/swar012_S_6760.nii ./MCI_full_data/struct/MCI (2years)/wm012_S_6760.nii\n",
      "./MCI_full_data/func/MCI (2years)/swar014_S_6765.nii ./MCI_full_data/struct/MCI (2years)/wm014_S_6765.nii\n",
      "./MCI_full_data/func/MCI (2years)/swar022_S_6716.nii ./MCI_full_data/struct/MCI (2years)/wm022_S_6716.nii\n",
      "./MCI_full_data/func/MCI (2years)/swar041_S_0679.nii ./MCI_full_data/struct/MCI (2years)/wm041_S_0679.nii\n",
      "./MCI_full_data/func/MCI (2years)/swar041_S_1418.nii ./MCI_full_data/struct/MCI (2years)/wm041_S_1418.nii\n",
      "./MCI_full_data/func/MCI (2years)/swar116_S_6550.nii ./MCI_full_data/struct/MCI (2years)/wm116_S_6550.nii\n",
      "./MCI_full_data/func/MCI (2years)/swar116_S_6775.nii ./MCI_full_data/struct/MCI (2years)/wm116_S_6775.nii\n",
      "./MCI_full_data/func/MCI (2years)/swar141_S_1052.nii ./MCI_full_data/struct/MCI (2years)/wm141_S_1052.nii\n",
      "./MCI_full_data/func/MCI (2years)/swar141_S_1378.nii ./MCI_full_data/struct/MCI (2years)/wm141_S_1378.nii\n",
      "./MCI_full_data/func/MCI (2years)/swar141_S_6075.nii ./MCI_full_data/struct/MCI (2years)/wm141_S_6075.nii\n",
      "./MCI_full_data/func/MCI (2years)/swar168_S_6180.nii ./MCI_full_data/struct/MCI (2years)/wm168_S_6180.nii\n",
      "./MCI_full_data/func/MCI (2years)/swar168_S_6541.nii ./MCI_full_data/struct/MCI (2years)/wm168_S_6541.nii\n",
      "./MCI_full_data/func/MCI (2years)/swar168_S_6591.nii ./MCI_full_data/struct/MCI (2years)/wm168_S_6591.nii\n",
      "./MCI_full_data/func/MCI (2years)/swar168_S_6619.nii ./MCI_full_data/struct/MCI (2years)/wm168_S_6619.nii\n",
      "./MCI_full_data/func/MCI (2years)/swar168_S_6634.nii ./MCI_full_data/struct/MCI (2years)/wm168_S_6634.nii\n",
      "./MCI_full_data/func/MCI (3years)/swar003_S_6258.nii ./MCI_full_data/struct/MCI (3years)/wm003_S_6258.nii\n",
      "./MCI_full_data/func/MCI (3years)/swar003_S_6268.nii ./MCI_full_data/struct/MCI (3years)/wm003_S_6268.nii\n",
      "./MCI_full_data/func/MCI (3years)/swar012_S_6073.nii ./MCI_full_data/struct/MCI (3years)/wm012_S_6073.nii\n",
      "./MCI_full_data/func/MCI (3years)/swar070_S_6229.nii ./MCI_full_data/struct/MCI (3years)/wm070_S_6229.nii\n",
      "./MCI_full_data/func/MCI (3years)/swar070_S_6236.nii ./MCI_full_data/struct/MCI (3years)/wm070_S_6236.nii\n",
      "./MCI_full_data/func/MCI (3years)/swar116_S_6550.nii ./MCI_full_data/struct/MCI (3years)/wm116_S_6550.nii\n",
      "./MCI_full_data/func/MCI (3years)/swar168_S_6180.nii ./MCI_full_data/struct/MCI (3years)/wm168_S_6180.nii\n",
      "./MCI_full_data/func/MCI (3years)/swar168_S_6541.nii ./MCI_full_data/struct/MCI (3years)/wm168_S_6541.nii\n"
     ]
    }
   ],
   "source": [
    "for mri, fmri in zip(mci_fmri_paths, mci_mri_paths):\n",
    "    print(mri, fmri)"
   ]
  },
  {
   "cell_type": "code",
   "execution_count": 8,
   "metadata": {},
   "outputs": [],
   "source": [
    "re_wm_number_nii = re.compile(r\"^wm\\d+.+\\.nii$\")"
   ]
  },
  {
   "cell_type": "code",
   "execution_count": 9,
   "metadata": {},
   "outputs": [],
   "source": [
    "structuralPath = r\"./MCI_structural_all\"\n",
    "mci_struct_file_paths = []\n",
    "for years in os.listdir(structuralPath):\n",
    "    year_path = os.path.join(structuralPath, years)\n",
    "    if not os.path.isdir(year_path):\n",
    "        continue\n",
    "    for subject in os.listdir(year_path):\n",
    "        subject_path = os.path.join(year_path, subject)\n",
    "        if not os.path.isdir(subject_path):\n",
    "            continue\n",
    "        subject_mri_path = os.path.join(subject_path, \"mri\")\n",
    "        for nii_files in os.listdir(subject_mri_path):\n",
    "            if re_wm_number_nii.match(nii_files):\n",
    "                mci_struct_file_paths.append(os.path.join(subject_mri_path, nii_files))"
   ]
  },
  {
   "cell_type": "code",
   "execution_count": 10,
   "metadata": {},
   "outputs": [],
   "source": [
    "sorted_mci_struct_file_paths = sorted(mci_struct_file_paths)"
   ]
  },
  {
   "cell_type": "code",
   "execution_count": 12,
   "metadata": {},
   "outputs": [
    {
     "ename": "NameError",
     "evalue": "name 'func_shapes' is not defined",
     "output_type": "error",
     "traceback": [
      "\u001b[1;31m---------------------------------------------------------------------------\u001b[0m",
      "\u001b[1;31mNameError\u001b[0m                                 Traceback (most recent call last)",
      "Cell \u001b[1;32mIn[12], line 2\u001b[0m\n\u001b[0;32m      1\u001b[0m unique_shapes \u001b[38;5;241m=\u001b[39m {}\n\u001b[1;32m----> 2\u001b[0m \u001b[38;5;28;01mfor\u001b[39;00m shape \u001b[38;5;129;01min\u001b[39;00m func_shapes:\n\u001b[0;32m      3\u001b[0m     strShape \u001b[38;5;241m=\u001b[39m shape\u001b[38;5;241m.\u001b[39m\u001b[38;5;21m__repr__\u001b[39m()\n\u001b[0;32m      4\u001b[0m     \u001b[38;5;28;01mif\u001b[39;00m strShape \u001b[38;5;129;01mnot\u001b[39;00m \u001b[38;5;129;01min\u001b[39;00m unique_shapes:\n",
      "\u001b[1;31mNameError\u001b[0m: name 'func_shapes' is not defined"
     ]
    }
   ],
   "source": [
    "unique_shapes = {}\n",
    "for shape in func_shapes:\n",
    "    strShape = shape.__repr__()\n",
    "    if strShape not in unique_shapes:\n",
    "        unique_shapes[strShape] = 0\n",
    "    unique_shapes[strShape] += 1"
   ]
  },
  {
   "cell_type": "code",
   "execution_count": 13,
   "metadata": {},
   "outputs": [
    {
     "data": {
      "text/plain": [
       "{}"
      ]
     },
     "execution_count": 13,
     "metadata": {},
     "output_type": "execute_result"
    }
   ],
   "source": [
    "unique_shapes"
   ]
  },
  {
   "cell_type": "code",
   "execution_count": 14,
   "metadata": {},
   "outputs": [],
   "source": [
    "sorted_mci_func_file_paths = sorted(mci_func_file_paths)"
   ]
  },
  {
   "cell_type": "code",
   "execution_count": 15,
   "metadata": {},
   "outputs": [
    {
     "name": "stdout",
     "output_type": "stream",
     "text": [
      "./MCI (1year)\\002_S_1155\\func\\swar002_S_1155.nii ./MCI_structural_all\\MCI (1year)\\002_S_1155\\mri\\wm002_S_1155.nii\n",
      "./MCI (1year)\\003_S_0908\\func\\swar003_S_0908.nii ./MCI_structural_all\\MCI (1year)\\003_S_0908\\mri\\wm003_S_0908.nii\n",
      "./MCI (1year)\\003_S_1122\\func\\swar003_S_1122.nii ./MCI_structural_all\\MCI (1year)\\003_S_1122\\mri\\wm003_S_1122.nii\n",
      "./MCI (1year)\\003_S_6258\\func\\swar003_S_6258.nii ./MCI_structural_all\\MCI (1year)\\003_S_6258\\mri\\wm003_S_6258.nii\n",
      "./MCI (1year)\\003_S_6268\\func\\swar003_S_6268.nii ./MCI_structural_all\\MCI (1year)\\003_S_6268\\mri\\wm003_S_6268.nii\n",
      "./MCI (1year)\\003_S_6432\\func\\swar003_S_6432.nii ./MCI_structural_all\\MCI (1year)\\003_S_6432\\mri\\wm003_S_6432.nii\n",
      "./MCI (1year)\\003_S_6479\\func\\swar003_S_6479.nii ./MCI_structural_all\\MCI (1year)\\003_S_6479\\mri\\wm003_S_6479.nii\n",
      "./MCI (1year)\\003_S_6606\\func\\swar003_S_6606.nii ./MCI_structural_all\\MCI (1year)\\003_S_6606\\mri\\wm003_S_6606.nii\n",
      "./MCI (1year)\\012_S_6073\\func\\swar012_S_6073.nii ./MCI_structural_all\\MCI (1year)\\012_S_6073\\mri\\wm012_S_6073.nii\n",
      "./MCI (1year)\\012_S_6760\\func\\swar012_S_6760.nii ./MCI_structural_all\\MCI (1year)\\012_S_6760\\mri\\wm012_S_6760.nii\n",
      "./MCI (1year)\\013_S_6206\\func\\swar013_S_6206.nii ./MCI_structural_all\\MCI (1year)\\013_S_6206\\mri\\wm013_S_6206.nii\n",
      "./MCI (1year)\\068_S_0802\\func\\swar068_S_0802.nii ./MCI_structural_all\\MCI (1year)\\068_S_0802\\mri\\wm068_S_0802.nii\n",
      "./MCI (1year)\\116_S_6428\\func\\swar116_S_6428.nii ./MCI_structural_all\\MCI (1year)\\116_S_6428\\mri\\wm116_S_6428.nii\n",
      "./MCI (1year)\\116_S_6550\\func\\swar116_S_6550.nii ./MCI_structural_all\\MCI (1year)\\116_S_6550\\mri\\wm116_S_6550.nii\n",
      "./MCI (1year)\\116_S_6775\\func\\swar116_S_6775.nii ./MCI_structural_all\\MCI (1year)\\116_S_6775\\mri\\wm116_S_6775.nii\n",
      "./MCI (1year)\\153_S_6679\\func\\swar153_S_6679.nii ./MCI_structural_all\\MCI (1year)\\153_S_6679\\mri\\wm153_S_6679.nii\n",
      "./MCI (1year)\\168_S_6180\\func\\swar168_S_6180.nii ./MCI_structural_all\\MCI (1year)\\168_S_6180\\mri\\wm168_S_6180.nii\n",
      "./MCI (1year)\\168_S_6426\\func\\swar168_S_6426.nii ./MCI_structural_all\\MCI (1year)\\168_S_6426\\mri\\wm168_S_6426.nii\n",
      "./MCI (1year)\\168_S_6467\\func\\swar168_S_6467.nii ./MCI_structural_all\\MCI (1year)\\168_S_6467\\mri\\wm168_S_6467.nii\n",
      "./MCI (1year)\\168_S_6541\\func\\swar168_S_6541.nii ./MCI_structural_all\\MCI (1year)\\168_S_6541\\mri\\wm168_S_6541.nii\n",
      "./MCI (1year)\\168_S_6591\\func\\swar168_S_6591.nii ./MCI_structural_all\\MCI (1year)\\168_S_6591\\mri\\wm168_S_6591.nii\n",
      "./MCI (1year)\\168_S_6619\\func\\swar168_S_6619.nii ./MCI_structural_all\\MCI (1year)\\168_S_6619\\mri\\wm168_S_6619.nii\n",
      "./MCI (1year)\\168_S_6634\\func\\swar168_S_6634.nii ./MCI_structural_all\\MCI (1year)\\168_S_6634\\mri\\wm168_S_6634.nii\n",
      "./MCI (1year)\\168_S_6821\\func\\swar168_S_6821.nii ./MCI_structural_all\\MCI (1year)\\168_S_6821\\mri\\wm168_S_6821.nii\n",
      "./MCI (1year)\\168_S_6874\\func\\swar168_S_6874.nii ./MCI_structural_all\\MCI (1year)\\168_S_6874\\mri\\wm168_S_6874.nii\n",
      "./MCI (1year)\\168_S_6875\\func\\swar168_S_6875.nii ./MCI_structural_all\\MCI (1year)\\168_S_6875\\mri\\wm168_S_6875.nii\n",
      "./MCI (2years)\\003_S_0908\\func\\swar003_S_0908.nii ./MCI_structural_all\\MCI (2years)\\003_S_0908\\mri\\wm003_S_0908.nii\n",
      "./MCI (2years)\\003_S_1122\\func\\swar003_S_1122.nii ./MCI_structural_all\\MCI (2years)\\003_S_1122\\mri\\wm003_S_1122.nii\n",
      "./MCI (2years)\\012_S_6073\\func\\swar012_S_6073.nii ./MCI_structural_all\\MCI (2years)\\012_S_6073\\mri\\wm012_S_6073.nii\n",
      "./MCI (2years)\\012_S_6760\\func\\swar012_S_6760.nii ./MCI_structural_all\\MCI (2years)\\012_S_6760\\mri\\wm012_S_6760.nii\n",
      "./MCI (2years)\\014_S_6765\\func\\swar014_S_6765.nii ./MCI_structural_all\\MCI (2years)\\014_S_6765\\mri\\wm014_S_6765.nii\n",
      "./MCI (2years)\\022_S_6716\\func\\swar022_S_6716.nii ./MCI_structural_all\\MCI (2years)\\022_S_6716\\mri\\wm022_S_6716.nii\n",
      "./MCI (2years)\\041_S_0679\\func\\swar041_S_0679.nii ./MCI_structural_all\\MCI (2years)\\041_S_0679\\mri\\wm041_S_0679.nii\n",
      "./MCI (2years)\\041_S_1418\\func\\swar041_S_1418.nii ./MCI_structural_all\\MCI (2years)\\041_S_1418\\mri\\wm041_S_1418.nii\n",
      "./MCI (2years)\\116_S_6550\\func\\swar116_S_6550.nii ./MCI_structural_all\\MCI (2years)\\116_S_6550\\mri\\wm116_S_6550.nii\n",
      "./MCI (2years)\\116_S_6775\\func\\swar116_S_6775.nii ./MCI_structural_all\\MCI (2years)\\116_S_6775\\mri\\wm116_S_6775.nii\n",
      "./MCI (2years)\\141_S_1052\\func\\swar141_S_1052.nii ./MCI_structural_all\\MCI (2years)\\141_S_1052\\mri\\wm141_S_1052.nii\n",
      "./MCI (2years)\\141_S_1378\\func\\swar141_S_1378.nii ./MCI_structural_all\\MCI (2years)\\141_S_1378\\mri\\wm141_S_1378.nii\n",
      "./MCI (2years)\\141_S_6075\\func\\swar141_S_6075.nii ./MCI_structural_all\\MCI (2years)\\141_S_6075\\mri\\wm141_S_6075.nii\n",
      "./MCI (2years)\\168_S_6180\\func\\swar168_S_6180.nii ./MCI_structural_all\\MCI (2years)\\168_S_6180\\mri\\wm168_S_6180.nii\n",
      "./MCI (2years)\\168_S_6541\\func\\swar168_S_6541.nii ./MCI_structural_all\\MCI (2years)\\168_S_6541\\mri\\wm168_S_6541.nii\n",
      "./MCI (2years)\\168_S_6591\\func\\swar168_S_6591.nii ./MCI_structural_all\\MCI (2years)\\168_S_6591\\mri\\wm168_S_6591.nii\n",
      "./MCI (2years)\\168_S_6619\\func\\swar168_S_6619.nii ./MCI_structural_all\\MCI (2years)\\168_S_6619\\mri\\wm168_S_6619.nii\n",
      "./MCI (2years)\\168_S_6634\\func\\swar168_S_6634.nii ./MCI_structural_all\\MCI (2years)\\168_S_6634\\mri\\wm168_S_6634.nii\n",
      "./MCI (3years)\\003_S_6258\\func\\swar003_S_6258.nii ./MCI_structural_all\\MCI (3years)\\003_S_6258\\mri\\wm003_S_6258.nii\n",
      "./MCI (3years)\\003_S_6268\\func\\swar003_S_6268.nii ./MCI_structural_all\\MCI (3years)\\003_S_6268\\mri\\wm003_S_6268.nii\n",
      "./MCI (3years)\\012_S_6073\\func\\swar012_S_6073.nii ./MCI_structural_all\\MCI (3years)\\012_S_6073\\mri\\wm012_S_6073.nii\n",
      "./MCI (3years)\\070_S_6229\\func\\swar070_S_6229.nii ./MCI_structural_all\\MCI (3years)\\070_S_6229\\mri\\wm070_S_6229.nii\n",
      "./MCI (3years)\\070_S_6236\\func\\swar070_S_6236.nii ./MCI_structural_all\\MCI (3years)\\070_S_6236\\mri\\wm070_S_6236.nii\n",
      "./MCI (3years)\\116_S_6550\\func\\swar116_S_6550.nii ./MCI_structural_all\\MCI (3years)\\116_S_6550\\mri\\wm116_S_6550.nii\n",
      "./MCI (3years)\\168_S_6180\\func\\swar168_S_6180.nii ./MCI_structural_all\\MCI (3years)\\168_S_6180\\mri\\wm168_S_6180.nii\n",
      "./MCI (3years)\\168_S_6541\\func\\swar168_S_6541.nii ./MCI_structural_all\\MCI (3years)\\168_S_6541\\mri\\wm168_S_6541.nii\n"
     ]
    }
   ],
   "source": [
    "for i, j in zip(sorted_mci_func_file_paths, sorted_mci_struct_file_paths):\n",
    "    # matching last path\n",
    "    if i.split(\"/\")[-1] != j.split(\"/\")[-1]:\n",
    "        print(i, j)"
   ]
  },
  {
   "cell_type": "code",
   "execution_count": 5,
   "metadata": {},
   "outputs": [],
   "source": [
    "target_shape = (79, 95, 79, 197)\n",
    "original_shape = (47, 56, 47, 197)\n",
    "\n",
    "pad_width = [(0, max(target_dim - orig_dim, 0)) for orig_dim, target_dim in zip(original_shape, target_shape)]"
   ]
  },
  {
   "cell_type": "code",
   "execution_count": 6,
   "metadata": {},
   "outputs": [],
   "source": [
    "anomaly = 47\n",
    "mci_func_images = []\n",
    "for mci_func_path in mci_fmri_paths:\n",
    "    func_image = nib.load(mci_func_path)\n",
    "    if func_image.shape[0] == anomaly:\n",
    "        # this particular is small, need to zero pad to make it similar to other images\n",
    "        data = func_image.get_fdata()\n",
    "        data = np.pad(data, pad_width=pad_width, mode='constant', constant_values=0)\n",
    "        mci_func_images.append(data)\n",
    "        del data\n",
    "    else:\n",
    "        mci_func_images.append(func_image.get_fdata())"
   ]
  },
  {
   "cell_type": "code",
   "execution_count": 7,
   "metadata": {},
   "outputs": [],
   "source": [
    "mci_func_images = np.array(mci_func_images, dtype=np.float32)"
   ]
  },
  {
   "cell_type": "code",
   "execution_count": 8,
   "metadata": {},
   "outputs": [
    {
     "data": {
      "text/plain": [
       "(52, 79, 95, 79, 197)"
      ]
     },
     "execution_count": 8,
     "metadata": {},
     "output_type": "execute_result"
    }
   ],
   "source": [
    "mci_func_images.shape"
   ]
  },
  {
   "cell_type": "code",
   "execution_count": 9,
   "metadata": {},
   "outputs": [
    {
     "name": "stderr",
     "output_type": "stream",
     "text": [
      "  0%|          | 0/52 [00:00<?, ?it/s]"
     ]
    },
    {
     "name": "stderr",
     "output_type": "stream",
     "text": [
      "100%|██████████| 52/52 [01:52<00:00,  2.17s/it]\n"
     ]
    }
   ],
   "source": [
    "for i in tqdm(range(len(mci_func_images))):\n",
    "    j = i+1\n",
    "    while j < len(mci_func_images):\n",
    "        if np.all(mci_func_images[i] == mci_func_images[j]) == np.True_:\n",
    "            print(i, j)\n",
    "        j += 1"
   ]
  },
  {
   "cell_type": "code",
   "execution_count": 17,
   "metadata": {},
   "outputs": [
    {
     "data": {
      "text/plain": [
       "np.False_"
      ]
     },
     "execution_count": 17,
     "metadata": {},
     "output_type": "execute_result"
    }
   ],
   "source": [
    "np.all(mci_func_images[1] == mci_func_images[0])"
   ]
  },
  {
   "cell_type": "code",
   "execution_count": 10,
   "metadata": {},
   "outputs": [],
   "source": [
    "mci_struct_images = []\n",
    "for mci_struct_path in mci_mri_paths:\n",
    "    struct_image = nib.load(mci_struct_path)\n",
    "    mci_struct_images.append(struct_image.get_fdata())\n",
    "\n",
    "mci_struct_images = np.array(mci_struct_images, dtype=np.float32)"
   ]
  },
  {
   "cell_type": "code",
   "execution_count": 11,
   "metadata": {},
   "outputs": [
    {
     "data": {
      "text/plain": [
       "(52, 169, 205, 169)"
      ]
     },
     "execution_count": 11,
     "metadata": {},
     "output_type": "execute_result"
    }
   ],
   "source": [
    "mci_struct_images.shape"
   ]
  },
  {
   "cell_type": "code",
   "execution_count": 12,
   "metadata": {},
   "outputs": [],
   "source": [
    "with open(r'./feature_extraction/MCI_func_52_79_95_79_197.pkl', 'wb') as f:\n",
    "    pickle.dump(mci_func_images, f)"
   ]
  },
  {
   "cell_type": "code",
   "execution_count": 13,
   "metadata": {},
   "outputs": [],
   "source": [
    "with open(r'./feature_extraction/MCI_struct_52_169_205_169.pkl', 'wb') as f:\n",
    "    pickle.dump(mci_struct_images, f)"
   ]
  },
  {
   "cell_type": "code",
   "execution_count": 14,
   "metadata": {},
   "outputs": [
    {
     "name": "stdout",
     "output_type": "stream",
     "text": [
      "./MCI (1year)\\002_S_1155\\func\\swar002_S_1155.nii ./MCI (1year)\\003_S_0908\\func\\swar003_S_0908.nii ./MCI (1year)\\003_S_1122\\func\\swar003_S_1122.nii ./MCI (1year)\\003_S_6258\\func\\swar003_S_6258.nii ./MCI (1year)\\003_S_6268\\func\\swar003_S_6268.nii ./MCI (1year)\\003_S_6432\\func\\swar003_S_6432.nii ./MCI (1year)\\003_S_6479\\func\\swar003_S_6479.nii ./MCI (1year)\\003_S_6606\\func\\swar003_S_6606.nii ./MCI (1year)\\012_S_6073\\func\\swar012_S_6073.nii ./MCI (1year)\\012_S_6760\\func\\swar012_S_6760.nii ./MCI (1year)\\013_S_6206\\func\\swar013_S_6206.nii ./MCI (1year)\\068_S_0802\\func\\swar068_S_0802.nii ./MCI (1year)\\116_S_6428\\func\\swar116_S_6428.nii ./MCI (1year)\\116_S_6550\\func\\swar116_S_6550.nii ./MCI (1year)\\116_S_6775\\func\\swar116_S_6775.nii ./MCI (1year)\\153_S_6679\\func\\swar153_S_6679.nii ./MCI (1year)\\168_S_6180\\func\\swar168_S_6180.nii ./MCI (1year)\\168_S_6426\\func\\swar168_S_6426.nii ./MCI (1year)\\168_S_6467\\func\\swar168_S_6467.nii ./MCI (1year)\\168_S_6541\\func\\swar168_S_6541.nii ./MCI (1year)\\168_S_6591\\func\\swar168_S_6591.nii ./MCI (1year)\\168_S_6619\\func\\swar168_S_6619.nii ./MCI (1year)\\168_S_6634\\func\\swar168_S_6634.nii ./MCI (1year)\\168_S_6821\\func\\swar168_S_6821.nii ./MCI (1year)\\168_S_6874\\func\\swar168_S_6874.nii ./MCI (1year)\\168_S_6875\\func\\swar168_S_6875.nii ./MCI (2years)\\003_S_0908\\func\\swar003_S_0908.nii ./MCI (2years)\\003_S_1122\\func\\swar003_S_1122.nii ./MCI (2years)\\012_S_6073\\func\\swar012_S_6073.nii ./MCI (2years)\\012_S_6760\\func\\swar012_S_6760.nii ./MCI (2years)\\014_S_6765\\func\\swar014_S_6765.nii ./MCI (2years)\\022_S_6716\\func\\swar022_S_6716.nii ./MCI (2years)\\041_S_0679\\func\\swar041_S_0679.nii ./MCI (2years)\\041_S_1418\\func\\swar041_S_1418.nii ./MCI (2years)\\116_S_6550\\func\\swar116_S_6550.nii ./MCI (2years)\\116_S_6775\\func\\swar116_S_6775.nii ./MCI (2years)\\141_S_1052\\func\\swar141_S_1052.nii ./MCI (2years)\\141_S_1378\\func\\swar141_S_1378.nii ./MCI (2years)\\141_S_6075\\func\\swar141_S_6075.nii ./MCI (2years)\\168_S_6180\\func\\swar168_S_6180.nii ./MCI (2years)\\168_S_6541\\func\\swar168_S_6541.nii ./MCI (2years)\\168_S_6591\\func\\swar168_S_6591.nii ./MCI (2years)\\168_S_6619\\func\\swar168_S_6619.nii ./MCI (2years)\\168_S_6634\\func\\swar168_S_6634.nii ./MCI (3years)\\003_S_6258\\func\\swar003_S_6258.nii ./MCI (3years)\\003_S_6268\\func\\swar003_S_6268.nii ./MCI (3years)\\012_S_6073\\func\\swar012_S_6073.nii ./MCI (3years)\\070_S_6229\\func\\swar070_S_6229.nii ./MCI (3years)\\070_S_6236\\func\\swar070_S_6236.nii ./MCI (3years)\\116_S_6550\\func\\swar116_S_6550.nii ./MCI (3years)\\168_S_6180\\func\\swar168_S_6180.nii ./MCI (3years)\\168_S_6541\\func\\swar168_S_6541.nii "
     ]
    }
   ],
   "source": [
    "for i in sorted_mci_func_file_paths:\n",
    "    print(i, end=\" \")"
   ]
  },
  {
   "cell_type": "code",
   "execution_count": null,
   "metadata": {},
   "outputs": [
    {
     "name": "stderr",
     "output_type": "stream",
     "text": [
      "1it [00:02,  2.46s/it]"
     ]
    },
    {
     "name": "stdout",
     "output_type": "stream",
     "text": [
      "1  : done with  ./MCI (1year)\\002_S_1155\\func\\swar002_S_1155.nii ./MCI_structural_all\\MCI (1year)\\002_S_1155\\mri\\wm002_S_1155.nii\n"
     ]
    },
    {
     "name": "stderr",
     "output_type": "stream",
     "text": [
      "2it [00:09,  5.03s/it]"
     ]
    },
    {
     "name": "stdout",
     "output_type": "stream",
     "text": [
      "2  : done with  ./MCI (1year)\\003_S_0908\\func\\swar003_S_0908.nii ./MCI_structural_all\\MCI (1year)\\003_S_0908\\mri\\wm003_S_0908.nii\n"
     ]
    },
    {
     "name": "stderr",
     "output_type": "stream",
     "text": [
      "3it [00:16,  6.22s/it]"
     ]
    },
    {
     "name": "stdout",
     "output_type": "stream",
     "text": [
      "3  : done with  ./MCI (1year)\\003_S_1122\\func\\swar003_S_1122.nii ./MCI_structural_all\\MCI (1year)\\003_S_1122\\mri\\wm003_S_1122.nii\n"
     ]
    },
    {
     "name": "stderr",
     "output_type": "stream",
     "text": [
      "4it [00:24,  6.82s/it]"
     ]
    },
    {
     "name": "stdout",
     "output_type": "stream",
     "text": [
      "4  : done with  ./MCI (1year)\\003_S_6258\\func\\swar003_S_6258.nii ./MCI_structural_all\\MCI (1year)\\003_S_6258\\mri\\wm003_S_6258.nii\n"
     ]
    },
    {
     "name": "stderr",
     "output_type": "stream",
     "text": [
      "5it [00:27,  5.22s/it]"
     ]
    },
    {
     "name": "stdout",
     "output_type": "stream",
     "text": [
      "5  : done with  ./MCI (1year)\\003_S_6268\\func\\swar003_S_6268.nii ./MCI_structural_all\\MCI (1year)\\003_S_6268\\mri\\wm003_S_6268.nii\n"
     ]
    },
    {
     "name": "stderr",
     "output_type": "stream",
     "text": [
      "6it [00:36,  6.81s/it]"
     ]
    },
    {
     "name": "stdout",
     "output_type": "stream",
     "text": [
      "6  : done with  ./MCI (1year)\\003_S_6432\\func\\swar003_S_6432.nii ./MCI_structural_all\\MCI (1year)\\003_S_6432\\mri\\wm003_S_6432.nii\n"
     ]
    },
    {
     "name": "stderr",
     "output_type": "stream",
     "text": [
      "7it [00:44,  6.99s/it]"
     ]
    },
    {
     "name": "stdout",
     "output_type": "stream",
     "text": [
      "7  : done with  ./MCI (1year)\\003_S_6479\\func\\swar003_S_6479.nii ./MCI_structural_all\\MCI (1year)\\003_S_6479\\mri\\wm003_S_6479.nii\n"
     ]
    },
    {
     "name": "stderr",
     "output_type": "stream",
     "text": [
      "8it [00:51,  7.07s/it]"
     ]
    },
    {
     "name": "stdout",
     "output_type": "stream",
     "text": [
      "8  : done with  ./MCI (1year)\\003_S_6606\\func\\swar003_S_6606.nii ./MCI_structural_all\\MCI (1year)\\003_S_6606\\mri\\wm003_S_6606.nii\n"
     ]
    },
    {
     "name": "stderr",
     "output_type": "stream",
     "text": [
      "9it [00:57,  6.59s/it]"
     ]
    },
    {
     "name": "stdout",
     "output_type": "stream",
     "text": [
      "9  : done with  ./MCI (1year)\\012_S_6073\\func\\swar012_S_6073.nii ./MCI_structural_all\\MCI (1year)\\012_S_6073\\mri\\wm012_S_6073.nii\n"
     ]
    },
    {
     "name": "stderr",
     "output_type": "stream",
     "text": [
      "10it [01:03,  6.67s/it]"
     ]
    },
    {
     "name": "stdout",
     "output_type": "stream",
     "text": [
      "10  : done with  ./MCI (1year)\\012_S_6760\\func\\swar012_S_6760.nii ./MCI_structural_all\\MCI (1year)\\012_S_6760\\mri\\wm012_S_6760.nii\n"
     ]
    },
    {
     "name": "stderr",
     "output_type": "stream",
     "text": [
      "11it [01:11,  7.07s/it]"
     ]
    },
    {
     "name": "stdout",
     "output_type": "stream",
     "text": [
      "11  : done with  ./MCI (1year)\\013_S_6206\\func\\swar013_S_6206.nii ./MCI_structural_all\\MCI (1year)\\013_S_6206\\mri\\wm013_S_6206.nii\n"
     ]
    },
    {
     "name": "stderr",
     "output_type": "stream",
     "text": [
      "12it [01:18,  6.90s/it]"
     ]
    },
    {
     "name": "stdout",
     "output_type": "stream",
     "text": [
      "12  : done with  ./MCI (1year)\\068_S_0802\\func\\swar068_S_0802.nii ./MCI_structural_all\\MCI (1year)\\068_S_0802\\mri\\wm068_S_0802.nii\n"
     ]
    },
    {
     "name": "stderr",
     "output_type": "stream",
     "text": [
      "13it [01:26,  7.19s/it]"
     ]
    },
    {
     "name": "stdout",
     "output_type": "stream",
     "text": [
      "13  : done with  ./MCI (1year)\\116_S_6428\\func\\swar116_S_6428.nii ./MCI_structural_all\\MCI (1year)\\116_S_6428\\mri\\wm116_S_6428.nii\n"
     ]
    },
    {
     "name": "stderr",
     "output_type": "stream",
     "text": [
      "14it [01:32,  7.03s/it]"
     ]
    },
    {
     "name": "stdout",
     "output_type": "stream",
     "text": [
      "14  : done with  ./MCI (1year)\\116_S_6550\\func\\swar116_S_6550.nii ./MCI_structural_all\\MCI (1year)\\116_S_6550\\mri\\wm116_S_6550.nii\n"
     ]
    },
    {
     "name": "stderr",
     "output_type": "stream",
     "text": [
      "15it [01:39,  6.82s/it]"
     ]
    },
    {
     "name": "stdout",
     "output_type": "stream",
     "text": [
      "15  : done with  ./MCI (1year)\\116_S_6775\\func\\swar116_S_6775.nii ./MCI_structural_all\\MCI (1year)\\116_S_6775\\mri\\wm116_S_6775.nii\n"
     ]
    },
    {
     "name": "stderr",
     "output_type": "stream",
     "text": [
      "16it [01:45,  6.59s/it]"
     ]
    },
    {
     "name": "stdout",
     "output_type": "stream",
     "text": [
      "16  : done with  ./MCI (1year)\\153_S_6679\\func\\swar153_S_6679.nii ./MCI_structural_all\\MCI (1year)\\153_S_6679\\mri\\wm153_S_6679.nii\n"
     ]
    },
    {
     "name": "stderr",
     "output_type": "stream",
     "text": [
      "17it [01:52,  6.91s/it]"
     ]
    },
    {
     "name": "stdout",
     "output_type": "stream",
     "text": [
      "17  : done with  ./MCI (1year)\\168_S_6180\\func\\swar168_S_6180.nii ./MCI_structural_all\\MCI (1year)\\168_S_6180\\mri\\wm168_S_6180.nii\n"
     ]
    },
    {
     "name": "stderr",
     "output_type": "stream",
     "text": [
      "18it [01:58,  6.61s/it]"
     ]
    },
    {
     "name": "stdout",
     "output_type": "stream",
     "text": [
      "18  : done with  ./MCI (1year)\\168_S_6426\\func\\swar168_S_6426.nii ./MCI_structural_all\\MCI (1year)\\168_S_6426\\mri\\wm168_S_6426.nii\n"
     ]
    },
    {
     "name": "stderr",
     "output_type": "stream",
     "text": [
      "19it [02:03,  6.12s/it]"
     ]
    },
    {
     "name": "stdout",
     "output_type": "stream",
     "text": [
      "19  : done with  ./MCI (1year)\\168_S_6467\\func\\swar168_S_6467.nii ./MCI_structural_all\\MCI (1year)\\168_S_6467\\mri\\wm168_S_6467.nii\n"
     ]
    },
    {
     "name": "stderr",
     "output_type": "stream",
     "text": [
      "20it [02:10,  6.32s/it]"
     ]
    },
    {
     "name": "stdout",
     "output_type": "stream",
     "text": [
      "20  : done with  ./MCI (1year)\\168_S_6541\\func\\swar168_S_6541.nii ./MCI_structural_all\\MCI (1year)\\168_S_6541\\mri\\wm168_S_6541.nii\n"
     ]
    },
    {
     "name": "stderr",
     "output_type": "stream",
     "text": [
      "21it [02:16,  6.29s/it]"
     ]
    },
    {
     "name": "stdout",
     "output_type": "stream",
     "text": [
      "21  : done with  ./MCI (1year)\\168_S_6591\\func\\swar168_S_6591.nii ./MCI_structural_all\\MCI (1year)\\168_S_6591\\mri\\wm168_S_6591.nii\n"
     ]
    },
    {
     "name": "stderr",
     "output_type": "stream",
     "text": [
      "22it [02:22,  6.19s/it]"
     ]
    },
    {
     "name": "stdout",
     "output_type": "stream",
     "text": [
      "22  : done with  ./MCI (1year)\\168_S_6619\\func\\swar168_S_6619.nii ./MCI_structural_all\\MCI (1year)\\168_S_6619\\mri\\wm168_S_6619.nii\n"
     ]
    },
    {
     "name": "stderr",
     "output_type": "stream",
     "text": [
      "23it [02:29,  6.42s/it]"
     ]
    },
    {
     "name": "stdout",
     "output_type": "stream",
     "text": [
      "23  : done with  ./MCI (1year)\\168_S_6634\\func\\swar168_S_6634.nii ./MCI_structural_all\\MCI (1year)\\168_S_6634\\mri\\wm168_S_6634.nii\n"
     ]
    },
    {
     "name": "stderr",
     "output_type": "stream",
     "text": [
      "24it [02:35,  6.27s/it]"
     ]
    },
    {
     "name": "stdout",
     "output_type": "stream",
     "text": [
      "24  : done with  ./MCI (1year)\\168_S_6821\\func\\swar168_S_6821.nii ./MCI_structural_all\\MCI (1year)\\168_S_6821\\mri\\wm168_S_6821.nii\n"
     ]
    },
    {
     "name": "stderr",
     "output_type": "stream",
     "text": [
      "25it [02:42,  6.37s/it]"
     ]
    },
    {
     "name": "stdout",
     "output_type": "stream",
     "text": [
      "25  : done with  ./MCI (1year)\\168_S_6874\\func\\swar168_S_6874.nii ./MCI_structural_all\\MCI (1year)\\168_S_6874\\mri\\wm168_S_6874.nii\n"
     ]
    },
    {
     "name": "stderr",
     "output_type": "stream",
     "text": [
      "26it [02:47,  6.05s/it]"
     ]
    },
    {
     "name": "stdout",
     "output_type": "stream",
     "text": [
      "26  : done with  ./MCI (1year)\\168_S_6875\\func\\swar168_S_6875.nii ./MCI_structural_all\\MCI (1year)\\168_S_6875\\mri\\wm168_S_6875.nii\n"
     ]
    },
    {
     "name": "stderr",
     "output_type": "stream",
     "text": [
      "27it [02:50,  5.05s/it]"
     ]
    },
    {
     "name": "stdout",
     "output_type": "stream",
     "text": [
      "27  : done with  ./MCI (2years)\\003_S_0908\\func\\swar003_S_0908.nii ./MCI_structural_all\\MCI (2years)\\003_S_0908\\mri\\wm003_S_0908.nii\n"
     ]
    },
    {
     "name": "stderr",
     "output_type": "stream",
     "text": [
      "28it [02:54,  4.70s/it]"
     ]
    },
    {
     "name": "stdout",
     "output_type": "stream",
     "text": [
      "28  : done with  ./MCI (2years)\\003_S_1122\\func\\swar003_S_1122.nii ./MCI_structural_all\\MCI (2years)\\003_S_1122\\mri\\wm003_S_1122.nii\n"
     ]
    },
    {
     "name": "stderr",
     "output_type": "stream",
     "text": [
      "29it [03:00,  5.23s/it]"
     ]
    },
    {
     "name": "stdout",
     "output_type": "stream",
     "text": [
      "29  : done with  ./MCI (2years)\\012_S_6073\\func\\swar012_S_6073.nii ./MCI_structural_all\\MCI (2years)\\012_S_6073\\mri\\wm012_S_6073.nii\n"
     ]
    },
    {
     "name": "stderr",
     "output_type": "stream",
     "text": [
      "30it [03:08,  5.93s/it]"
     ]
    },
    {
     "name": "stdout",
     "output_type": "stream",
     "text": [
      "30  : done with  ./MCI (2years)\\012_S_6760\\func\\swar012_S_6760.nii ./MCI_structural_all\\MCI (2years)\\012_S_6760\\mri\\wm012_S_6760.nii\n"
     ]
    },
    {
     "name": "stderr",
     "output_type": "stream",
     "text": [
      "31it [03:12,  5.33s/it]"
     ]
    },
    {
     "name": "stdout",
     "output_type": "stream",
     "text": [
      "31  : done with  ./MCI (2years)\\014_S_6765\\func\\swar014_S_6765.nii ./MCI_structural_all\\MCI (2years)\\014_S_6765\\mri\\wm014_S_6765.nii\n"
     ]
    },
    {
     "name": "stderr",
     "output_type": "stream",
     "text": [
      "32it [03:20,  6.30s/it]"
     ]
    },
    {
     "name": "stdout",
     "output_type": "stream",
     "text": [
      "32  : done with  ./MCI (2years)\\022_S_6716\\func\\swar022_S_6716.nii ./MCI_structural_all\\MCI (2years)\\022_S_6716\\mri\\wm022_S_6716.nii\n"
     ]
    },
    {
     "name": "stderr",
     "output_type": "stream",
     "text": [
      "33it [03:26,  6.03s/it]"
     ]
    },
    {
     "name": "stdout",
     "output_type": "stream",
     "text": [
      "33  : done with  ./MCI (2years)\\041_S_0679\\func\\swar041_S_0679.nii ./MCI_structural_all\\MCI (2years)\\041_S_0679\\mri\\wm041_S_0679.nii\n"
     ]
    },
    {
     "name": "stderr",
     "output_type": "stream",
     "text": [
      "34it [03:30,  5.60s/it]"
     ]
    },
    {
     "name": "stdout",
     "output_type": "stream",
     "text": [
      "34  : done with  ./MCI (2years)\\041_S_1418\\func\\swar041_S_1418.nii ./MCI_structural_all\\MCI (2years)\\041_S_1418\\mri\\wm041_S_1418.nii\n"
     ]
    },
    {
     "name": "stderr",
     "output_type": "stream",
     "text": [
      "35it [03:36,  5.74s/it]"
     ]
    },
    {
     "name": "stdout",
     "output_type": "stream",
     "text": [
      "35  : done with  ./MCI (2years)\\116_S_6550\\func\\swar116_S_6550.nii ./MCI_structural_all\\MCI (2years)\\116_S_6550\\mri\\wm116_S_6550.nii\n"
     ]
    },
    {
     "name": "stderr",
     "output_type": "stream",
     "text": [
      "36it [03:42,  5.87s/it]"
     ]
    },
    {
     "name": "stdout",
     "output_type": "stream",
     "text": [
      "36  : done with  ./MCI (2years)\\116_S_6775\\func\\swar116_S_6775.nii ./MCI_structural_all\\MCI (2years)\\116_S_6775\\mri\\wm116_S_6775.nii\n"
     ]
    },
    {
     "name": "stderr",
     "output_type": "stream",
     "text": [
      "37it [03:48,  5.68s/it]"
     ]
    },
    {
     "name": "stdout",
     "output_type": "stream",
     "text": [
      "37  : done with  ./MCI (2years)\\141_S_1052\\func\\swar141_S_1052.nii ./MCI_structural_all\\MCI (2years)\\141_S_1052\\mri\\wm141_S_1052.nii\n"
     ]
    },
    {
     "name": "stderr",
     "output_type": "stream",
     "text": [
      "38it [03:53,  5.63s/it]"
     ]
    },
    {
     "name": "stdout",
     "output_type": "stream",
     "text": [
      "38  : done with  ./MCI (2years)\\141_S_1378\\func\\swar141_S_1378.nii ./MCI_structural_all\\MCI (2years)\\141_S_1378\\mri\\wm141_S_1378.nii\n"
     ]
    },
    {
     "name": "stderr",
     "output_type": "stream",
     "text": [
      "39it [03:59,  5.77s/it]"
     ]
    },
    {
     "name": "stdout",
     "output_type": "stream",
     "text": [
      "39  : done with  ./MCI (2years)\\141_S_6075\\func\\swar141_S_6075.nii ./MCI_structural_all\\MCI (2years)\\141_S_6075\\mri\\wm141_S_6075.nii\n"
     ]
    },
    {
     "name": "stderr",
     "output_type": "stream",
     "text": [
      "40it [04:04,  5.53s/it]"
     ]
    },
    {
     "name": "stdout",
     "output_type": "stream",
     "text": [
      "40  : done with  ./MCI (2years)\\168_S_6180\\func\\swar168_S_6180.nii ./MCI_structural_all\\MCI (2years)\\168_S_6180\\mri\\wm168_S_6180.nii\n"
     ]
    },
    {
     "name": "stderr",
     "output_type": "stream",
     "text": [
      "41it [04:13,  6.43s/it]"
     ]
    },
    {
     "name": "stdout",
     "output_type": "stream",
     "text": [
      "41  : done with  ./MCI (2years)\\168_S_6541\\func\\swar168_S_6541.nii ./MCI_structural_all\\MCI (2years)\\168_S_6541\\mri\\wm168_S_6541.nii\n"
     ]
    },
    {
     "name": "stderr",
     "output_type": "stream",
     "text": [
      "42it [04:16,  5.60s/it]"
     ]
    },
    {
     "name": "stdout",
     "output_type": "stream",
     "text": [
      "42  : done with  ./MCI (2years)\\168_S_6591\\func\\swar168_S_6591.nii ./MCI_structural_all\\MCI (2years)\\168_S_6591\\mri\\wm168_S_6591.nii\n"
     ]
    },
    {
     "name": "stderr",
     "output_type": "stream",
     "text": [
      "43it [04:24,  6.27s/it]"
     ]
    },
    {
     "name": "stdout",
     "output_type": "stream",
     "text": [
      "43  : done with  ./MCI (2years)\\168_S_6619\\func\\swar168_S_6619.nii ./MCI_structural_all\\MCI (2years)\\168_S_6619\\mri\\wm168_S_6619.nii\n"
     ]
    },
    {
     "name": "stderr",
     "output_type": "stream",
     "text": [
      "44it [04:31,  6.30s/it]"
     ]
    },
    {
     "name": "stdout",
     "output_type": "stream",
     "text": [
      "44  : done with  ./MCI (2years)\\168_S_6634\\func\\swar168_S_6634.nii ./MCI_structural_all\\MCI (2years)\\168_S_6634\\mri\\wm168_S_6634.nii\n"
     ]
    },
    {
     "name": "stderr",
     "output_type": "stream",
     "text": [
      "45it [04:37,  6.44s/it]"
     ]
    },
    {
     "name": "stdout",
     "output_type": "stream",
     "text": [
      "45  : done with  ./MCI (3years)\\003_S_6258\\func\\swar003_S_6258.nii ./MCI_structural_all\\MCI (3years)\\003_S_6258\\mri\\wm003_S_6258.nii\n"
     ]
    },
    {
     "name": "stderr",
     "output_type": "stream",
     "text": [
      "46it [04:44,  6.60s/it]"
     ]
    },
    {
     "name": "stdout",
     "output_type": "stream",
     "text": [
      "46  : done with  ./MCI (3years)\\003_S_6268\\func\\swar003_S_6268.nii ./MCI_structural_all\\MCI (3years)\\003_S_6268\\mri\\wm003_S_6268.nii\n"
     ]
    },
    {
     "name": "stderr",
     "output_type": "stream",
     "text": [
      "47it [04:49,  5.94s/it]"
     ]
    },
    {
     "name": "stdout",
     "output_type": "stream",
     "text": [
      "47  : done with  ./MCI (3years)\\012_S_6073\\func\\swar012_S_6073.nii ./MCI_structural_all\\MCI (3years)\\012_S_6073\\mri\\wm012_S_6073.nii\n"
     ]
    },
    {
     "name": "stderr",
     "output_type": "stream",
     "text": [
      "48it [04:57,  6.52s/it]"
     ]
    },
    {
     "name": "stdout",
     "output_type": "stream",
     "text": [
      "48  : done with  ./MCI (3years)\\070_S_6229\\func\\swar070_S_6229.nii ./MCI_structural_all\\MCI (3years)\\070_S_6229\\mri\\wm070_S_6229.nii\n"
     ]
    },
    {
     "name": "stderr",
     "output_type": "stream",
     "text": [
      "49it [05:02,  6.20s/it]"
     ]
    },
    {
     "name": "stdout",
     "output_type": "stream",
     "text": [
      "49  : done with  ./MCI (3years)\\070_S_6236\\func\\swar070_S_6236.nii ./MCI_structural_all\\MCI (3years)\\070_S_6236\\mri\\wm070_S_6236.nii\n"
     ]
    },
    {
     "name": "stderr",
     "output_type": "stream",
     "text": [
      "50it [05:07,  5.92s/it]"
     ]
    },
    {
     "name": "stdout",
     "output_type": "stream",
     "text": [
      "50  : done with  ./MCI (3years)\\116_S_6550\\func\\swar116_S_6550.nii ./MCI_structural_all\\MCI (3years)\\116_S_6550\\mri\\wm116_S_6550.nii\n"
     ]
    },
    {
     "name": "stderr",
     "output_type": "stream",
     "text": [
      "51it [05:14,  6.25s/it]"
     ]
    },
    {
     "name": "stdout",
     "output_type": "stream",
     "text": [
      "51  : done with  ./MCI (3years)\\168_S_6180\\func\\swar168_S_6180.nii ./MCI_structural_all\\MCI (3years)\\168_S_6180\\mri\\wm168_S_6180.nii\n"
     ]
    },
    {
     "name": "stderr",
     "output_type": "stream",
     "text": [
      "52it [05:19,  6.15s/it]"
     ]
    },
    {
     "name": "stdout",
     "output_type": "stream",
     "text": [
      "52  : done with  ./MCI (3years)\\168_S_6541\\func\\swar168_S_6541.nii ./MCI_structural_all\\MCI (3years)\\168_S_6541\\mri\\wm168_S_6541.nii\n"
     ]
    },
    {
     "name": "stderr",
     "output_type": "stream",
     "text": [
      "\n"
     ]
    },
    {
     "ename": "",
     "evalue": "",
     "output_type": "error",
     "traceback": [
      "\u001b[1;31mThe Kernel crashed while executing code in the current cell or a previous cell. \n",
      "\u001b[1;31mPlease review the code in the cell(s) to identify a possible cause of the failure. \n",
      "\u001b[1;31mClick <a href='https://aka.ms/vscodeJupyterKernelCrash'>here</a> for more info. \n",
      "\u001b[1;31mView Jupyter <a href='command:jupyter.viewOutput'>log</a> for further details."
     ]
    }
   ],
   "source": [
    "# copy pasting files from one path to another\n",
    "paste_func_path = r\"MCI_full_data\\func\"\n",
    "paste_struct_path = r\"MCI_full_data\\struct\"\n",
    "cnt = 1\n",
    "for i, j in tqdm(zip(sorted_mci_func_file_paths, sorted_mci_struct_file_paths)):\n",
    "    year_count = 1\n",
    "    if \"1year\" in i:\n",
    "        year_count = 1\n",
    "    elif \"2years\" in i:\n",
    "        year_count = 2\n",
    "    else:\n",
    "        year_count = 3\n",
    "    \n",
    "    year_suffix = \"s\" if year_count > 1 else \"\"\n",
    "    shutil.copyfile(i, os.path.join(paste_func_path, f\"MCI ({year_count}year{year_suffix})\", i.split(\"\\\\\")[-1]))\n",
    "    shutil.copyfile(j, os.path.join(paste_struct_path, f\"MCI ({year_count}year{year_suffix})\", j.split(\"\\\\\")[-1]))\n",
    "    print(cnt, \" : done with \", i, j)\n",
    "    cnt += 1"
   ]
  },
  {
   "cell_type": "code",
   "execution_count": 12,
   "metadata": {},
   "outputs": [
    {
     "data": {
      "text/plain": [
       "(52, 52)"
      ]
     },
     "execution_count": 12,
     "metadata": {},
     "output_type": "execute_result"
    }
   ],
   "source": [
    "len(sorted_mci_func_file_paths), len(sorted_mci_struct_file_paths)"
   ]
  },
  {
   "cell_type": "code",
   "execution_count": 15,
   "metadata": {},
   "outputs": [
    {
     "data": {
      "text/plain": [
       "('./MCI (1year)\\\\002_S_1155\\\\func\\\\swar002_S_1155.nii',\n",
       " './MCI_structural_all\\\\MCI (1year)\\\\002_S_1155\\\\mri\\\\wm002_S_1155.nii')"
      ]
     },
     "execution_count": 15,
     "metadata": {},
     "output_type": "execute_result"
    }
   ],
   "source": [
    "sorted_mci_func_file_paths[0], sorted_mci_struct_file_paths[0]"
   ]
  },
  {
   "cell_type": "code",
   "execution_count": 24,
   "metadata": {},
   "outputs": [],
   "source": [
    "CN_func_file_paths_string = r'''D:/adni datasets/CN (2years)/003_S_4119/func/swar003_S_4119.nii\n",
    "D:/adni datasets/CN (2years)/003_S_6067/func/swar003_S_6067.nii\n",
    "D:/adni datasets/CN (2years)/014_S_4401/func/swar014_S_4401.nii\n",
    "D:/adni datasets/CN (2years)/014_S_6076/func/swar014_S_6076.nii\n",
    "D:/adni datasets/CN (2years)/014_S_6145/func/swar014_S_6145.nii\n",
    "D:/adni datasets/CN (2years)/014_S_6424/func/swar014_S_6424.nii\n",
    "D:/adni datasets/CN (2years)/041_S_4200/func/swar041_S_4200.nii\n",
    "D:/adni datasets/CN (2years)/041_S_4427/func/swar041_S_4427.nii\n",
    "D:/adni datasets/CN (2years)/041_S_5100/func/swar041_S_5100.nii\n",
    "D:/adni datasets/CN (2years)/041_S_6136/func/swar041_S_6136.nii\n",
    "D:/adni datasets/CN (2years)/041_S_6159/func/swar041_S_6159.nii\n",
    "D:/adni datasets/CN (2years)/041_S_6192/func/swar041_S_6192.nii\n",
    "D:/adni datasets/CN (2years)/041_S_6226/func/swar041_S_6226.nii\n",
    "D:/adni datasets/CN (2years)/041_S_6292/func/swar041_S_6292.nii\n",
    "D:/adni datasets/CN (2years)/041_S_6314/func/swar041_S_6314.nii\n",
    "D:/adni datasets/CN (2years)/041_S_6354/func/swar041_S_6354.nii\n",
    "D:/adni datasets/CN (2years)/041_S_6401/func/swar041_S_6401.nii\n",
    "D:/adni datasets/CN (2years)/041_S_6785/func/swar041_S_6785.nii\n",
    "D:/adni datasets/CN (2years)/041_S_6786/func/swar041_S_6786.nii\n",
    "D:/adni datasets/CN (2years)/068_S_0127/func/swar068_S_0127.nii\n",
    "D:/adni datasets/CN (2years)/068_S_0473/func/swar068_S_0473.nii\n",
    "D:/adni datasets/CN (2years)/068_S_4340/func/swar068_S_4340.nii\n",
    "D:/adni datasets/CN (2years)/082_S_4224/func/swar082_S_4224.nii\n",
    "D:/adni datasets/CN (2years)/082_S_4428/func/swar082_S_4428.nii\n",
    "D:/adni datasets/CN (2years)/082_S_6283/func/swar082_S_6283.nii\n",
    "D:/adni datasets/CN (2years)/082_S_6415/func/swar082_S_6415.nii\n",
    "D:/adni datasets/CN (2years)/082_S_6564/func/swar082_S_6564.nii\n",
    "D:/adni datasets/CN (2years)/082_S_6629/func/swar082_S_6629.nii\n",
    "D:/adni datasets/CN (2years)/114_S_0416/func/swar114_S_0416.nii\n",
    "D:/adni datasets/CN (2years)/114_S_6057/func/swar114_S_6057.nii'''"
   ]
  },
  {
   "cell_type": "code",
   "execution_count": 25,
   "metadata": {},
   "outputs": [],
   "source": [
    "cn_func_file_paths = CN_func_file_paths_string.split(\"\\n\")"
   ]
  },
  {
   "cell_type": "code",
   "execution_count": 26,
   "metadata": {},
   "outputs": [
    {
     "data": {
      "text/plain": [
       "30"
      ]
     },
     "execution_count": 26,
     "metadata": {},
     "output_type": "execute_result"
    }
   ],
   "source": [
    "len(cn_func_file_paths)"
   ]
  },
  {
   "cell_type": "code",
   "execution_count": 27,
   "metadata": {},
   "outputs": [],
   "source": [
    "cn_func_file_paths_sorted = sorted(cn_func_file_paths)"
   ]
  },
  {
   "cell_type": "code",
   "execution_count": 30,
   "metadata": {},
   "outputs": [
    {
     "name": "stderr",
     "output_type": "stream",
     "text": [
      "100%|██████████| 30/30 [02:36<00:00,  5.23s/it]\n"
     ]
    }
   ],
   "source": [
    "for file in tqdm(cn_func_file_paths_sorted):\n",
    "    shutil.copyfile(file, \"./CN_FUNC_DATA_SWAR_ONLY/\" + file.split(\"/\")[-1])"
   ]
  },
  {
   "cell_type": "code",
   "execution_count": 2,
   "metadata": {},
   "outputs": [],
   "source": [
    "base_path_cn_func = r'./CN_FUNC_DATA_SWAR_ONLY/'\n",
    "cn_fmri_paths = []\n",
    "for image in os.listdir(base_path_cn_func):\n",
    "    image_path = os.path.join(base_path_cn_func, image)\n",
    "    cn_fmri_paths.append(image_path)\n",
    "\n",
    "cn_fmri_paths = sorted(cn_fmri_paths)"
   ]
  },
  {
   "cell_type": "code",
   "execution_count": 3,
   "metadata": {},
   "outputs": [
    {
     "data": {
      "text/plain": [
       "30"
      ]
     },
     "execution_count": 3,
     "metadata": {},
     "output_type": "execute_result"
    }
   ],
   "source": [
    "len(cn_fmri_paths)"
   ]
  },
  {
   "cell_type": "code",
   "execution_count": 4,
   "metadata": {},
   "outputs": [
    {
     "name": "stderr",
     "output_type": "stream",
     "text": [
      "100%|██████████| 30/30 [00:08<00:00,  3.73it/s]\n"
     ]
    }
   ],
   "source": [
    "cn_fmri_images = []\n",
    "for cn_fmri_path in tqdm(cn_fmri_paths):\n",
    "    image = nib.load(cn_fmri_path)\n",
    "    cn_fmri_images.append(image.get_fdata())\n",
    "cn_fmri_images = np.array(cn_fmri_images, dtype=np.float32)"
   ]
  },
  {
   "cell_type": "code",
   "execution_count": 7,
   "metadata": {},
   "outputs": [
    {
     "data": {
      "text/plain": [
       "(30, 79, 95, 79, 197)"
      ]
     },
     "execution_count": 7,
     "metadata": {},
     "output_type": "execute_result"
    }
   ],
   "source": [
    "cn_fmri_images.shape"
   ]
  },
  {
   "cell_type": "code",
   "execution_count": 8,
   "metadata": {},
   "outputs": [],
   "source": [
    "with open(r'./feature_extraction/CN_func_30_79_95_79_197.pkl', 'wb') as f:\n",
    "    pickle.dump(cn_fmri_images, f)"
   ]
  },
  {
   "cell_type": "code",
   "execution_count": 2,
   "metadata": {},
   "outputs": [],
   "source": [
    "cn_12_fmri_path = r'./New folder (8)/all_cn_swar_imges_12'\n",
    "cn_12_mri_path = r'./New folder (8)/all_cn_wm_images_12'\n",
    "\n",
    "def get_cn_12_file_paths(path : str) -> list[str]:\n",
    "    cn_file_paths = []\n",
    "    for file in os.listdir(path):\n",
    "        file_path = os.path.join(path, file)\n",
    "        cn_file_paths.append(file_path)\n",
    "    return cn_file_paths\n",
    "\n",
    "cn_12_fmri_paths = get_cn_12_file_paths(cn_12_fmri_path)\n",
    "cn_12_mri_paths = get_cn_12_file_paths(cn_12_mri_path)\n",
    "\n",
    "cn_12_fmri_paths = sorted(cn_12_fmri_paths)\n",
    "cn_12_mri_paths = sorted(cn_12_mri_paths)"
   ]
  },
  {
   "cell_type": "code",
   "execution_count": 3,
   "metadata": {},
   "outputs": [
    {
     "name": "stdout",
     "output_type": "stream",
     "text": [
      "./New folder (8)/all_cn_wm_images_12/wm002_S_1261.nii ./New folder (8)/all_cn_swar_imges_12/swar002_S_1261.nii\n",
      "./New folder (8)/all_cn_wm_images_12/wm002_S_6007.nii ./New folder (8)/all_cn_swar_imges_12/swar002_S_6007.nii\n",
      "./New folder (8)/all_cn_wm_images_12/wm003_S_4288.nii ./New folder (8)/all_cn_swar_imges_12/swar003_S_4288.nii\n",
      "./New folder (8)/all_cn_wm_images_12/wm003_S_4350.nii ./New folder (8)/all_cn_swar_imges_12/swar003_S_4350.nii\n",
      "./New folder (8)/all_cn_wm_images_12/wm003_S_4441.nii ./New folder (8)/all_cn_swar_imges_12/swar003_S_4441.nii\n",
      "./New folder (8)/all_cn_wm_images_12/wm003_S_4644.nii ./New folder (8)/all_cn_swar_imges_12/swar003_S_4644.nii\n",
      "./New folder (8)/all_cn_wm_images_12/wm003_S_4900.nii ./New folder (8)/all_cn_swar_imges_12/swar003_S_4900.nii\n",
      "./New folder (8)/all_cn_wm_images_12/wm003_S_6014.nii ./New folder (8)/all_cn_swar_imges_12/swar003_S_6014.nii\n",
      "./New folder (8)/all_cn_wm_images_12/wm011_S_4278.nii ./New folder (8)/all_cn_swar_imges_12/swar011_S_4278.nii\n",
      "./New folder (8)/all_cn_wm_images_12/wm011_S_6367.nii ./New folder (8)/all_cn_swar_imges_12/swar011_S_6367.nii\n",
      "./New folder (8)/all_cn_wm_images_12/wm011_S_6465.nii ./New folder (8)/all_cn_swar_imges_12/swar011_S_6465.nii\n",
      "./New folder (8)/all_cn_wm_images_12/wm020_S_6185.nii ./New folder (8)/all_cn_swar_imges_12/swar020_S_6185.nii\n"
     ]
    }
   ],
   "source": [
    "for i, j in zip(cn_12_mri_paths, cn_12_fmri_paths):\n",
    "    print(i, j)"
   ]
  },
  {
   "cell_type": "code",
   "execution_count": 15,
   "metadata": {},
   "outputs": [
    {
     "name": "stderr",
     "output_type": "stream",
     "text": [
      "  0%|          | 0/12 [00:00<?, ?it/s]"
     ]
    },
    {
     "name": "stderr",
     "output_type": "stream",
     "text": [
      "100%|██████████| 12/12 [00:00<00:00, 40.26it/s]\n"
     ]
    }
   ],
   "source": [
    "cn_mri_images = []\n",
    "for cn_mri_path in tqdm(cn_12_mri_paths):\n",
    "    image = nib.load(cn_mri_path)\n",
    "    cn_mri_images.append(image.get_fdata())\n",
    "cn_mri_images = np.array(cn_mri_images, dtype=np.float32)"
   ]
  },
  {
   "cell_type": "code",
   "execution_count": 16,
   "metadata": {},
   "outputs": [
    {
     "data": {
      "text/plain": [
       "(42, 169, 205, 169)"
      ]
     },
     "execution_count": 16,
     "metadata": {},
     "output_type": "execute_result"
    }
   ],
   "source": [
    "with open(r'feature_extraction/cat12_CN_structural_features.pkl', 'rb') as f:\n",
    "    cn_30_mri_images = pickle.load(f)\n",
    "all_cn_mri_images = np.concat((cn_30_mri_images, cn_mri_images), axis=0)\n",
    "all_cn_mri_images.shape"
   ]
  },
  {
   "cell_type": "code",
   "execution_count": 17,
   "metadata": {},
   "outputs": [],
   "source": [
    "with open(r'feature_extraction/CN_struct_cat_42_169_205_169.pkl', 'wb') as f:\n",
    "    pickle.dump(all_cn_mri_images, f)"
   ]
  },
  {
   "cell_type": "code",
   "execution_count": 18,
   "metadata": {},
   "outputs": [],
   "source": [
    "del all_cn_mri_images, cn_mri_images"
   ]
  },
  {
   "cell_type": "code",
   "execution_count": null,
   "metadata": {},
   "outputs": [],
   "source": []
  }
 ],
 "metadata": {
  "kernelspec": {
   "display_name": "Python 3",
   "language": "python",
   "name": "python3"
  },
  "language_info": {
   "codemirror_mode": {
    "name": "ipython",
    "version": 3
   },
   "file_extension": ".py",
   "mimetype": "text/x-python",
   "name": "python",
   "nbconvert_exporter": "python",
   "pygments_lexer": "ipython3",
   "version": "3.10.12"
  }
 },
 "nbformat": 4,
 "nbformat_minor": 2
}
