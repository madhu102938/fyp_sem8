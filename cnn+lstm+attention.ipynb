{
 "cells": [
  {
   "cell_type": "code",
   "execution_count": 1,
   "metadata": {
    "id": "y0TyzxthhRch"
   },
   "outputs": [
    {
     "name": "stdout",
     "output_type": "stream",
     "text": [
      "WARNING:tensorflow:From c:\\Users\\maddi\\anaconda3\\Lib\\site-packages\\keras\\src\\losses.py:2976: The name tf.losses.sparse_softmax_cross_entropy is deprecated. Please use tf.compat.v1.losses.sparse_softmax_cross_entropy instead.\n",
      "\n"
     ]
    }
   ],
   "source": [
    "import tensorflow as tf\n",
    "from tensorflow.keras.layers import Input, ConvLSTM2D, GlobalAveragePooling2D, Conv3D, Flatten, Dense, Dropout, LayerNormalization, GlobalAveragePooling3D, Concatenate, TimeDistributed, MaxPooling3D, AveragePooling3D, GlobalMaxPooling3D, LSTM, Lambda\n",
    "from tensorflow.keras.models import Model\n",
    "import numpy as np\n",
    "import pickle as pkl"
   ]
  },
  {
   "cell_type": "code",
   "execution_count": 2,
   "metadata": {},
   "outputs": [
    {
     "name": "stdout",
     "output_type": "stream",
     "text": [
      "[PhysicalDevice(name='/physical_device:CPU:0', device_type='CPU'), PhysicalDevice(name='/physical_device:GPU:0', device_type='GPU')]\n"
     ]
    }
   ],
   "source": [
    "devices = tf.config.list_physical_devices()\n",
    "print(devices)"
   ]
  },
  {
   "cell_type": "code",
   "execution_count": 3,
   "metadata": {},
   "outputs": [],
   "source": [
    "tf.config.set_visible_devices([], 'GPU')"
   ]
  },
  {
   "cell_type": "code",
   "execution_count": 4,
   "metadata": {},
   "outputs": [],
   "source": [
    "# importing data\n",
    "def returning_pkl_file_data(path : str):\n",
    "    with open(path, 'rb') as f:\n",
    "        temp = pkl.load(f)\n",
    "    return temp\n",
    "\n",
    "mci_func = returning_pkl_file_data(r\"feature_extraction/MCI_func_52_79_95_79_197.pkl\")\n",
    "mci_struct = returning_pkl_file_data(r'feature_extraction/MCI_struct_cat_52_169_205_169.pkl')\n",
    "cn_func = returning_pkl_file_data(r'feature_extraction/CN_func_42_79_95_79_197.pkl')\n",
    "cn_struct = returning_pkl_file_data(r'feature_extraction/CN_struct_cat_42_169_205_169.pkl')"
   ]
  },
  {
   "cell_type": "code",
   "execution_count": null,
   "metadata": {},
   "outputs": [
    {
     "data": {
      "text/plain": [
       "(94, 79, 95, 79, 197)"
      ]
     },
     "execution_count": 5,
     "metadata": {},
     "output_type": "execute_result"
    }
   ],
   "source": [
    "func_data = np.concat((mci_func, cn_func), axis=0, dtype=np.float32)\n",
    "func_data.shape"
   ]
  },
  {
   "cell_type": "code",
   "execution_count": null,
   "metadata": {},
   "outputs": [
    {
     "data": {
      "text/plain": [
       "(94, 169, 205, 169)"
      ]
     },
     "execution_count": 6,
     "metadata": {},
     "output_type": "execute_result"
    }
   ],
   "source": [
    "struct_data = np.concat((mci_struct, cn_struct), axis=0, dtype=np.float32)\n",
    "struct_data.shape"
   ]
  },
  {
   "cell_type": "code",
   "execution_count": 7,
   "metadata": {},
   "outputs": [
    {
     "data": {
      "text/plain": [
       "(94,)"
      ]
     },
     "execution_count": 7,
     "metadata": {},
     "output_type": "execute_result"
    }
   ],
   "source": [
    "all_labels = np.concat((np.zeros((len(mci_func),)), np.ones((len(cn_func),))))\n",
    "all_labels.shape"
   ]
  },
  {
   "cell_type": "code",
   "execution_count": 8,
   "metadata": {},
   "outputs": [
    {
     "data": {
      "text/plain": [
       "((94, 79, 95, 79, 197), (94, 169, 205, 169, 1))"
      ]
     },
     "execution_count": 8,
     "metadata": {},
     "output_type": "execute_result"
    }
   ],
   "source": [
    "# func_data = np.expand_dims(func_data, axis=len(func_data.shape))\n",
    "struct_data = np.expand_dims(struct_data, axis=len(struct_data.shape))\n",
    "\n",
    "func_data.shape, struct_data.shape"
   ]
  },
  {
   "cell_type": "code",
   "execution_count": 9,
   "metadata": {},
   "outputs": [
    {
     "data": {
      "text/plain": [
       "((75, 79, 95, 79, 197),\n",
       " (19, 79, 95, 79, 197),\n",
       " (75, 169, 205, 169, 1),\n",
       " (19, 169, 205, 169, 1),\n",
       " (75,),\n",
       " (19,))"
      ]
     },
     "execution_count": 9,
     "metadata": {},
     "output_type": "execute_result"
    }
   ],
   "source": [
    "from sklearn.model_selection import train_test_split\n",
    "\n",
    "func_train, func_test, struct_train, struct_test, y_train, y_test = train_test_split(\n",
    "    func_data, struct_data, all_labels, test_size=0.2, random_state=42\n",
    ")\n",
    "\n",
    "func_train.shape, func_test.shape, struct_train.shape, struct_test.shape, y_train.shape, y_test.shape"
   ]
  },
  {
   "cell_type": "code",
   "execution_count": 19,
   "metadata": {},
   "outputs": [
    {
     "name": "stdout",
     "output_type": "stream",
     "text": [
      "Model: \"Combined_Model\"\n",
      "__________________________________________________________________________________________________\n",
      " Layer (type)                Output Shape                 Param #   Connected to                  \n",
      "==================================================================================================\n",
      " fmri_input (InputLayer)     [(None, 4, 4, 4, 5)]         0         []                            \n",
      "                                                                                                  \n",
      " permute_8 (Permute)         (None, 5, 4, 4, 4)           0         ['fmri_input[0][0]']          \n",
      "                                                                                                  \n",
      " reshape_8 (Reshape)         (None, 5, 64)                0         ['permute_8[0][0]']           \n",
      "                                                                                                  \n",
      " dense_20 (Dense)            (None, 5, 128)               8320      ['reshape_8[0][0]']           \n",
      "                                                                                                  \n",
      " positional_encoding_8 (Pos  (None, 5, 128)               0         ['dense_20[0][0]']            \n",
      " itionalEncoding)                                                                                 \n",
      "                                                                                                  \n",
      " transformer_encoder_block_  (None, 5, 128)               659712    ['positional_encoding_8[0][0]'\n",
      " 4 (TransformerEncoderBlock                                         ]                             \n",
      " )                                                                                                \n",
      "                                                                                                  \n",
      " smri_input (InputLayer)     [(None, 10, 10, 10, 1)]      0         []                            \n",
      "                                                                                                  \n",
      " transformer_encoder_block_  (None, 5, 128)               659712    ['transformer_encoder_block_4[\n",
      " 5 (TransformerEncoderBlock                                         0][0]']                       \n",
      " )                                                                                                \n",
      "                                                                                                  \n",
      " conv3d_2 (Conv3D)           (None, 10, 10, 10, 32)       896       ['smri_input[0][0]']          \n",
      "                                                                                                  \n",
      " transformer_encoder_block_  (None, 5, 128)               659712    ['transformer_encoder_block_5[\n",
      " 6 (TransformerEncoderBlock                                         0][0]']                       \n",
      " )                                                                                                \n",
      "                                                                                                  \n",
      " max_pooling3d_1 (MaxPoolin  (None, 5, 5, 5, 32)          0         ['conv3d_2[0][0]']            \n",
      " g3D)                                                                                             \n",
      "                                                                                                  \n",
      " transformer_encoder_block_  (None, 5, 128)               659712    ['transformer_encoder_block_6[\n",
      " 7 (TransformerEncoderBlock                                         0][0]']                       \n",
      " )                                                                                                \n",
      "                                                                                                  \n",
      " conv3d_3 (Conv3D)           (None, 5, 5, 5, 64)          55360     ['max_pooling3d_1[0][0]']     \n",
      "                                                                                                  \n",
      " tf.__operators__.getitem_1  (None, 128)                  0         ['transformer_encoder_block_7[\n",
      "  (SlicingOpLambda)                                                 0][0]']                       \n",
      "                                                                                                  \n",
      " global_average_pooling3d_1  (None, 64)                   0         ['conv3d_3[0][0]']            \n",
      "  (GlobalAveragePooling3D)                                                                        \n",
      "                                                                                                  \n",
      " dense_29 (Dense)            (None, 1)                    129       ['tf.__operators__.getitem_1[0\n",
      "                                                                    ][0]']                        \n",
      "                                                                                                  \n",
      " dense_30 (Dense)            (None, 128)                  8320      ['global_average_pooling3d_1[0\n",
      "                                                                    ][0]']                        \n",
      "                                                                                                  \n",
      " concatenate_1 (Concatenate  (None, 129)                  0         ['dense_29[0][0]',            \n",
      " )                                                                   'dense_30[0][0]']            \n",
      "                                                                                                  \n",
      " dense_31 (Dense)            (None, 256)                  33280     ['concatenate_1[0][0]']       \n",
      "                                                                                                  \n",
      " dropout_17 (Dropout)        (None, 256)                  0         ['dense_31[0][0]']            \n",
      "                                                                                                  \n",
      " dense_32 (Dense)            (None, 1)                    257       ['dropout_17[0][0]']          \n",
      "                                                                                                  \n",
      "==================================================================================================\n",
      "Total params: 2745410 (10.47 MB)\n",
      "Trainable params: 2745410 (10.47 MB)\n",
      "Non-trainable params: 0 (0.00 Byte)\n",
      "__________________________________________________________________________________________________\n"
     ]
    }
   ],
   "source": [
    "import tensorflow as tf\n",
    "from tensorflow.keras import layers, Model\n",
    "import math\n",
    "\n",
    "class PositionalEncoding(layers.Layer):\n",
    "    def __init__(self, d_model, max_len=5000):\n",
    "        super().__init__()\n",
    "        self.d_model = d_model\n",
    "        self.max_len = max_len\n",
    "\n",
    "    def get_angles(self, position, i):\n",
    "        angles = 1 / tf.pow(10000., (2 * (i // 2)) / tf.cast(self.d_model, tf.float32))\n",
    "        return position * angles\n",
    "\n",
    "    def call(self, inputs):\n",
    "        seq_length = tf.shape(inputs)[1]\n",
    "        position = tf.range(seq_length, dtype=tf.float32)[:, tf.newaxis]\n",
    "        i = tf.range(self.d_model, dtype=tf.float32)[tf.newaxis, :]\n",
    "        angle_rads = self.get_angles(position, i)\n",
    "        \n",
    "        # Apply sin to even indices, cos to odd indices\n",
    "        sin_mask = tf.cast(tf.range(self.d_model) % 2 == 0, tf.float32)\n",
    "        cos_mask = 1 - sin_mask\n",
    "        \n",
    "        \n",
    "        pos_encoding = (tf.sin(angle_rads) * sin_mask + tf.cos(angle_rads)) * cos_mask\n",
    "        pos_encoding = pos_encoding[tf.newaxis, ...]\n",
    "        \n",
    "        return inputs + pos_encoding\n",
    "\n",
    "class TransformerEncoderBlock(layers.Layer):\n",
    "    def __init__(self, d_model, num_heads, ff_dim, dropout=0.1):\n",
    "        super().__init__()\n",
    "        self.attn = layers.MultiHeadAttention(num_heads=num_heads, key_dim=d_model)\n",
    "        self.ffn = tf.keras.Sequential([\n",
    "            layers.Dense(ff_dim, activation=\"relu\"),\n",
    "            layers.Dense(d_model)\n",
    "        ])\n",
    "        self.layernorm1 = layers.LayerNormalization(epsilon=1e-6)\n",
    "        self.layernorm2 = layers.LayerNormalization(epsilon=1e-6)\n",
    "        self.dropout1 = layers.Dropout(dropout)\n",
    "        self.dropout2 = layers.Dropout(dropout)\n",
    "\n",
    "    def call(self, inputs, training=False):\n",
    "        attn_output = self.attn(inputs, inputs)\n",
    "        attn_output = self.dropout1(attn_output, training=training)\n",
    "        out1 = self.layernorm1(inputs + attn_output)\n",
    "        \n",
    "        ffn_output = self.ffn(out1)\n",
    "        ffn_output = self.dropout2(ffn_output, training=training)\n",
    "        return self.layernorm2(out1 + ffn_output)\n",
    "\n",
    "def build_transformer_model(input_shape=(func_data.shape[1:]),  # (depth, height, width, time, channels)\n",
    "                            embedding_dim=128,\n",
    "                            num_heads=8,\n",
    "                            ff_dim=512,\n",
    "                            num_layers=4,\n",
    "                            dropout=0.1,\n",
    "                            use_mean_pooling=False):\n",
    "    # Input layer\n",
    "    fmri_input = layers.Input(shape=input_shape, name=\"fmri_input\", dtype=tf.float32)\n",
    "    \n",
    "    # Preprocessing\n",
    "    x = layers.Permute((4, 1, 2, 3))(fmri_input)  # Move time to first position: (batch, time, depth, height, width)\n",
    "    x = layers.Reshape((-1, input_shape[0] * input_shape[1] * input_shape[2]))(x)  # (batch, time, spatial_features)\n",
    "    \n",
    "    # Embedding layer\n",
    "    x = layers.Dense(embedding_dim, activation=\"relu\")(x)\n",
    "    \n",
    "    # Positional encoding\n",
    "    x = PositionalEncoding(embedding_dim)(x)\n",
    "    \n",
    "    # Transformer encoder\n",
    "    for _ in range(num_layers):\n",
    "        x = TransformerEncoderBlock(embedding_dim, num_heads, ff_dim, dropout)(x)\n",
    "    \n",
    "    # Pooling\n",
    "    if use_mean_pooling:\n",
    "        pooled_output = layers.GlobalAveragePooling1D()(x)\n",
    "    else:  # Use first token (BERT-style)\n",
    "        pooled_output = x[:, 0, :]\n",
    "    \n",
    "    # Classification\n",
    "    output = layers.Dense(1, activation=\"sigmoid\")(pooled_output)\n",
    "    \n",
    "    return Model(inputs=fmri_input, outputs=output, name=\"MeanTransformer\" if use_mean_pooling else \"Transformer\")\n",
    "\n",
    "# Example usage\n",
    "def build_combined_model(fmri_shape=(func_data.shape[1:]),\n",
    "                         smri_shape=(struct_data.shape[1:]),\n",
    "                         transformer_params=None):\n",
    "    # Default transformer parameters\n",
    "    if transformer_params is None:\n",
    "        transformer_params = {\n",
    "            'embedding_dim': 128,\n",
    "            'num_heads': 8,\n",
    "            'ff_dim': 512,\n",
    "            'num_layers': 4,\n",
    "            'dropout': 0.1,\n",
    "            'use_mean_pooling': False\n",
    "        }\n",
    "    \n",
    "    # Build models\n",
    "    fmri_model = build_transformer_model(input_shape=fmri_shape, **transformer_params)\n",
    "    \n",
    "    # sMRI model (3D CNN)\n",
    "    smri_input = layers.Input(shape=smri_shape, name=\"smri_input\", dtype=tf.float32)\n",
    "    y = layers.Conv3D(32, 3, activation=\"relu\", padding=\"same\")(smri_input)\n",
    "    y = layers.MaxPooling3D(2)(y)\n",
    "    y = layers.Conv3D(64, 3, activation=\"relu\", padding=\"same\")(y)\n",
    "    y = layers.GlobalAveragePooling3D()(y)\n",
    "    y = layers.Dense(128, activation=\"relu\")(y)\n",
    "    smri_model = Model(inputs=smri_input, outputs=y, name=\"sMRI_Model\")\n",
    "    \n",
    "    # Combine models\n",
    "    combined = layers.Concatenate()([fmri_model.output, smri_model.output])\n",
    "    combined = layers.Dense(256, activation=\"relu\")(combined)\n",
    "    combined = layers.Dropout(0.5)(combined)\n",
    "    output = layers.Dense(1, activation=\"sigmoid\")(combined)\n",
    "    \n",
    "    return Model(inputs=[fmri_model.input, smri_model.input], outputs=output, name=\"Combined_Model\")\n",
    "\n",
    "tf.keras.mixed_precision.set_global_policy('float32')\n",
    "# Build and compile model\n",
    "model = build_combined_model()\n",
    "model.compile(optimizer=\"adam\", loss=\"binary_crossentropy\", metrics=[\"accuracy\"])\n",
    "model.summary()"
   ]
  },
  {
   "cell_type": "code",
   "execution_count": 16,
   "metadata": {
    "colab": {
     "base_uri": "https://localhost:8080/"
    },
    "id": "w5DQyVy7gobu",
    "outputId": "dcffe9f0-8f95-4f7b-b800-8496be868ac7"
   },
   "outputs": [
    {
     "data": {
      "text/plain": [
       "((100, 4, 4, 4, 5), (100, 10, 10, 10, 1), (100,))"
      ]
     },
     "execution_count": 16,
     "metadata": {},
     "output_type": "execute_result"
    }
   ],
   "source": [
    "func_data = np.random.rand(100, 4, 4, 4, 5).astype(np.float32)\n",
    "struct_data = np.random.rand(100, 10, 10, 10, 1).astype(np.float32)\n",
    "all_labels = np.random.randint(0, 2, size=(100,))\n",
    "func_data.shape, struct_data.shape, all_labels.shape"
   ]
  },
  {
   "cell_type": "code",
   "execution_count": 17,
   "metadata": {
    "id": "JAaAp4ICh_Zu"
   },
   "outputs": [],
   "source": [
    "from sklearn.model_selection import train_test_split"
   ]
  },
  {
   "cell_type": "code",
   "execution_count": 18,
   "metadata": {
    "colab": {
     "base_uri": "https://localhost:8080/"
    },
    "id": "5HemPPf5icUx",
    "outputId": "494eb634-c62c-4710-f3a0-7bbeb83046e3"
   },
   "outputs": [
    {
     "data": {
      "text/plain": [
       "((80, 4, 4, 4, 5),\n",
       " (20, 4, 4, 4, 5),\n",
       " (80, 10, 10, 10, 1),\n",
       " (20, 10, 10, 10, 1),\n",
       " (80,),\n",
       " (20,))"
      ]
     },
     "execution_count": 18,
     "metadata": {},
     "output_type": "execute_result"
    }
   ],
   "source": [
    "func_train, func_test, struct_train, struct_test, y_train, y_test = train_test_split(func_data, struct_data, all_labels, test_size=0.2, random_state=42)\n",
    "func_train.shape, func_test.shape, struct_train.shape, struct_test.shape, y_train.shape, y_test.shape"
   ]
  },
  {
   "cell_type": "code",
   "execution_count": 20,
   "metadata": {
    "colab": {
     "base_uri": "https://localhost:8080/",
     "height": 550
    },
    "id": "8_aofj-zhnaY",
    "outputId": "92860580-1622-4cef-de33-f8dc36a85992"
   },
   "outputs": [
    {
     "name": "stdout",
     "output_type": "stream",
     "text": [
      "Epoch 1/10\n",
      "WARNING:tensorflow:From c:\\Users\\maddi\\anaconda3\\Lib\\site-packages\\keras\\src\\utils\\tf_utils.py:492: The name tf.ragged.RaggedTensorValue is deprecated. Please use tf.compat.v1.ragged.RaggedTensorValue instead.\n",
      "\n",
      "WARNING:tensorflow:From c:\\Users\\maddi\\anaconda3\\Lib\\site-packages\\keras\\src\\engine\\base_layer_utils.py:384: The name tf.executing_eagerly_outside_functions is deprecated. Please use tf.compat.v1.executing_eagerly_outside_functions instead.\n",
      "\n",
      "10/10 [==============================] - 9s 151ms/step - loss: 0.6947 - accuracy: 0.5125 - val_loss: 0.6893 - val_accuracy: 0.5500\n",
      "Epoch 2/10\n",
      "10/10 [==============================] - 0s 50ms/step - loss: 0.6995 - accuracy: 0.5625 - val_loss: 0.6890 - val_accuracy: 0.5500\n",
      "Epoch 3/10\n",
      "10/10 [==============================] - 0s 43ms/step - loss: 0.6766 - accuracy: 0.5625 - val_loss: 0.6885 - val_accuracy: 0.5500\n",
      "Epoch 4/10\n",
      "10/10 [==============================] - 1s 57ms/step - loss: 0.6852 - accuracy: 0.5625 - val_loss: 0.6881 - val_accuracy: 0.5500\n",
      "Epoch 5/10\n",
      "10/10 [==============================] - 0s 33ms/step - loss: 0.6870 - accuracy: 0.5375 - val_loss: 0.6883 - val_accuracy: 0.5500\n",
      "Epoch 6/10\n",
      "10/10 [==============================] - 0s 46ms/step - loss: 0.6925 - accuracy: 0.5375 - val_loss: 0.6882 - val_accuracy: 0.5500\n",
      "Epoch 7/10\n",
      "10/10 [==============================] - 0s 40ms/step - loss: 0.6871 - accuracy: 0.5500 - val_loss: 0.6882 - val_accuracy: 0.5500\n",
      "Epoch 8/10\n",
      "10/10 [==============================] - 0s 47ms/step - loss: 0.6876 - accuracy: 0.5875 - val_loss: 0.6884 - val_accuracy: 0.5500\n",
      "Epoch 9/10\n",
      "10/10 [==============================] - 1s 51ms/step - loss: 0.6856 - accuracy: 0.5875 - val_loss: 0.6883 - val_accuracy: 0.5500\n",
      "Epoch 10/10\n",
      "10/10 [==============================] - 0s 28ms/step - loss: 0.6982 - accuracy: 0.5625 - val_loss: 0.6888 - val_accuracy: 0.5500\n"
     ]
    }
   ],
   "source": [
    "history = model.fit(\n",
    "    {\"fmri_input\": func_train, \"smri_input\": struct_train},  # Dictionary format for inputs\n",
    "    y_train,  # Output labels\n",
    "    batch_size=8,\n",
    "    epochs=10,\n",
    "    validation_data=(\n",
    "        {\"fmri_input\": func_test, \"smri_input\": struct_test},\n",
    "        y_test\n",
    "    ),\n",
    "    verbose=1\n",
    ")"
   ]
  },
  {
   "cell_type": "code",
   "execution_count": null,
   "metadata": {
    "id": "BOfh24h4iplQ"
   },
   "outputs": [],
   "source": []
  }
 ],
 "metadata": {
  "colab": {
   "provenance": []
  },
  "kernelspec": {
   "display_name": "Python 3",
   "name": "python3"
  },
  "language_info": {
   "codemirror_mode": {
    "name": "ipython",
    "version": 3
   },
   "file_extension": ".py",
   "mimetype": "text/x-python",
   "name": "python",
   "nbconvert_exporter": "python",
   "pygments_lexer": "ipython3",
   "version": "3.10.12"
  }
 },
 "nbformat": 4,
 "nbformat_minor": 0
}
