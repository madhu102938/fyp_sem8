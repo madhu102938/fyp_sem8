{
 "cells": [
  {
   "cell_type": "code",
   "execution_count": 21,
   "metadata": {
    "id": "y0TyzxthhRch"
   },
   "outputs": [],
   "source": [
    "import tensorflow as tf\n",
    "from tensorflow.keras.layers import Input, ConvLSTM2D, GlobalAveragePooling2D, Conv3D, Flatten, Dense, Dropout, LayerNormalization, GlobalAveragePooling3D, Concatenate, TimeDistributed, MaxPooling3D, AveragePooling3D, GlobalMaxPooling3D, LSTM, Lambda\n",
    "from tensorflow.keras.models import Model\n",
    "import numpy as np\n",
    "import pickle as pkl"
   ]
  },
  {
   "cell_type": "code",
   "execution_count": 22,
   "metadata": {},
   "outputs": [
    {
     "name": "stdout",
     "output_type": "stream",
     "text": [
      "[PhysicalDevice(name='/physical_device:CPU:0', device_type='CPU')]\n"
     ]
    }
   ],
   "source": [
    "devices = tf.config.list_physical_devices()\n",
    "print(devices)"
   ]
  },
  {
   "cell_type": "code",
   "execution_count": 3,
   "metadata": {},
   "outputs": [],
   "source": [
    "tf.config.set_visible_devices([], 'GPU')"
   ]
  },
  {
   "cell_type": "code",
   "execution_count": null,
   "metadata": {},
   "outputs": [],
   "source": [
    "# importing data\n",
    "def returning_pkl_file_data(path : str):\n",
    "    with open(path, 'rb') as f:\n",
    "        temp = pkl.load(f)\n",
    "    return temp\n",
    "\n",
    "# mci_func = returning_pkl_file_data(r\"feature_extraction/MCI_func_52_79_95_79_197.pkl\")\n",
    "mci_struct = returning_pkl_file_data(r'feature_extraction/MCI_struct_cat_52_169_205_169.pkl')\n",
    "# cn_func = returning_pkl_file_data(r'feature_extraction/CN_func_42_79_95_79_197.pkl')\n",
    "cn_struct = returning_pkl_file_data(r'feature_extraction/CN_struct_cat_42_169_205_169.pkl')"
   ]
  },
  {
   "cell_type": "code",
   "execution_count": null,
   "metadata": {},
   "outputs": [
    {
     "data": {
      "text/plain": [
       "(94, 79, 95, 79, 197)"
      ]
     },
     "execution_count": 5,
     "metadata": {},
     "output_type": "execute_result"
    }
   ],
   "source": [
    "# func_data = np.concat((mci_func, cn_func), axis=0, dtype=np.float32)\n",
    "# func_data.shape"
   ]
  },
  {
   "cell_type": "code",
   "execution_count": 6,
   "metadata": {},
   "outputs": [
    {
     "data": {
      "text/plain": [
       "(94, 169, 205, 169)"
      ]
     },
     "execution_count": 6,
     "metadata": {},
     "output_type": "execute_result"
    }
   ],
   "source": [
    "struct_data = np.concat((mci_struct, cn_struct), axis=0, dtype=np.float32)\n",
    "struct_data.shape"
   ]
  },
  {
   "cell_type": "code",
   "execution_count": null,
   "metadata": {},
   "outputs": [
    {
     "data": {
      "text/plain": [
       "(94,)"
      ]
     },
     "execution_count": 7,
     "metadata": {},
     "output_type": "execute_result"
    }
   ],
   "source": [
    "all_labels = np.concat((np.zeros((len(mci_struct),)), np.ones((len(cn_struct),))))\n",
    "all_labels.shape"
   ]
  },
  {
   "cell_type": "code",
   "execution_count": null,
   "metadata": {},
   "outputs": [
    {
     "data": {
      "text/plain": [
       "((94, 79, 95, 79, 197), (94, 169, 205, 169, 1))"
      ]
     },
     "execution_count": 8,
     "metadata": {},
     "output_type": "execute_result"
    }
   ],
   "source": [
    "# func_data = np.expand_dims(func_data, axis=len(func_data.shape))\n",
    "struct_data = np.expand_dims(struct_data, axis=len(struct_data.shape))\n",
    "\n",
    "struct_data.shape, #func_data.shape"
   ]
  },
  {
   "cell_type": "code",
   "execution_count": null,
   "metadata": {},
   "outputs": [
    {
     "data": {
      "text/plain": [
       "((75, 79, 95, 79, 197),\n",
       " (19, 79, 95, 79, 197),\n",
       " (75, 169, 205, 169, 1),\n",
       " (19, 169, 205, 169, 1),\n",
       " (75,),\n",
       " (19,))"
      ]
     },
     "execution_count": 9,
     "metadata": {},
     "output_type": "execute_result"
    }
   ],
   "source": [
    "from sklearn.model_selection import train_test_split\n",
    "\n",
    "struct_train, struct_test, y_train, y_test = train_test_split(\n",
    "    struct_data, all_labels, test_size=0.2, random_state=42\n",
    ")\n",
    "\n",
    "struct_train.shape, struct_test.shape, y_train.shape, y_test.shape"
   ]
  },
  {
   "cell_type": "code",
   "execution_count": 28,
   "metadata": {},
   "outputs": [
    {
     "name": "stdout",
     "output_type": "stream",
     "text": [
      "Model: \"sMRI_Model\"\n",
      "_________________________________________________________________\n",
      " Layer (type)                Output Shape              Param #   \n",
      "=================================================================\n",
      " smri_input (InputLayer)     [(None, 10, 10, 10, 1)]   0         \n",
      "                                                                 \n",
      " conv3d_9 (Conv3D)           (None, 10, 10, 10, 32)    896       \n",
      "                                                                 \n",
      " max_pooling3d_6 (MaxPoolin  (None, 5, 5, 5, 32)       0         \n",
      " g3D)                                                            \n",
      "                                                                 \n",
      " conv3d_10 (Conv3D)          (None, 5, 5, 5, 64)       55360     \n",
      "                                                                 \n",
      " max_pooling3d_7 (MaxPoolin  (None, 2, 2, 2, 64)       0         \n",
      " g3D)                                                            \n",
      "                                                                 \n",
      " conv3d_11 (Conv3D)          (None, 2, 2, 2, 128)      221312    \n",
      "                                                                 \n",
      " max_pooling3d_8 (MaxPoolin  (None, 1, 1, 1, 128)      0         \n",
      " g3D)                                                            \n",
      "                                                                 \n",
      " global_average_pooling3d_4  (None, 128)               0         \n",
      "  (GlobalAveragePooling3D)                                       \n",
      "                                                                 \n",
      " dense_39 (Dense)            (None, 256)               33024     \n",
      "                                                                 \n",
      " dropout_22 (Dropout)        (None, 256)               0         \n",
      "                                                                 \n",
      " dense_40 (Dense)            (None, 128)               32896     \n",
      "                                                                 \n",
      " dropout_23 (Dropout)        (None, 128)               0         \n",
      "                                                                 \n",
      " dense_41 (Dense)            (None, 1)                 129       \n",
      "                                                                 \n",
      "=================================================================\n",
      "Total params: 343617 (1.31 MB)\n",
      "Trainable params: 343617 (1.31 MB)\n",
      "Non-trainable params: 0 (0.00 Byte)\n",
      "_________________________________________________________________\n"
     ]
    }
   ],
   "source": [
    "def build_smri_model(smri_shape=(struct_data.shape[1:])):    \n",
    "    # sMRI model (3D CNN)\n",
    "    smri_input = layers.Input(shape=smri_shape, name=\"smri_input\", dtype=tf.float32)\n",
    "    y = Conv3D(32, 3, activation=\"relu\", padding=\"same\")(smri_input)\n",
    "    y = MaxPooling3D(2)(y)\n",
    "    y = Conv3D(64, 3, activation=\"relu\", padding=\"same\")(y)\n",
    "    y = MaxPooling3D(2)(y)\n",
    "    y = Conv3D(128, 3, activation=\"relu\", padding=\"same\")(y)\n",
    "    y = MaxPooling3D(2)(y)\n",
    "    y = GlobalAveragePooling3D()(y)\n",
    "    y = Dense(256, activation=\"relu\")(y)\n",
    "    y = Dropout(0.5)(y)\n",
    "    y = Dense(128, activation=\"relu\")(y)\n",
    "    y = Dropout(0.5)(y)\n",
    "    output = Dense(1, activation=\"sigmoid\")(y)\n",
    "    return Model(inputs=smri_input, outputs=output, name=\"sMRI_Model\")\n",
    "    \n",
    "tf.keras.mixed_precision.set_global_policy('float32')\n",
    "# Build and compile model\n",
    "model = build_smri_model()\n",
    "model.compile(optimizer=\"adam\", loss=\"binary_crossentropy\", metrics=[\"accuracy\"])\n",
    "model.summary()"
   ]
  },
  {
   "cell_type": "code",
   "execution_count": 23,
   "metadata": {
    "colab": {
     "base_uri": "https://localhost:8080/"
    },
    "id": "w5DQyVy7gobu",
    "outputId": "dcffe9f0-8f95-4f7b-b800-8496be868ac7"
   },
   "outputs": [
    {
     "data": {
      "text/plain": [
       "((100, 10, 10, 10, 1), (100,))"
      ]
     },
     "execution_count": 23,
     "metadata": {},
     "output_type": "execute_result"
    }
   ],
   "source": [
    "# func_data = np.random.rand(100, 4, 4, 4, 5).astype(np.float32)\n",
    "struct_data = np.random.rand(100, 10, 10, 10, 1).astype(np.float32)\n",
    "all_labels = np.random.randint(0, 2, size=(100,))\n",
    "struct_data.shape, all_labels.shape#, func_data.shape "
   ]
  },
  {
   "cell_type": "code",
   "execution_count": 24,
   "metadata": {
    "id": "JAaAp4ICh_Zu"
   },
   "outputs": [],
   "source": [
    "from sklearn.model_selection import train_test_split"
   ]
  },
  {
   "cell_type": "code",
   "execution_count": 25,
   "metadata": {
    "colab": {
     "base_uri": "https://localhost:8080/"
    },
    "id": "5HemPPf5icUx",
    "outputId": "494eb634-c62c-4710-f3a0-7bbeb83046e3"
   },
   "outputs": [
    {
     "data": {
      "text/plain": [
       "((80, 10, 10, 10, 1), (20, 10, 10, 10, 1), (80,), (20,))"
      ]
     },
     "execution_count": 25,
     "metadata": {},
     "output_type": "execute_result"
    }
   ],
   "source": [
    "struct_train, struct_test, y_train, y_test = train_test_split(struct_data, all_labels, test_size=0.2, random_state=42)\n",
    "struct_train.shape, struct_test.shape, y_train.shape, y_test.shape"
   ]
  },
  {
   "cell_type": "code",
   "execution_count": 30,
   "metadata": {
    "colab": {
     "base_uri": "https://localhost:8080/",
     "height": 550
    },
    "id": "8_aofj-zhnaY",
    "outputId": "92860580-1622-4cef-de33-f8dc36a85992"
   },
   "outputs": [
    {
     "name": "stdout",
     "output_type": "stream",
     "text": [
      "Epoch 1/10\n",
      "10/10 [==============================] - 1s 37ms/step - loss: 0.6931 - accuracy: 0.5375 - val_loss: 0.6943 - val_accuracy: 0.5000\n",
      "Epoch 2/10\n",
      "10/10 [==============================] - 0s 16ms/step - loss: 0.6893 - accuracy: 0.5750 - val_loss: 0.6950 - val_accuracy: 0.5000\n",
      "Epoch 3/10\n",
      "10/10 [==============================] - 0s 15ms/step - loss: 0.6849 - accuracy: 0.5500 - val_loss: 0.6971 - val_accuracy: 0.5000\n",
      "Epoch 4/10\n",
      "10/10 [==============================] - 0s 15ms/step - loss: 0.6828 - accuracy: 0.5375 - val_loss: 0.6961 - val_accuracy: 0.5000\n",
      "Epoch 5/10\n",
      "10/10 [==============================] - 0s 16ms/step - loss: 0.6759 - accuracy: 0.5625 - val_loss: 0.7034 - val_accuracy: 0.5000\n",
      "Epoch 6/10\n",
      "10/10 [==============================] - 0s 15ms/step - loss: 0.6529 - accuracy: 0.5500 - val_loss: 0.7001 - val_accuracy: 0.5000\n",
      "Epoch 7/10\n",
      "10/10 [==============================] - 0s 16ms/step - loss: 0.6024 - accuracy: 0.5750 - val_loss: 0.7899 - val_accuracy: 0.5000\n",
      "Epoch 8/10\n",
      "10/10 [==============================] - 0s 16ms/step - loss: 0.5472 - accuracy: 0.7000 - val_loss: 0.6947 - val_accuracy: 0.5000\n",
      "Epoch 9/10\n",
      "10/10 [==============================] - 0s 15ms/step - loss: 0.3938 - accuracy: 0.9250 - val_loss: 0.7690 - val_accuracy: 0.5000\n",
      "Epoch 10/10\n",
      "10/10 [==============================] - 0s 16ms/step - loss: 0.1734 - accuracy: 0.9875 - val_loss: 0.8279 - val_accuracy: 0.6000\n"
     ]
    }
   ],
   "source": [
    "history = model.fit(\n",
    "    {\"smri_input\": struct_train},  # Dictionary format for inputs\n",
    "    y_train,  # Output labels\n",
    "    batch_size=8,\n",
    "    epochs=10,\n",
    "    validation_data=(\n",
    "        {\"smri_input\": struct_test},\n",
    "        y_test\n",
    "    ),\n",
    "    verbose=1\n",
    ")"
   ]
  },
  {
   "cell_type": "code",
   "execution_count": null,
   "metadata": {
    "id": "BOfh24h4iplQ"
   },
   "outputs": [],
   "source": []
  }
 ],
 "metadata": {
  "colab": {
   "provenance": []
  },
  "kernelspec": {
   "display_name": "Python 3",
   "name": "python3"
  },
  "language_info": {
   "codemirror_mode": {
    "name": "ipython",
    "version": 3
   },
   "file_extension": ".py",
   "mimetype": "text/x-python",
   "name": "python",
   "nbconvert_exporter": "python",
   "pygments_lexer": "ipython3",
   "version": "3.10.12"
  }
 },
 "nbformat": 4,
 "nbformat_minor": 0
}
