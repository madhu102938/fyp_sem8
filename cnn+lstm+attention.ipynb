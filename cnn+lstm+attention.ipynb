{
 "cells": [
  {
   "cell_type": "code",
   "execution_count": 1,
   "metadata": {
    "id": "y0TyzxthhRch"
   },
   "outputs": [
    {
     "name": "stderr",
     "output_type": "stream",
     "text": [
      "2025-03-07 21:56:20.005430: I tensorflow/core/util/port.cc:153] oneDNN custom operations are on. You may see slightly different numerical results due to floating-point round-off errors from different computation orders. To turn them off, set the environment variable `TF_ENABLE_ONEDNN_OPTS=0`.\n",
      "2025-03-07 21:56:20.024343: E external/local_xla/xla/stream_executor/cuda/cuda_fft.cc:477] Unable to register cuFFT factory: Attempting to register factory for plugin cuFFT when one has already been registered\n",
      "WARNING: All log messages before absl::InitializeLog() is called are written to STDERR\n",
      "E0000 00:00:1741364780.046725 4136096 cuda_dnn.cc:8310] Unable to register cuDNN factory: Attempting to register factory for plugin cuDNN when one has already been registered\n",
      "E0000 00:00:1741364780.053569 4136096 cuda_blas.cc:1418] Unable to register cuBLAS factory: Attempting to register factory for plugin cuBLAS when one has already been registered\n",
      "2025-03-07 21:56:20.078534: I tensorflow/core/platform/cpu_feature_guard.cc:210] This TensorFlow binary is optimized to use available CPU instructions in performance-critical operations.\n",
      "To enable the following instructions: AVX2 AVX512F AVX512_VNNI FMA, in other operations, rebuild TensorFlow with the appropriate compiler flags.\n"
     ]
    }
   ],
   "source": [
    "import tensorflow as tf\n",
    "from tensorflow.keras.layers import Input, ConvLSTM3D, Conv3D, Flatten, Dense, Dropout, BatchNormalization, GlobalAveragePooling3D, Concatenate, TimeDistributed, MaxPooling3D, AveragePooling3D, GlobalMaxPooling3D, LSTM, Lambda\n",
    "from tensorflow.keras.models import Model\n",
    "import numpy as np\n",
    "import pickle as pkl"
   ]
  },
  {
   "cell_type": "code",
   "execution_count": 2,
   "metadata": {},
   "outputs": [
    {
     "name": "stdout",
     "output_type": "stream",
     "text": [
      "[PhysicalDevice(name='/physical_device:CPU:0', device_type='CPU'), PhysicalDevice(name='/physical_device:GPU:0', device_type='GPU')]\n"
     ]
    }
   ],
   "source": [
    "devices = tf.config.list_physical_devices()\n",
    "print(devices)"
   ]
  },
  {
   "cell_type": "code",
   "execution_count": 3,
   "metadata": {},
   "outputs": [],
   "source": [
    "tf.config.set_visible_devices([], 'GPU')"
   ]
  },
  {
   "cell_type": "code",
   "execution_count": 4,
   "metadata": {},
   "outputs": [],
   "source": [
    "# importing data\n",
    "def returning_pkl_file_data(path : str):\n",
    "    with open(path, 'rb') as f:\n",
    "        temp = pkl.load(f)\n",
    "    return temp\n",
    "\n",
    "mci_func = returning_pkl_file_data(r\"feature_extraction/MCI_func_52_79_95_79_197.pkl\")\n",
    "mci_struct = returning_pkl_file_data(r'feature_extraction/MCI_struct_cat_52_169_205_169.pkl')\n",
    "cn_func = returning_pkl_file_data(r'feature_extraction/CN_func_42_79_95_79_197.pkl')\n",
    "cn_struct = returning_pkl_file_data(r'feature_extraction/CN_struct_cat_42_169_205_169.pkl')"
   ]
  },
  {
   "cell_type": "code",
   "execution_count": 5,
   "metadata": {},
   "outputs": [
    {
     "data": {
      "text/plain": [
       "(94, 79, 95, 79, 197)"
      ]
     },
     "execution_count": 5,
     "metadata": {},
     "output_type": "execute_result"
    }
   ],
   "source": [
    "func_data = np.concat((mci_func, cn_func), axis=0)\n",
    "func_data.shape"
   ]
  },
  {
   "cell_type": "code",
   "execution_count": 6,
   "metadata": {},
   "outputs": [
    {
     "data": {
      "text/plain": [
       "(94, 169, 205, 169)"
      ]
     },
     "execution_count": 6,
     "metadata": {},
     "output_type": "execute_result"
    }
   ],
   "source": [
    "struct_data = np.concat((mci_struct, cn_struct), axis=0)\n",
    "struct_data.shape"
   ]
  },
  {
   "cell_type": "code",
   "execution_count": 7,
   "metadata": {},
   "outputs": [
    {
     "data": {
      "text/plain": [
       "(94,)"
      ]
     },
     "execution_count": 7,
     "metadata": {},
     "output_type": "execute_result"
    }
   ],
   "source": [
    "all_labels = np.concat((np.zeros((len(mci_func),)), np.ones((len(cn_func),))))\n",
    "all_labels.shape"
   ]
  },
  {
   "cell_type": "code",
   "execution_count": 8,
   "metadata": {},
   "outputs": [
    {
     "data": {
      "text/plain": [
       "((94, 79, 95, 79, 197, 1), (94, 169, 205, 169, 1))"
      ]
     },
     "execution_count": 8,
     "metadata": {},
     "output_type": "execute_result"
    }
   ],
   "source": [
    "func_data = np.expand_dims(func_data, axis=len(func_data.shape))\n",
    "struct_data = np.expand_dims(struct_data, axis=len(struct_data.shape))\n",
    "\n",
    "func_data.shape, struct_data.shape"
   ]
  },
  {
   "cell_type": "code",
   "execution_count": 9,
   "metadata": {},
   "outputs": [
    {
     "data": {
      "text/plain": [
       "((75, 79, 95, 79, 197, 1),\n",
       " (19, 79, 95, 79, 197, 1),\n",
       " (75, 169, 205, 169, 1),\n",
       " (19, 169, 205, 169, 1),\n",
       " (75,),\n",
       " (19,))"
      ]
     },
     "execution_count": 9,
     "metadata": {},
     "output_type": "execute_result"
    }
   ],
   "source": [
    "from sklearn.model_selection import train_test_split\n",
    "\n",
    "func_train, func_test, struct_train, struct_test, y_train, y_test = train_test_split(\n",
    "    func_data, struct_data, all_labels, test_size=0.2, random_state=42\n",
    ")\n",
    "\n",
    "func_train.shape, func_test.shape, struct_train.shape, struct_test.shape, y_train.shape, y_test.shape"
   ]
  },
  {
   "cell_type": "code",
   "execution_count": 10,
   "metadata": {
    "colab": {
     "base_uri": "https://localhost:8080/",
     "height": 863
    },
    "id": "qc5Wcgt0et5F",
    "outputId": "23ec5b44-23f7-4990-e140-155fd7a4feb9"
   },
   "outputs": [
    {
     "data": {
      "text/html": [
       "<pre style=\"white-space:pre;overflow-x:auto;line-height:normal;font-family:Menlo,'DejaVu Sans Mono',consolas,'Courier New',monospace\"><span style=\"font-weight: bold\">Model: \"Combined_Model\"</span>\n",
       "</pre>\n"
      ],
      "text/plain": [
       "\u001b[1mModel: \"Combined_Model\"\u001b[0m\n"
      ]
     },
     "metadata": {},
     "output_type": "display_data"
    },
    {
     "data": {
      "text/html": [
       "<pre style=\"white-space:pre;overflow-x:auto;line-height:normal;font-family:Menlo,'DejaVu Sans Mono',consolas,'Courier New',monospace\">┏━━━━━━━━━━━━━━━━━━━━━┳━━━━━━━━━━━━━━━━━━━┳━━━━━━━━━━━━┳━━━━━━━━━━━━━━━━━━━┓\n",
       "┃<span style=\"font-weight: bold\"> Layer (type)        </span>┃<span style=\"font-weight: bold\"> Output Shape      </span>┃<span style=\"font-weight: bold\">    Param # </span>┃<span style=\"font-weight: bold\"> Connected to      </span>┃\n",
       "┡━━━━━━━━━━━━━━━━━━━━━╇━━━━━━━━━━━━━━━━━━━╇━━━━━━━━━━━━╇━━━━━━━━━━━━━━━━━━━┩\n",
       "│ smri_input          │ (<span style=\"color: #00d7ff; text-decoration-color: #00d7ff\">None</span>, <span style=\"color: #00af00; text-decoration-color: #00af00\">169</span>, <span style=\"color: #00af00; text-decoration-color: #00af00\">205</span>,  │          <span style=\"color: #00af00; text-decoration-color: #00af00\">0</span> │ -                 │\n",
       "│ (<span style=\"color: #0087ff; text-decoration-color: #0087ff\">InputLayer</span>)        │ <span style=\"color: #00af00; text-decoration-color: #00af00\">169</span>, <span style=\"color: #00af00; text-decoration-color: #00af00\">1</span>)           │            │                   │\n",
       "├─────────────────────┼───────────────────┼────────────┼───────────────────┤\n",
       "│ fmri_input          │ (<span style=\"color: #00d7ff; text-decoration-color: #00d7ff\">None</span>, <span style=\"color: #00af00; text-decoration-color: #00af00\">79</span>, <span style=\"color: #00af00; text-decoration-color: #00af00\">95</span>,    │          <span style=\"color: #00af00; text-decoration-color: #00af00\">0</span> │ -                 │\n",
       "│ (<span style=\"color: #0087ff; text-decoration-color: #0087ff\">InputLayer</span>)        │ <span style=\"color: #00af00; text-decoration-color: #00af00\">79</span>, <span style=\"color: #00af00; text-decoration-color: #00af00\">197</span>, <span style=\"color: #00af00; text-decoration-color: #00af00\">1</span>)       │            │                   │\n",
       "├─────────────────────┼───────────────────┼────────────┼───────────────────┤\n",
       "│ conv3d_2 (<span style=\"color: #0087ff; text-decoration-color: #0087ff\">Conv3D</span>)   │ (<span style=\"color: #00d7ff; text-decoration-color: #00d7ff\">None</span>, <span style=\"color: #00af00; text-decoration-color: #00af00\">167</span>, <span style=\"color: #00af00; text-decoration-color: #00af00\">203</span>,  │        <span style=\"color: #00af00; text-decoration-color: #00af00\">896</span> │ smri_input[<span style=\"color: #00af00; text-decoration-color: #00af00\">0</span>][<span style=\"color: #00af00; text-decoration-color: #00af00\">0</span>]  │\n",
       "│                     │ <span style=\"color: #00af00; text-decoration-color: #00af00\">167</span>, <span style=\"color: #00af00; text-decoration-color: #00af00\">32</span>)          │            │                   │\n",
       "├─────────────────────┼───────────────────┼────────────┼───────────────────┤\n",
       "│ time_distributed    │ (<span style=\"color: #00d7ff; text-decoration-color: #00d7ff\">None</span>, <span style=\"color: #00af00; text-decoration-color: #00af00\">79</span>, <span style=\"color: #00af00; text-decoration-color: #00af00\">95</span>,    │        <span style=\"color: #00af00; text-decoration-color: #00af00\">896</span> │ fmri_input[<span style=\"color: #00af00; text-decoration-color: #00af00\">0</span>][<span style=\"color: #00af00; text-decoration-color: #00af00\">0</span>]  │\n",
       "│ (<span style=\"color: #0087ff; text-decoration-color: #0087ff\">TimeDistributed</span>)   │ <span style=\"color: #00af00; text-decoration-color: #00af00\">79</span>, <span style=\"color: #00af00; text-decoration-color: #00af00\">197</span>, <span style=\"color: #00af00; text-decoration-color: #00af00\">32</span>)      │            │                   │\n",
       "├─────────────────────┼───────────────────┼────────────┼───────────────────┤\n",
       "│ batch_normalization │ (<span style=\"color: #00d7ff; text-decoration-color: #00d7ff\">None</span>, <span style=\"color: #00af00; text-decoration-color: #00af00\">167</span>, <span style=\"color: #00af00; text-decoration-color: #00af00\">203</span>,  │        <span style=\"color: #00af00; text-decoration-color: #00af00\">128</span> │ conv3d_2[<span style=\"color: #00af00; text-decoration-color: #00af00\">0</span>][<span style=\"color: #00af00; text-decoration-color: #00af00\">0</span>]    │\n",
       "│ (<span style=\"color: #0087ff; text-decoration-color: #0087ff\">BatchNormalizatio…</span> │ <span style=\"color: #00af00; text-decoration-color: #00af00\">167</span>, <span style=\"color: #00af00; text-decoration-color: #00af00\">32</span>)          │            │                   │\n",
       "├─────────────────────┼───────────────────┼────────────┼───────────────────┤\n",
       "│ time_distributed_1  │ (<span style=\"color: #00d7ff; text-decoration-color: #00d7ff\">None</span>, <span style=\"color: #00af00; text-decoration-color: #00af00\">79</span>, <span style=\"color: #00af00; text-decoration-color: #00af00\">47</span>,    │          <span style=\"color: #00af00; text-decoration-color: #00af00\">0</span> │ time_distributed… │\n",
       "│ (<span style=\"color: #0087ff; text-decoration-color: #0087ff\">TimeDistributed</span>)   │ <span style=\"color: #00af00; text-decoration-color: #00af00\">39</span>, <span style=\"color: #00af00; text-decoration-color: #00af00\">98</span>, <span style=\"color: #00af00; text-decoration-color: #00af00\">32</span>)       │            │                   │\n",
       "├─────────────────────┼───────────────────┼────────────┼───────────────────┤\n",
       "│ conv3d_3 (<span style=\"color: #0087ff; text-decoration-color: #0087ff\">Conv3D</span>)   │ (<span style=\"color: #00d7ff; text-decoration-color: #00d7ff\">None</span>, <span style=\"color: #00af00; text-decoration-color: #00af00\">165</span>, <span style=\"color: #00af00; text-decoration-color: #00af00\">201</span>,  │     <span style=\"color: #00af00; text-decoration-color: #00af00\">27,680</span> │ batch_normalizat… │\n",
       "│                     │ <span style=\"color: #00af00; text-decoration-color: #00af00\">165</span>, <span style=\"color: #00af00; text-decoration-color: #00af00\">32</span>)          │            │                   │\n",
       "├─────────────────────┼───────────────────┼────────────┼───────────────────┤\n",
       "│ time_distributed_2  │ (<span style=\"color: #00d7ff; text-decoration-color: #00d7ff\">None</span>, <span style=\"color: #00af00; text-decoration-color: #00af00\">79</span>, <span style=\"color: #00af00; text-decoration-color: #00af00\">47</span>,    │     <span style=\"color: #00af00; text-decoration-color: #00af00\">55,360</span> │ time_distributed… │\n",
       "│ (<span style=\"color: #0087ff; text-decoration-color: #0087ff\">TimeDistributed</span>)   │ <span style=\"color: #00af00; text-decoration-color: #00af00\">39</span>, <span style=\"color: #00af00; text-decoration-color: #00af00\">98</span>, <span style=\"color: #00af00; text-decoration-color: #00af00\">64</span>)       │            │                   │\n",
       "├─────────────────────┼───────────────────┼────────────┼───────────────────┤\n",
       "│ batch_normalizatio… │ (<span style=\"color: #00d7ff; text-decoration-color: #00d7ff\">None</span>, <span style=\"color: #00af00; text-decoration-color: #00af00\">165</span>, <span style=\"color: #00af00; text-decoration-color: #00af00\">201</span>,  │        <span style=\"color: #00af00; text-decoration-color: #00af00\">128</span> │ conv3d_3[<span style=\"color: #00af00; text-decoration-color: #00af00\">0</span>][<span style=\"color: #00af00; text-decoration-color: #00af00\">0</span>]    │\n",
       "│ (<span style=\"color: #0087ff; text-decoration-color: #0087ff\">BatchNormalizatio…</span> │ <span style=\"color: #00af00; text-decoration-color: #00af00\">165</span>, <span style=\"color: #00af00; text-decoration-color: #00af00\">32</span>)          │            │                   │\n",
       "├─────────────────────┼───────────────────┼────────────┼───────────────────┤\n",
       "│ time_distributed_3  │ (<span style=\"color: #00d7ff; text-decoration-color: #00d7ff\">None</span>, <span style=\"color: #00af00; text-decoration-color: #00af00\">79</span>, <span style=\"color: #00af00; text-decoration-color: #00af00\">64</span>)    │          <span style=\"color: #00af00; text-decoration-color: #00af00\">0</span> │ time_distributed… │\n",
       "│ (<span style=\"color: #0087ff; text-decoration-color: #0087ff\">TimeDistributed</span>)   │                   │            │                   │\n",
       "├─────────────────────┼───────────────────┼────────────┼───────────────────┤\n",
       "│ global_average_poo… │ (<span style=\"color: #00d7ff; text-decoration-color: #00d7ff\">None</span>, <span style=\"color: #00af00; text-decoration-color: #00af00\">32</span>)        │          <span style=\"color: #00af00; text-decoration-color: #00af00\">0</span> │ batch_normalizat… │\n",
       "│ (<span style=\"color: #0087ff; text-decoration-color: #0087ff\">GlobalAveragePool…</span> │                   │            │                   │\n",
       "├─────────────────────┼───────────────────┼────────────┼───────────────────┤\n",
       "│ lstm (<span style=\"color: #0087ff; text-decoration-color: #0087ff\">LSTM</span>)         │ (<span style=\"color: #00d7ff; text-decoration-color: #00d7ff\">None</span>, <span style=\"color: #00af00; text-decoration-color: #00af00\">128</span>)       │     <span style=\"color: #00af00; text-decoration-color: #00af00\">98,816</span> │ time_distributed… │\n",
       "├─────────────────────┼───────────────────┼────────────┼───────────────────┤\n",
       "│ dense (<span style=\"color: #0087ff; text-decoration-color: #0087ff\">Dense</span>)       │ (<span style=\"color: #00d7ff; text-decoration-color: #00d7ff\">None</span>, <span style=\"color: #00af00; text-decoration-color: #00af00\">128</span>)       │      <span style=\"color: #00af00; text-decoration-color: #00af00\">4,224</span> │ global_average_p… │\n",
       "├─────────────────────┼───────────────────┼────────────┼───────────────────┤\n",
       "│ concatenate         │ (<span style=\"color: #00d7ff; text-decoration-color: #00d7ff\">None</span>, <span style=\"color: #00af00; text-decoration-color: #00af00\">256</span>)       │          <span style=\"color: #00af00; text-decoration-color: #00af00\">0</span> │ lstm[<span style=\"color: #00af00; text-decoration-color: #00af00\">0</span>][<span style=\"color: #00af00; text-decoration-color: #00af00\">0</span>],       │\n",
       "│ (<span style=\"color: #0087ff; text-decoration-color: #0087ff\">Concatenate</span>)       │                   │            │ dense[<span style=\"color: #00af00; text-decoration-color: #00af00\">0</span>][<span style=\"color: #00af00; text-decoration-color: #00af00\">0</span>]       │\n",
       "├─────────────────────┼───────────────────┼────────────┼───────────────────┤\n",
       "│ dense_1 (<span style=\"color: #0087ff; text-decoration-color: #0087ff\">Dense</span>)     │ (<span style=\"color: #00d7ff; text-decoration-color: #00d7ff\">None</span>, <span style=\"color: #00af00; text-decoration-color: #00af00\">128</span>)       │     <span style=\"color: #00af00; text-decoration-color: #00af00\">32,896</span> │ concatenate[<span style=\"color: #00af00; text-decoration-color: #00af00\">0</span>][<span style=\"color: #00af00; text-decoration-color: #00af00\">0</span>] │\n",
       "├─────────────────────┼───────────────────┼────────────┼───────────────────┤\n",
       "│ dropout (<span style=\"color: #0087ff; text-decoration-color: #0087ff\">Dropout</span>)   │ (<span style=\"color: #00d7ff; text-decoration-color: #00d7ff\">None</span>, <span style=\"color: #00af00; text-decoration-color: #00af00\">128</span>)       │          <span style=\"color: #00af00; text-decoration-color: #00af00\">0</span> │ dense_1[<span style=\"color: #00af00; text-decoration-color: #00af00\">0</span>][<span style=\"color: #00af00; text-decoration-color: #00af00\">0</span>]     │\n",
       "├─────────────────────┼───────────────────┼────────────┼───────────────────┤\n",
       "│ dense_2 (<span style=\"color: #0087ff; text-decoration-color: #0087ff\">Dense</span>)     │ (<span style=\"color: #00d7ff; text-decoration-color: #00d7ff\">None</span>, <span style=\"color: #00af00; text-decoration-color: #00af00\">1</span>)         │        <span style=\"color: #00af00; text-decoration-color: #00af00\">129</span> │ dropout[<span style=\"color: #00af00; text-decoration-color: #00af00\">0</span>][<span style=\"color: #00af00; text-decoration-color: #00af00\">0</span>]     │\n",
       "└─────────────────────┴───────────────────┴────────────┴───────────────────┘\n",
       "</pre>\n"
      ],
      "text/plain": [
       "┏━━━━━━━━━━━━━━━━━━━━━┳━━━━━━━━━━━━━━━━━━━┳━━━━━━━━━━━━┳━━━━━━━━━━━━━━━━━━━┓\n",
       "┃\u001b[1m \u001b[0m\u001b[1mLayer (type)       \u001b[0m\u001b[1m \u001b[0m┃\u001b[1m \u001b[0m\u001b[1mOutput Shape     \u001b[0m\u001b[1m \u001b[0m┃\u001b[1m \u001b[0m\u001b[1m   Param #\u001b[0m\u001b[1m \u001b[0m┃\u001b[1m \u001b[0m\u001b[1mConnected to     \u001b[0m\u001b[1m \u001b[0m┃\n",
       "┡━━━━━━━━━━━━━━━━━━━━━╇━━━━━━━━━━━━━━━━━━━╇━━━━━━━━━━━━╇━━━━━━━━━━━━━━━━━━━┩\n",
       "│ smri_input          │ (\u001b[38;5;45mNone\u001b[0m, \u001b[38;5;34m169\u001b[0m, \u001b[38;5;34m205\u001b[0m,  │          \u001b[38;5;34m0\u001b[0m │ -                 │\n",
       "│ (\u001b[38;5;33mInputLayer\u001b[0m)        │ \u001b[38;5;34m169\u001b[0m, \u001b[38;5;34m1\u001b[0m)           │            │                   │\n",
       "├─────────────────────┼───────────────────┼────────────┼───────────────────┤\n",
       "│ fmri_input          │ (\u001b[38;5;45mNone\u001b[0m, \u001b[38;5;34m79\u001b[0m, \u001b[38;5;34m95\u001b[0m,    │          \u001b[38;5;34m0\u001b[0m │ -                 │\n",
       "│ (\u001b[38;5;33mInputLayer\u001b[0m)        │ \u001b[38;5;34m79\u001b[0m, \u001b[38;5;34m197\u001b[0m, \u001b[38;5;34m1\u001b[0m)       │            │                   │\n",
       "├─────────────────────┼───────────────────┼────────────┼───────────────────┤\n",
       "│ conv3d_2 (\u001b[38;5;33mConv3D\u001b[0m)   │ (\u001b[38;5;45mNone\u001b[0m, \u001b[38;5;34m167\u001b[0m, \u001b[38;5;34m203\u001b[0m,  │        \u001b[38;5;34m896\u001b[0m │ smri_input[\u001b[38;5;34m0\u001b[0m][\u001b[38;5;34m0\u001b[0m]  │\n",
       "│                     │ \u001b[38;5;34m167\u001b[0m, \u001b[38;5;34m32\u001b[0m)          │            │                   │\n",
       "├─────────────────────┼───────────────────┼────────────┼───────────────────┤\n",
       "│ time_distributed    │ (\u001b[38;5;45mNone\u001b[0m, \u001b[38;5;34m79\u001b[0m, \u001b[38;5;34m95\u001b[0m,    │        \u001b[38;5;34m896\u001b[0m │ fmri_input[\u001b[38;5;34m0\u001b[0m][\u001b[38;5;34m0\u001b[0m]  │\n",
       "│ (\u001b[38;5;33mTimeDistributed\u001b[0m)   │ \u001b[38;5;34m79\u001b[0m, \u001b[38;5;34m197\u001b[0m, \u001b[38;5;34m32\u001b[0m)      │            │                   │\n",
       "├─────────────────────┼───────────────────┼────────────┼───────────────────┤\n",
       "│ batch_normalization │ (\u001b[38;5;45mNone\u001b[0m, \u001b[38;5;34m167\u001b[0m, \u001b[38;5;34m203\u001b[0m,  │        \u001b[38;5;34m128\u001b[0m │ conv3d_2[\u001b[38;5;34m0\u001b[0m][\u001b[38;5;34m0\u001b[0m]    │\n",
       "│ (\u001b[38;5;33mBatchNormalizatio…\u001b[0m │ \u001b[38;5;34m167\u001b[0m, \u001b[38;5;34m32\u001b[0m)          │            │                   │\n",
       "├─────────────────────┼───────────────────┼────────────┼───────────────────┤\n",
       "│ time_distributed_1  │ (\u001b[38;5;45mNone\u001b[0m, \u001b[38;5;34m79\u001b[0m, \u001b[38;5;34m47\u001b[0m,    │          \u001b[38;5;34m0\u001b[0m │ time_distributed… │\n",
       "│ (\u001b[38;5;33mTimeDistributed\u001b[0m)   │ \u001b[38;5;34m39\u001b[0m, \u001b[38;5;34m98\u001b[0m, \u001b[38;5;34m32\u001b[0m)       │            │                   │\n",
       "├─────────────────────┼───────────────────┼────────────┼───────────────────┤\n",
       "│ conv3d_3 (\u001b[38;5;33mConv3D\u001b[0m)   │ (\u001b[38;5;45mNone\u001b[0m, \u001b[38;5;34m165\u001b[0m, \u001b[38;5;34m201\u001b[0m,  │     \u001b[38;5;34m27,680\u001b[0m │ batch_normalizat… │\n",
       "│                     │ \u001b[38;5;34m165\u001b[0m, \u001b[38;5;34m32\u001b[0m)          │            │                   │\n",
       "├─────────────────────┼───────────────────┼────────────┼───────────────────┤\n",
       "│ time_distributed_2  │ (\u001b[38;5;45mNone\u001b[0m, \u001b[38;5;34m79\u001b[0m, \u001b[38;5;34m47\u001b[0m,    │     \u001b[38;5;34m55,360\u001b[0m │ time_distributed… │\n",
       "│ (\u001b[38;5;33mTimeDistributed\u001b[0m)   │ \u001b[38;5;34m39\u001b[0m, \u001b[38;5;34m98\u001b[0m, \u001b[38;5;34m64\u001b[0m)       │            │                   │\n",
       "├─────────────────────┼───────────────────┼────────────┼───────────────────┤\n",
       "│ batch_normalizatio… │ (\u001b[38;5;45mNone\u001b[0m, \u001b[38;5;34m165\u001b[0m, \u001b[38;5;34m201\u001b[0m,  │        \u001b[38;5;34m128\u001b[0m │ conv3d_3[\u001b[38;5;34m0\u001b[0m][\u001b[38;5;34m0\u001b[0m]    │\n",
       "│ (\u001b[38;5;33mBatchNormalizatio…\u001b[0m │ \u001b[38;5;34m165\u001b[0m, \u001b[38;5;34m32\u001b[0m)          │            │                   │\n",
       "├─────────────────────┼───────────────────┼────────────┼───────────────────┤\n",
       "│ time_distributed_3  │ (\u001b[38;5;45mNone\u001b[0m, \u001b[38;5;34m79\u001b[0m, \u001b[38;5;34m64\u001b[0m)    │          \u001b[38;5;34m0\u001b[0m │ time_distributed… │\n",
       "│ (\u001b[38;5;33mTimeDistributed\u001b[0m)   │                   │            │                   │\n",
       "├─────────────────────┼───────────────────┼────────────┼───────────────────┤\n",
       "│ global_average_poo… │ (\u001b[38;5;45mNone\u001b[0m, \u001b[38;5;34m32\u001b[0m)        │          \u001b[38;5;34m0\u001b[0m │ batch_normalizat… │\n",
       "│ (\u001b[38;5;33mGlobalAveragePool…\u001b[0m │                   │            │                   │\n",
       "├─────────────────────┼───────────────────┼────────────┼───────────────────┤\n",
       "│ lstm (\u001b[38;5;33mLSTM\u001b[0m)         │ (\u001b[38;5;45mNone\u001b[0m, \u001b[38;5;34m128\u001b[0m)       │     \u001b[38;5;34m98,816\u001b[0m │ time_distributed… │\n",
       "├─────────────────────┼───────────────────┼────────────┼───────────────────┤\n",
       "│ dense (\u001b[38;5;33mDense\u001b[0m)       │ (\u001b[38;5;45mNone\u001b[0m, \u001b[38;5;34m128\u001b[0m)       │      \u001b[38;5;34m4,224\u001b[0m │ global_average_p… │\n",
       "├─────────────────────┼───────────────────┼────────────┼───────────────────┤\n",
       "│ concatenate         │ (\u001b[38;5;45mNone\u001b[0m, \u001b[38;5;34m256\u001b[0m)       │          \u001b[38;5;34m0\u001b[0m │ lstm[\u001b[38;5;34m0\u001b[0m][\u001b[38;5;34m0\u001b[0m],       │\n",
       "│ (\u001b[38;5;33mConcatenate\u001b[0m)       │                   │            │ dense[\u001b[38;5;34m0\u001b[0m][\u001b[38;5;34m0\u001b[0m]       │\n",
       "├─────────────────────┼───────────────────┼────────────┼───────────────────┤\n",
       "│ dense_1 (\u001b[38;5;33mDense\u001b[0m)     │ (\u001b[38;5;45mNone\u001b[0m, \u001b[38;5;34m128\u001b[0m)       │     \u001b[38;5;34m32,896\u001b[0m │ concatenate[\u001b[38;5;34m0\u001b[0m][\u001b[38;5;34m0\u001b[0m] │\n",
       "├─────────────────────┼───────────────────┼────────────┼───────────────────┤\n",
       "│ dropout (\u001b[38;5;33mDropout\u001b[0m)   │ (\u001b[38;5;45mNone\u001b[0m, \u001b[38;5;34m128\u001b[0m)       │          \u001b[38;5;34m0\u001b[0m │ dense_1[\u001b[38;5;34m0\u001b[0m][\u001b[38;5;34m0\u001b[0m]     │\n",
       "├─────────────────────┼───────────────────┼────────────┼───────────────────┤\n",
       "│ dense_2 (\u001b[38;5;33mDense\u001b[0m)     │ (\u001b[38;5;45mNone\u001b[0m, \u001b[38;5;34m1\u001b[0m)         │        \u001b[38;5;34m129\u001b[0m │ dropout[\u001b[38;5;34m0\u001b[0m][\u001b[38;5;34m0\u001b[0m]     │\n",
       "└─────────────────────┴───────────────────┴────────────┴───────────────────┘\n"
      ]
     },
     "metadata": {},
     "output_type": "display_data"
    },
    {
     "data": {
      "text/html": [
       "<pre style=\"white-space:pre;overflow-x:auto;line-height:normal;font-family:Menlo,'DejaVu Sans Mono',consolas,'Courier New',monospace\"><span style=\"font-weight: bold\"> Total params: </span><span style=\"color: #00af00; text-decoration-color: #00af00\">221,153</span> (863.88 KB)\n",
       "</pre>\n"
      ],
      "text/plain": [
       "\u001b[1m Total params: \u001b[0m\u001b[38;5;34m221,153\u001b[0m (863.88 KB)\n"
      ]
     },
     "metadata": {},
     "output_type": "display_data"
    },
    {
     "data": {
      "text/html": [
       "<pre style=\"white-space:pre;overflow-x:auto;line-height:normal;font-family:Menlo,'DejaVu Sans Mono',consolas,'Courier New',monospace\"><span style=\"font-weight: bold\"> Trainable params: </span><span style=\"color: #00af00; text-decoration-color: #00af00\">221,025</span> (863.38 KB)\n",
       "</pre>\n"
      ],
      "text/plain": [
       "\u001b[1m Trainable params: \u001b[0m\u001b[38;5;34m221,025\u001b[0m (863.38 KB)\n"
      ]
     },
     "metadata": {},
     "output_type": "display_data"
    },
    {
     "data": {
      "text/html": [
       "<pre style=\"white-space:pre;overflow-x:auto;line-height:normal;font-family:Menlo,'DejaVu Sans Mono',consolas,'Courier New',monospace\"><span style=\"font-weight: bold\"> Non-trainable params: </span><span style=\"color: #00af00; text-decoration-color: #00af00\">128</span> (512.00 B)\n",
       "</pre>\n"
      ],
      "text/plain": [
       "\u001b[1m Non-trainable params: \u001b[0m\u001b[38;5;34m128\u001b[0m (512.00 B)\n"
      ]
     },
     "metadata": {},
     "output_type": "display_data"
    }
   ],
   "source": [
    "# --- fMRI Model (ConvLSTM) ---\n",
    "def build_fmri_model():\n",
    "    fmri_input = Input(shape=(79, 95, 79, 197, 1), name=\"fmri_input\")\n",
    "    x = Lambda(lambda x: tf.transpose(x, perm=[0, 4, 1, 2, 3, 5]))(fmri_input)\n",
    "    # Apply Conv3D independently to each time step\n",
    "    x = TimeDistributed(Conv3D(32, (3,3,3), padding=\"same\", activation=\"relu\"))(fmri_input)\n",
    "    x = TimeDistributed(MaxPooling3D(2))(x)  # Downsample spatial dimensions\n",
    "    x = TimeDistributed(Conv3D(64, (3,3,3), padding=\"same\", activation=\"relu\"))(x)\n",
    "    x = TimeDistributed(GlobalAveragePooling3D())(x)  # Shape: (batch, time=197, 64)\n",
    "    \n",
    "    # Temporal modeling with LSTM\n",
    "    x = LSTM(128)(x)  # Output shape: (batch, 128)\n",
    "    return Model(inputs=fmri_input, outputs=x, name=\"fMRI_Model\")\n",
    "\n",
    "# --- sMRI Model (3D CNN) ---\n",
    "def build_smri_model():\n",
    "    smri_input = Input(shape=(169, 205, 169, 1), name=\"smri_input\")\n",
    "\n",
    "    y = Conv3D(filters=32, kernel_size=(3,3,3), activation=\"relu\", padding=\"valid\")(smri_input)\n",
    "    y = BatchNormalization()(y)\n",
    "    y = Conv3D(filters=32, kernel_size=(3,3,3), activation=\"relu\", padding=\"valid\")(y)\n",
    "    y = BatchNormalization()(y)\n",
    "\n",
    "    y = GlobalAveragePooling3D()(y)\n",
    "    y = Dense(128, activation=\"relu\")(y)\n",
    "\n",
    "    return Model(inputs=smri_input, outputs=y, name=\"sMRI_Model\")\n",
    "\n",
    "# --- Combine fMRI & sMRI Models ---\n",
    "def build_combined_model():\n",
    "    fmri_model = build_fmri_model()\n",
    "    smri_model = build_smri_model()\n",
    "\n",
    "    combined = Concatenate()([fmri_model.output, smri_model.output])\n",
    "    combined = Dense(128, activation=\"relu\")(combined)\n",
    "    combined = Dropout(0.5)(combined)\n",
    "    output = Dense(1, activation=\"sigmoid\")(combined)\n",
    "\n",
    "    model = Model(inputs=[fmri_model.input, smri_model.input], outputs=output, name=\"Combined_Model\")\n",
    "    return model\n",
    "\n",
    "# Build & Compile Model\n",
    "model = build_combined_model()\n",
    "model.compile(optimizer=\"adam\", loss=\"binary_crossentropy\", metrics=[\"accuracy\"])\n",
    "model.summary()\n"
   ]
  },
  {
   "cell_type": "code",
   "execution_count": null,
   "metadata": {
    "colab": {
     "base_uri": "https://localhost:8080/"
    },
    "id": "w5DQyVy7gobu",
    "outputId": "dcffe9f0-8f95-4f7b-b800-8496be868ac7"
   },
   "outputs": [
    {
     "data": {
      "text/plain": [
       "((100, 5, 4, 4, 4, 1), (100, 10, 10, 10, 1), (100,))"
      ]
     },
     "execution_count": 8,
     "metadata": {},
     "output_type": "execute_result"
    }
   ],
   "source": [
    "fmri_data = np.random.rand(100, 5, 4, 4, 4, 1)\n",
    "smri_data = np.random.rand(100, 10, 10, 10, 1)\n",
    "labels = np.random.randint(0, 2, size=(100,))\n",
    "fmri_data.shape, smri_data.shape, labels.shape"
   ]
  },
  {
   "cell_type": "code",
   "execution_count": null,
   "metadata": {
    "id": "JAaAp4ICh_Zu"
   },
   "outputs": [],
   "source": [
    "from sklearn.model_selection import train_test_split"
   ]
  },
  {
   "cell_type": "code",
   "execution_count": null,
   "metadata": {
    "colab": {
     "base_uri": "https://localhost:8080/"
    },
    "id": "5HemPPf5icUx",
    "outputId": "494eb634-c62c-4710-f3a0-7bbeb83046e3"
   },
   "outputs": [
    {
     "data": {
      "text/plain": [
       "((80, 5, 4, 4, 4, 1),\n",
       " (20, 5, 4, 4, 4, 1),\n",
       " (80, 10, 10, 10, 1),\n",
       " (20, 10, 10, 10, 1),\n",
       " (80,),\n",
       " (20,))"
      ]
     },
     "execution_count": 11,
     "metadata": {},
     "output_type": "execute_result"
    }
   ],
   "source": [
    "train_fmri, val_fmri, train_smri, val_smri, train_labels, val_labels = train_test_split(fmri_data, smri_data, labels, test_size=0.2, random_state=42)\n",
    "train_fmri.shape, val_fmri.shape, train_smri.shape, val_smri.shape, train_labels.shape, val_labels.shape"
   ]
  },
  {
   "cell_type": "code",
   "execution_count": 11,
   "metadata": {
    "colab": {
     "base_uri": "https://localhost:8080/",
     "height": 550
    },
    "id": "8_aofj-zhnaY",
    "outputId": "92860580-1622-4cef-de33-f8dc36a85992"
   },
   "outputs": [
    {
     "name": "stdout",
     "output_type": "stream",
     "text": [
      "Epoch 1/10\n"
     ]
    },
    {
     "name": "stderr",
     "output_type": "stream",
     "text": [
      "WARNING: All log messages before absl::InitializeLog() is called are written to STDERR\n",
      "I0000 00:00:1741364874.121657 4136542 service.cc:148] XLA service 0x7e6a38006930 initialized for platform Host (this does not guarantee that XLA will be used). Devices:\n",
      "I0000 00:00:1741364874.121787 4136542 service.cc:156]   StreamExecutor device (0): Host, Default Version\n",
      "2025-03-07 21:57:55.969513: I tensorflow/compiler/mlir/tensorflow/utils/dump_mlir_util.cc:268] disabling MLIR crash reproducer, set env var `MLIR_CRASH_REPRODUCER_DIRECTORY` to enable.\n",
      "I0000 00:00:1741364911.921231 4136542 device_compiler.h:188] Compiled cluster using XLA!  This line is logged at most once for the lifetime of the process.\n",
      "2025-03-07 21:58:41.934406: W external/local_xla/xla/tsl/framework/bfc_allocator.cc:497] Allocator (mklcpu) ran out of memory trying to allocate 2.41TiB (rounded to 2653156464640)requested by op \n",
      "2025-03-07 21:58:41.934475: I external/local_xla/xla/tsl/framework/bfc_allocator.cc:1053] BFCAllocator dump for mklcpu\n",
      "2025-03-07 21:58:41.934497: I external/local_xla/xla/tsl/framework/bfc_allocator.cc:1060] Bin (256): \tTotal Chunks: 0, Chunks in use: 0. 0B allocated for chunks. 0B in use in bin. 0B client-requested in use in bin.\n",
      "2025-03-07 21:58:41.934513: I external/local_xla/xla/tsl/framework/bfc_allocator.cc:1060] Bin (512): \tTotal Chunks: 0, Chunks in use: 0. 0B allocated for chunks. 0B in use in bin. 0B client-requested in use in bin.\n",
      "2025-03-07 21:58:41.934527: I external/local_xla/xla/tsl/framework/bfc_allocator.cc:1060] Bin (1024): \tTotal Chunks: 0, Chunks in use: 0. 0B allocated for chunks. 0B in use in bin. 0B client-requested in use in bin.\n",
      "2025-03-07 21:58:41.934540: I external/local_xla/xla/tsl/framework/bfc_allocator.cc:1060] Bin (2048): \tTotal Chunks: 0, Chunks in use: 0. 0B allocated for chunks. 0B in use in bin. 0B client-requested in use in bin.\n",
      "2025-03-07 21:58:41.934554: I external/local_xla/xla/tsl/framework/bfc_allocator.cc:1060] Bin (4096): \tTotal Chunks: 0, Chunks in use: 0. 0B allocated for chunks. 0B in use in bin. 0B client-requested in use in bin.\n",
      "2025-03-07 21:58:41.934568: I external/local_xla/xla/tsl/framework/bfc_allocator.cc:1060] Bin (8192): \tTotal Chunks: 0, Chunks in use: 0. 0B allocated for chunks. 0B in use in bin. 0B client-requested in use in bin.\n",
      "2025-03-07 21:58:41.934582: I external/local_xla/xla/tsl/framework/bfc_allocator.cc:1060] Bin (16384): \tTotal Chunks: 0, Chunks in use: 0. 0B allocated for chunks. 0B in use in bin. 0B client-requested in use in bin.\n",
      "2025-03-07 21:58:41.934595: I external/local_xla/xla/tsl/framework/bfc_allocator.cc:1060] Bin (32768): \tTotal Chunks: 0, Chunks in use: 0. 0B allocated for chunks. 0B in use in bin. 0B client-requested in use in bin.\n",
      "2025-03-07 21:58:41.934609: I external/local_xla/xla/tsl/framework/bfc_allocator.cc:1060] Bin (65536): \tTotal Chunks: 0, Chunks in use: 0. 0B allocated for chunks. 0B in use in bin. 0B client-requested in use in bin.\n",
      "2025-03-07 21:58:41.934623: I external/local_xla/xla/tsl/framework/bfc_allocator.cc:1060] Bin (131072): \tTotal Chunks: 0, Chunks in use: 0. 0B allocated for chunks. 0B in use in bin. 0B client-requested in use in bin.\n",
      "2025-03-07 21:58:41.934646: I external/local_xla/xla/tsl/framework/bfc_allocator.cc:1060] Bin (262144): \tTotal Chunks: 2, Chunks in use: 2. 512.0KiB allocated for chunks. 512.0KiB in use in bin. 512.0KiB client-requested in use in bin.\n",
      "2025-03-07 21:58:41.934661: I external/local_xla/xla/tsl/framework/bfc_allocator.cc:1060] Bin (524288): \tTotal Chunks: 0, Chunks in use: 0. 0B allocated for chunks. 0B in use in bin. 0B client-requested in use in bin.\n",
      "2025-03-07 21:58:41.934677: I external/local_xla/xla/tsl/framework/bfc_allocator.cc:1060] Bin (1048576): \tTotal Chunks: 1, Chunks in use: 0. 1.50MiB allocated for chunks. 0B in use in bin. 0B client-requested in use in bin.\n",
      "2025-03-07 21:58:41.934691: I external/local_xla/xla/tsl/framework/bfc_allocator.cc:1060] Bin (2097152): \tTotal Chunks: 0, Chunks in use: 0. 0B allocated for chunks. 0B in use in bin. 0B client-requested in use in bin.\n",
      "2025-03-07 21:58:41.934704: I external/local_xla/xla/tsl/framework/bfc_allocator.cc:1060] Bin (4194304): \tTotal Chunks: 0, Chunks in use: 0. 0B allocated for chunks. 0B in use in bin. 0B client-requested in use in bin.\n",
      "2025-03-07 21:58:41.934718: I external/local_xla/xla/tsl/framework/bfc_allocator.cc:1060] Bin (8388608): \tTotal Chunks: 0, Chunks in use: 0. 0B allocated for chunks. 0B in use in bin. 0B client-requested in use in bin.\n",
      "2025-03-07 21:58:41.934760: I external/local_xla/xla/tsl/framework/bfc_allocator.cc:1060] Bin (16777216): \tTotal Chunks: 1, Chunks in use: 1. 22.33MiB allocated for chunks. 22.33MiB in use in bin. 22.33MiB client-requested in use in bin.\n",
      "2025-03-07 21:58:41.934779: I external/local_xla/xla/tsl/framework/bfc_allocator.cc:1060] Bin (33554432): \tTotal Chunks: 37, Chunks in use: 37. 1.61GiB allocated for chunks. 1.61GiB in use in bin. 1.61GiB client-requested in use in bin.\n",
      "2025-03-07 21:58:41.934794: I external/local_xla/xla/tsl/framework/bfc_allocator.cc:1060] Bin (67108864): \tTotal Chunks: 0, Chunks in use: 0. 0B allocated for chunks. 0B in use in bin. 0B client-requested in use in bin.\n",
      "2025-03-07 21:58:41.934808: I external/local_xla/xla/tsl/framework/bfc_allocator.cc:1060] Bin (134217728): \tTotal Chunks: 0, Chunks in use: 0. 0B allocated for chunks. 0B in use in bin. 0B client-requested in use in bin.\n",
      "2025-03-07 21:58:41.934827: I external/local_xla/xla/tsl/framework/bfc_allocator.cc:1060] Bin (268435456): \tTotal Chunks: 41, Chunks in use: 40. 126.36GiB allocated for chunks. 66.96GiB in use in bin. 66.90GiB client-requested in use in bin.\n",
      "2025-03-07 21:58:41.934843: I external/local_xla/xla/tsl/framework/bfc_allocator.cc:1076] Bin for 2.41TiB was 256.00MiB, Chunk State: \n",
      "2025-03-07 21:58:41.934867: I external/local_xla/xla/tsl/framework/bfc_allocator.cc:1082]   Size: 59.41GiB | Requested Size: 0B | in_use: 0 | bin_num: 20, prev:   Size: 22.33MiB | Requested Size: 22.33MiB | in_use: 1 | bin_num: -1\n",
      "2025-03-07 21:58:41.934871: I external/local_xla/xla/tsl/framework/bfc_allocator.cc:1089] Next region of size 2097152\n",
      "2025-03-07 21:58:41.934877: I external/local_xla/xla/tsl/framework/bfc_allocator.cc:1109] InUse at 62c30036b780 of size 262144 next 1\n",
      "2025-03-07 21:58:41.934880: I external/local_xla/xla/tsl/framework/bfc_allocator.cc:1109] InUse at 62c3003ab780 of size 262144 next 2\n",
      "2025-03-07 21:58:41.934883: I external/local_xla/xla/tsl/framework/bfc_allocator.cc:1109] Free  at 62c3003eb780 of size 1572864 next 18446744073709551615\n",
      "2025-03-07 21:58:41.934886: I external/local_xla/xla/tsl/framework/bfc_allocator.cc:1089] Next region of size 68719476736\n",
      "2025-03-07 21:58:41.934889: I external/local_xla/xla/tsl/framework/bfc_allocator.cc:1109] InUse at 7e4126400040 of size 934402560 next 71\n",
      "2025-03-07 21:58:41.934892: I external/local_xla/xla/tsl/framework/bfc_allocator.cc:1109] InUse at 7e415df1da40 of size 934402560 next 72\n",
      "2025-03-07 21:58:41.934895: I external/local_xla/xla/tsl/framework/bfc_allocator.cc:1109] InUse at 7e4195a3b440 of size 934402560 next 73\n",
      "2025-03-07 21:58:41.934898: I external/local_xla/xla/tsl/framework/bfc_allocator.cc:1109] InUse at 7e41cd558e40 of size 46840064 next 74\n",
      "2025-03-07 21:58:41.934903: I external/local_xla/xla/tsl/framework/bfc_allocator.cc:1109] InUse at 7e41d0204740 of size 46840064 next 75\n",
      "2025-03-07 21:58:41.934905: I external/local_xla/xla/tsl/framework/bfc_allocator.cc:1109] InUse at 7e41d2eb0040 of size 46840064 next 76\n",
      "2025-03-07 21:58:41.934908: I external/local_xla/xla/tsl/framework/bfc_allocator.cc:1109] InUse at 7e41d5b5b940 of size 934402560 next 77\n",
      "2025-03-07 21:58:41.934911: I external/local_xla/xla/tsl/framework/bfc_allocator.cc:1109] InUse at 7e420d679340 of size 46840064 next 78\n",
      "2025-03-07 21:58:41.934913: I external/local_xla/xla/tsl/framework/bfc_allocator.cc:1109] InUse at 7e4210324c40 of size 46840064 next 79\n",
      "2025-03-07 21:58:41.934916: I external/local_xla/xla/tsl/framework/bfc_allocator.cc:1109] InUse at 7e4212fd0540 of size 934402560 next 80\n",
      "2025-03-07 21:58:41.934919: I external/local_xla/xla/tsl/framework/bfc_allocator.cc:1109] InUse at 7e424aaedf40 of size 23420160 next 81\n",
      "2025-03-07 21:58:41.934922: I external/local_xla/xla/tsl/framework/bfc_allocator.cc:1109] Free  at 7e424c143c40 of size 63789843456 next 18446744073709551615\n",
      "2025-03-07 21:58:41.934925: I external/local_xla/xla/tsl/framework/bfc_allocator.cc:1089] Next region of size 68719476736\n",
      "2025-03-07 21:58:41.934928: I external/local_xla/xla/tsl/framework/bfc_allocator.cc:1109] InUse at 7e51a6800040 of size 35040094720 next 4\n",
      "2025-03-07 21:58:41.934931: I external/local_xla/xla/tsl/framework/bfc_allocator.cc:1109] InUse at 7e59cf0d6a40 of size 1756501504 next 5\n",
      "2025-03-07 21:58:41.934934: I external/local_xla/xla/tsl/framework/bfc_allocator.cc:1109] InUse at 7e5a37bf8040 of size 934402560 next 6\n",
      "2025-03-07 21:58:41.934936: I external/local_xla/xla/tsl/framework/bfc_allocator.cc:1109] InUse at 7e5a6f715a40 of size 46840064 next 7\n",
      "2025-03-07 21:58:41.934939: I external/local_xla/xla/tsl/framework/bfc_allocator.cc:1109] InUse at 7e5a723c1340 of size 934402560 next 8\n",
      "2025-03-07 21:58:41.934942: I external/local_xla/xla/tsl/framework/bfc_allocator.cc:1109] InUse at 7e5aa9eded40 of size 934402560 next 9\n",
      "2025-03-07 21:58:41.934945: I external/local_xla/xla/tsl/framework/bfc_allocator.cc:1109] InUse at 7e5ae19fc740 of size 46840064 next 10\n",
      "2025-03-07 21:58:41.934947: I external/local_xla/xla/tsl/framework/bfc_allocator.cc:1109] InUse at 7e5ae46a8040 of size 46840064 next 11\n",
      "2025-03-07 21:58:41.934950: I external/local_xla/xla/tsl/framework/bfc_allocator.cc:1109] InUse at 7e5ae7353940 of size 934402560 next 12\n",
      "2025-03-07 21:58:41.934953: I external/local_xla/xla/tsl/framework/bfc_allocator.cc:1109] InUse at 7e5b1ee71340 of size 46840064 next 13\n",
      "2025-03-07 21:58:41.934956: I external/local_xla/xla/tsl/framework/bfc_allocator.cc:1109] InUse at 7e5b21b1cc40 of size 46840064 next 14\n",
      "2025-03-07 21:58:41.934959: I external/local_xla/xla/tsl/framework/bfc_allocator.cc:1109] InUse at 7e5b247c8540 of size 46840064 next 15\n",
      "2025-03-07 21:58:41.934962: I external/local_xla/xla/tsl/framework/bfc_allocator.cc:1109] InUse at 7e5b27473e40 of size 934402560 next 16\n",
      "2025-03-07 21:58:41.934964: I external/local_xla/xla/tsl/framework/bfc_allocator.cc:1109] InUse at 7e5b5ef91840 of size 46840064 next 17\n",
      "2025-03-07 21:58:41.934967: I external/local_xla/xla/tsl/framework/bfc_allocator.cc:1109] InUse at 7e5b61c3d140 of size 934402560 next 18\n",
      "2025-03-07 21:58:41.934970: I external/local_xla/xla/tsl/framework/bfc_allocator.cc:1109] InUse at 7e5b9975ab40 of size 934402560 next 19\n",
      "2025-03-07 21:58:41.934973: I external/local_xla/xla/tsl/framework/bfc_allocator.cc:1109] InUse at 7e5bd1278540 of size 934402560 next 20\n",
      "2025-03-07 21:58:41.934975: I external/local_xla/xla/tsl/framework/bfc_allocator.cc:1109] InUse at 7e5c08d95f40 of size 46840064 next 21\n",
      "2025-03-07 21:58:41.934978: I external/local_xla/xla/tsl/framework/bfc_allocator.cc:1109] InUse at 7e5c0ba41840 of size 934402560 next 22\n",
      "2025-03-07 21:58:41.934981: I external/local_xla/xla/tsl/framework/bfc_allocator.cc:1109] InUse at 7e5c4355f240 of size 934402560 next 23\n",
      "2025-03-07 21:58:41.934983: I external/local_xla/xla/tsl/framework/bfc_allocator.cc:1109] InUse at 7e5c7b07cc40 of size 46840064 next 24\n",
      "2025-03-07 21:58:41.934986: I external/local_xla/xla/tsl/framework/bfc_allocator.cc:1109] InUse at 7e5c7dd28540 of size 46840064 next 25\n",
      "2025-03-07 21:58:41.934989: I external/local_xla/xla/tsl/framework/bfc_allocator.cc:1109] InUse at 7e5c809d3e40 of size 934402560 next 26\n",
      "2025-03-07 21:58:41.934991: I external/local_xla/xla/tsl/framework/bfc_allocator.cc:1109] InUse at 7e5cb84f1840 of size 46840064 next 27\n",
      "2025-03-07 21:58:41.934995: I external/local_xla/xla/tsl/framework/bfc_allocator.cc:1109] InUse at 7e5cbb19d140 of size 934402560 next 28\n",
      "2025-03-07 21:58:41.934997: I external/local_xla/xla/tsl/framework/bfc_allocator.cc:1109] InUse at 7e5cf2cbab40 of size 46840064 next 29\n",
      "2025-03-07 21:58:41.935000: I external/local_xla/xla/tsl/framework/bfc_allocator.cc:1109] InUse at 7e5cf5966440 of size 46840064 next 30\n",
      "2025-03-07 21:58:41.935003: I external/local_xla/xla/tsl/framework/bfc_allocator.cc:1109] InUse at 7e5cf8611d40 of size 934402560 next 31\n",
      "2025-03-07 21:58:41.935005: I external/local_xla/xla/tsl/framework/bfc_allocator.cc:1109] InUse at 7e5d3012f740 of size 46840064 next 32\n",
      "2025-03-07 21:58:41.935008: I external/local_xla/xla/tsl/framework/bfc_allocator.cc:1109] InUse at 7e5d32ddb040 of size 934402560 next 33\n",
      "2025-03-07 21:58:41.935011: I external/local_xla/xla/tsl/framework/bfc_allocator.cc:1109] InUse at 7e5d6a8f8a40 of size 46840064 next 34\n",
      "2025-03-07 21:58:41.935013: I external/local_xla/xla/tsl/framework/bfc_allocator.cc:1109] InUse at 7e5d6d5a4340 of size 934402560 next 35\n",
      "2025-03-07 21:58:41.935016: I external/local_xla/xla/tsl/framework/bfc_allocator.cc:1109] InUse at 7e5da50c1d40 of size 46840064 next 36\n",
      "2025-03-07 21:58:41.935019: I external/local_xla/xla/tsl/framework/bfc_allocator.cc:1109] InUse at 7e5da7d6d640 of size 934402560 next 37\n",
      "2025-03-07 21:58:41.935022: I external/local_xla/xla/tsl/framework/bfc_allocator.cc:1109] InUse at 7e5ddf88b040 of size 934402560 next 38\n",
      "2025-03-07 21:58:41.935024: I external/local_xla/xla/tsl/framework/bfc_allocator.cc:1109] InUse at 7e5e173a8a40 of size 46840064 next 39\n",
      "2025-03-07 21:58:41.935027: I external/local_xla/xla/tsl/framework/bfc_allocator.cc:1109] InUse at 7e5e1a054340 of size 934402560 next 40\n",
      "2025-03-07 21:58:41.935030: I external/local_xla/xla/tsl/framework/bfc_allocator.cc:1109] InUse at 7e5e51b71d40 of size 46840064 next 41\n",
      "2025-03-07 21:58:41.935032: I external/local_xla/xla/tsl/framework/bfc_allocator.cc:1109] InUse at 7e5e5481d640 of size 934402560 next 42\n",
      "2025-03-07 21:58:41.935035: I external/local_xla/xla/tsl/framework/bfc_allocator.cc:1109] InUse at 7e5e8c33b040 of size 934402560 next 43\n",
      "2025-03-07 21:58:41.935038: I external/local_xla/xla/tsl/framework/bfc_allocator.cc:1109] InUse at 7e5ec3e58a40 of size 934402560 next 44\n",
      "2025-03-07 21:58:41.935040: I external/local_xla/xla/tsl/framework/bfc_allocator.cc:1109] InUse at 7e5efb976440 of size 934402560 next 45\n",
      "2025-03-07 21:58:41.935043: I external/local_xla/xla/tsl/framework/bfc_allocator.cc:1109] InUse at 7e5f33493e40 of size 46840064 next 46\n",
      "2025-03-07 21:58:41.935046: I external/local_xla/xla/tsl/framework/bfc_allocator.cc:1109] InUse at 7e5f3613f740 of size 934402560 next 47\n",
      "2025-03-07 21:58:41.935049: I external/local_xla/xla/tsl/framework/bfc_allocator.cc:1109] InUse at 7e5f6dc5d140 of size 46840064 next 48\n",
      "2025-03-07 21:58:41.935051: I external/local_xla/xla/tsl/framework/bfc_allocator.cc:1109] InUse at 7e5f70908a40 of size 46840064 next 49\n",
      "2025-03-07 21:58:41.935054: I external/local_xla/xla/tsl/framework/bfc_allocator.cc:1109] InUse at 7e5f735b4340 of size 934402560 next 50\n",
      "2025-03-07 21:58:41.935057: I external/local_xla/xla/tsl/framework/bfc_allocator.cc:1109] InUse at 7e5fab0d1d40 of size 46840064 next 51\n",
      "2025-03-07 21:58:41.935059: I external/local_xla/xla/tsl/framework/bfc_allocator.cc:1109] InUse at 7e5fadd7d640 of size 46840064 next 52\n",
      "2025-03-07 21:58:41.935062: I external/local_xla/xla/tsl/framework/bfc_allocator.cc:1109] InUse at 7e5fb0a28f40 of size 46840064 next 53\n",
      "2025-03-07 21:58:41.935065: I external/local_xla/xla/tsl/framework/bfc_allocator.cc:1109] InUse at 7e5fb36d4840 of size 46840064 next 54\n",
      "2025-03-07 21:58:41.935068: I external/local_xla/xla/tsl/framework/bfc_allocator.cc:1109] InUse at 7e5fb6380140 of size 46840064 next 55\n",
      "2025-03-07 21:58:41.935070: I external/local_xla/xla/tsl/framework/bfc_allocator.cc:1109] InUse at 7e5fb902ba40 of size 934402560 next 56\n",
      "2025-03-07 21:58:41.935073: I external/local_xla/xla/tsl/framework/bfc_allocator.cc:1109] InUse at 7e5ff0b49440 of size 934402560 next 57\n",
      "2025-03-07 21:58:41.935076: I external/local_xla/xla/tsl/framework/bfc_allocator.cc:1109] InUse at 7e6028666e40 of size 46840064 next 58\n",
      "2025-03-07 21:58:41.935078: I external/local_xla/xla/tsl/framework/bfc_allocator.cc:1109] InUse at 7e602b312740 of size 934402560 next 59\n",
      "2025-03-07 21:58:41.935081: I external/local_xla/xla/tsl/framework/bfc_allocator.cc:1109] InUse at 7e6062e30140 of size 934402560 next 60\n",
      "2025-03-07 21:58:41.935084: I external/local_xla/xla/tsl/framework/bfc_allocator.cc:1109] InUse at 7e609a94db40 of size 46840064 next 61\n",
      "2025-03-07 21:58:41.935086: I external/local_xla/xla/tsl/framework/bfc_allocator.cc:1109] InUse at 7e609d5f9440 of size 46840064 next 62\n",
      "2025-03-07 21:58:41.935089: I external/local_xla/xla/tsl/framework/bfc_allocator.cc:1109] InUse at 7e60a02a4d40 of size 934402560 next 63\n",
      "2025-03-07 21:58:41.935092: I external/local_xla/xla/tsl/framework/bfc_allocator.cc:1109] InUse at 7e60d7dc2740 of size 46840064 next 64\n",
      "2025-03-07 21:58:41.935095: I external/local_xla/xla/tsl/framework/bfc_allocator.cc:1109] InUse at 7e60daa6e040 of size 934402560 next 65\n",
      "2025-03-07 21:58:41.935097: I external/local_xla/xla/tsl/framework/bfc_allocator.cc:1109] InUse at 7e611258ba40 of size 46840064 next 66\n",
      "2025-03-07 21:58:41.935100: I external/local_xla/xla/tsl/framework/bfc_allocator.cc:1109] InUse at 7e6115237340 of size 934402560 next 67\n",
      "2025-03-07 21:58:41.935103: I external/local_xla/xla/tsl/framework/bfc_allocator.cc:1109] InUse at 7e614cd54d40 of size 46840064 next 68\n",
      "2025-03-07 21:58:41.935105: I external/local_xla/xla/tsl/framework/bfc_allocator.cc:1109] InUse at 7e614fa00640 of size 934402560 next 69\n",
      "2025-03-07 21:58:41.935108: I external/local_xla/xla/tsl/framework/bfc_allocator.cc:1109] InUse at 7e618751e040 of size 523116544 next 18446744073709551615\n",
      "2025-03-07 21:58:41.935111: I external/local_xla/xla/tsl/framework/bfc_allocator.cc:1114]      Summary of in-use Chunks by size: \n",
      "2025-03-07 21:58:41.935116: I external/local_xla/xla/tsl/framework/bfc_allocator.cc:1117] 2 Chunks of size 262144 totalling 512.0KiB\n",
      "2025-03-07 21:58:41.935119: I external/local_xla/xla/tsl/framework/bfc_allocator.cc:1117] 1 Chunks of size 23420160 totalling 22.33MiB\n",
      "2025-03-07 21:58:41.935122: I external/local_xla/xla/tsl/framework/bfc_allocator.cc:1117] 37 Chunks of size 46840064 totalling 1.61GiB\n",
      "2025-03-07 21:58:41.935126: I external/local_xla/xla/tsl/framework/bfc_allocator.cc:1117] 1 Chunks of size 523116544 totalling 498.88MiB\n",
      "2025-03-07 21:58:41.935129: I external/local_xla/xla/tsl/framework/bfc_allocator.cc:1117] 37 Chunks of size 934402560 totalling 32.20GiB\n",
      "2025-03-07 21:58:41.935132: I external/local_xla/xla/tsl/framework/bfc_allocator.cc:1117] 1 Chunks of size 1756501504 totalling 1.64GiB\n",
      "2025-03-07 21:58:41.935136: I external/local_xla/xla/tsl/framework/bfc_allocator.cc:1117] 1 Chunks of size 35040094720 totalling 32.63GiB\n",
      "2025-03-07 21:58:41.935139: I external/local_xla/xla/tsl/framework/bfc_allocator.cc:1121] Sum Total of in-use chunks: 68.59GiB\n",
      "2025-03-07 21:58:41.935142: I external/local_xla/xla/tsl/framework/bfc_allocator.cc:1123] Total bytes in pool: 137441050624 memory_limit_: 540659363840 available bytes: 403218313216 curr_region_allocation_bytes_: 137438953472\n",
      "2025-03-07 21:58:41.935149: I external/local_xla/xla/tsl/framework/bfc_allocator.cc:1128] Stats: \n",
      "Limit:                    540659363840\n",
      "InUse:                     73649634304\n",
      "MaxInUse:                  73649634304\n",
      "NumAllocs:                          87\n",
      "MaxAllocSize:              35040094720\n",
      "Reserved:                            0\n",
      "PeakReserved:                        0\n",
      "LargestFreeBlock:                    0\n",
      "\n",
      "2025-03-07 21:58:41.935156: W external/local_xla/xla/tsl/framework/bfc_allocator.cc:508] ****______________________________________________**************************************************\n",
      "2025-03-07 21:58:41.935303: I tensorflow/core/framework/local_rendezvous.cc:405] Local rendezvous is aborting with status: RESOURCE_EXHAUSTED: Out of memory while trying to allocate 2653156464560 bytes.\n",
      "\t [[{{node StatefulPartitionedCall}}]]\n",
      "Hint: If you want to see a list of allocated tensors when OOM happens, add report_tensor_allocations_upon_oom to RunOptions for current allocation info. This isn't available when running in Eager mode.\n",
      "\n"
     ]
    },
    {
     "ename": "ResourceExhaustedError",
     "evalue": "Graph execution error:\n\nDetected at node StatefulPartitionedCall defined at (most recent call last):\n  File \"/usr/lib/python3.10/runpy.py\", line 196, in _run_module_as_main\n\n  File \"/usr/lib/python3.10/runpy.py\", line 86, in _run_code\n\n  File \"/usr/local/lib/python3.10/dist-packages/ipykernel_launcher.py\", line 18, in <module>\n\n  File \"/usr/local/lib/python3.10/dist-packages/traitlets/config/application.py\", line 1075, in launch_instance\n\n  File \"/usr/local/lib/python3.10/dist-packages/ipykernel/kernelapp.py\", line 739, in start\n\n  File \"/usr/local/lib/python3.10/dist-packages/tornado/platform/asyncio.py\", line 205, in start\n\n  File \"/usr/lib/python3.10/asyncio/base_events.py\", line 603, in run_forever\n\n  File \"/usr/lib/python3.10/asyncio/base_events.py\", line 1909, in _run_once\n\n  File \"/usr/lib/python3.10/asyncio/events.py\", line 80, in _run\n\n  File \"/usr/local/lib/python3.10/dist-packages/ipykernel/kernelbase.py\", line 545, in dispatch_queue\n\n  File \"/usr/local/lib/python3.10/dist-packages/ipykernel/kernelbase.py\", line 534, in process_one\n\n  File \"/usr/local/lib/python3.10/dist-packages/ipykernel/kernelbase.py\", line 437, in dispatch_shell\n\n  File \"/usr/local/lib/python3.10/dist-packages/ipykernel/ipkernel.py\", line 362, in execute_request\n\n  File \"/usr/local/lib/python3.10/dist-packages/ipykernel/kernelbase.py\", line 778, in execute_request\n\n  File \"/usr/local/lib/python3.10/dist-packages/ipykernel/ipkernel.py\", line 449, in do_execute\n\n  File \"/usr/local/lib/python3.10/dist-packages/ipykernel/zmqshell.py\", line 549, in run_cell\n\n  File \"/usr/local/lib/python3.10/dist-packages/IPython/core/interactiveshell.py\", line 3075, in run_cell\n\n  File \"/usr/local/lib/python3.10/dist-packages/IPython/core/interactiveshell.py\", line 3130, in _run_cell\n\n  File \"/usr/local/lib/python3.10/dist-packages/IPython/core/async_helpers.py\", line 128, in _pseudo_sync_runner\n\n  File \"/usr/local/lib/python3.10/dist-packages/IPython/core/interactiveshell.py\", line 3334, in run_cell_async\n\n  File \"/usr/local/lib/python3.10/dist-packages/IPython/core/interactiveshell.py\", line 3517, in run_ast_nodes\n\n  File \"/usr/local/lib/python3.10/dist-packages/IPython/core/interactiveshell.py\", line 3577, in run_code\n\n  File \"/tmp/ipykernel_4136096/2028827889.py\", line 1, in <module>\n\n  File \"/home/tripti/.local/lib/python3.10/site-packages/keras/src/utils/traceback_utils.py\", line 117, in error_handler\n\n  File \"/home/tripti/.local/lib/python3.10/site-packages/keras/src/backend/tensorflow/trainer.py\", line 368, in fit\n\n  File \"/home/tripti/.local/lib/python3.10/site-packages/keras/src/backend/tensorflow/trainer.py\", line 216, in function\n\n  File \"/home/tripti/.local/lib/python3.10/site-packages/keras/src/backend/tensorflow/trainer.py\", line 129, in multi_step_on_iterator\n\nOut of memory while trying to allocate 2653156464560 bytes.\n\t [[{{node StatefulPartitionedCall}}]]\nHint: If you want to see a list of allocated tensors when OOM happens, add report_tensor_allocations_upon_oom to RunOptions for current allocation info. This isn't available when running in Eager mode.\n [Op:__inference_multi_step_on_iterator_20859]",
     "output_type": "error",
     "traceback": [
      "\u001b[0;31m---------------------------------------------------------------------------\u001b[0m",
      "\u001b[0;31mResourceExhaustedError\u001b[0m                    Traceback (most recent call last)",
      "Cell \u001b[0;32mIn[11], line 1\u001b[0m\n\u001b[0;32m----> 1\u001b[0m history \u001b[38;5;241m=\u001b[39m \u001b[43mmodel\u001b[49m\u001b[38;5;241;43m.\u001b[39;49m\u001b[43mfit\u001b[49m\u001b[43m(\u001b[49m\n\u001b[1;32m      2\u001b[0m \u001b[43m    \u001b[49m\u001b[43m{\u001b[49m\u001b[38;5;124;43m\"\u001b[39;49m\u001b[38;5;124;43mfmri_input\u001b[39;49m\u001b[38;5;124;43m\"\u001b[39;49m\u001b[43m:\u001b[49m\u001b[43m \u001b[49m\u001b[43mfunc_train\u001b[49m\u001b[43m,\u001b[49m\u001b[43m \u001b[49m\u001b[38;5;124;43m\"\u001b[39;49m\u001b[38;5;124;43msmri_input\u001b[39;49m\u001b[38;5;124;43m\"\u001b[39;49m\u001b[43m:\u001b[49m\u001b[43m \u001b[49m\u001b[43mstruct_train\u001b[49m\u001b[43m}\u001b[49m\u001b[43m,\u001b[49m\u001b[43m  \u001b[49m\u001b[38;5;66;43;03m# Dictionary format for inputs\u001b[39;49;00m\n\u001b[1;32m      3\u001b[0m \u001b[43m    \u001b[49m\u001b[43my_train\u001b[49m\u001b[43m,\u001b[49m\u001b[43m  \u001b[49m\u001b[38;5;66;43;03m# Output labels\u001b[39;49;00m\n\u001b[1;32m      4\u001b[0m \u001b[43m    \u001b[49m\u001b[43mbatch_size\u001b[49m\u001b[38;5;241;43m=\u001b[39;49m\u001b[38;5;241;43m2\u001b[39;49m\u001b[43m,\u001b[49m\n\u001b[1;32m      5\u001b[0m \u001b[43m    \u001b[49m\u001b[43mepochs\u001b[49m\u001b[38;5;241;43m=\u001b[39;49m\u001b[38;5;241;43m10\u001b[39;49m\u001b[43m,\u001b[49m\n\u001b[1;32m      6\u001b[0m \u001b[43m    \u001b[49m\u001b[43mvalidation_data\u001b[49m\u001b[38;5;241;43m=\u001b[39;49m\u001b[43m(\u001b[49m\n\u001b[1;32m      7\u001b[0m \u001b[43m        \u001b[49m\u001b[43m{\u001b[49m\u001b[38;5;124;43m\"\u001b[39;49m\u001b[38;5;124;43mfmri_input\u001b[39;49m\u001b[38;5;124;43m\"\u001b[39;49m\u001b[43m:\u001b[49m\u001b[43m \u001b[49m\u001b[43mfunc_test\u001b[49m\u001b[43m,\u001b[49m\u001b[43m \u001b[49m\u001b[38;5;124;43m\"\u001b[39;49m\u001b[38;5;124;43msmri_input\u001b[39;49m\u001b[38;5;124;43m\"\u001b[39;49m\u001b[43m:\u001b[49m\u001b[43m \u001b[49m\u001b[43mstruct_test\u001b[49m\u001b[43m}\u001b[49m\u001b[43m,\u001b[49m\n\u001b[1;32m      8\u001b[0m \u001b[43m        \u001b[49m\u001b[43my_test\u001b[49m\n\u001b[1;32m      9\u001b[0m \u001b[43m    \u001b[49m\u001b[43m)\u001b[49m\u001b[43m,\u001b[49m\n\u001b[1;32m     10\u001b[0m \u001b[43m    \u001b[49m\u001b[43mverbose\u001b[49m\u001b[38;5;241;43m=\u001b[39;49m\u001b[38;5;241;43m1\u001b[39;49m\n\u001b[1;32m     11\u001b[0m \u001b[43m)\u001b[49m\n",
      "File \u001b[0;32m~/.local/lib/python3.10/site-packages/keras/src/utils/traceback_utils.py:122\u001b[0m, in \u001b[0;36mfilter_traceback.<locals>.error_handler\u001b[0;34m(*args, **kwargs)\u001b[0m\n\u001b[1;32m    119\u001b[0m     filtered_tb \u001b[38;5;241m=\u001b[39m _process_traceback_frames(e\u001b[38;5;241m.\u001b[39m__traceback__)\n\u001b[1;32m    120\u001b[0m     \u001b[38;5;66;03m# To get the full stack trace, call:\u001b[39;00m\n\u001b[1;32m    121\u001b[0m     \u001b[38;5;66;03m# `keras.config.disable_traceback_filtering()`\u001b[39;00m\n\u001b[0;32m--> 122\u001b[0m     \u001b[38;5;28;01mraise\u001b[39;00m e\u001b[38;5;241m.\u001b[39mwith_traceback(filtered_tb) \u001b[38;5;28;01mfrom\u001b[39;00m \u001b[38;5;28;01mNone\u001b[39;00m\n\u001b[1;32m    123\u001b[0m \u001b[38;5;28;01mfinally\u001b[39;00m:\n\u001b[1;32m    124\u001b[0m     \u001b[38;5;28;01mdel\u001b[39;00m filtered_tb\n",
      "File \u001b[0;32m~/.local/lib/python3.10/site-packages/tensorflow/python/eager/execute.py:53\u001b[0m, in \u001b[0;36mquick_execute\u001b[0;34m(op_name, num_outputs, inputs, attrs, ctx, name)\u001b[0m\n\u001b[1;32m     51\u001b[0m \u001b[38;5;28;01mtry\u001b[39;00m:\n\u001b[1;32m     52\u001b[0m   ctx\u001b[38;5;241m.\u001b[39mensure_initialized()\n\u001b[0;32m---> 53\u001b[0m   tensors \u001b[38;5;241m=\u001b[39m pywrap_tfe\u001b[38;5;241m.\u001b[39mTFE_Py_Execute(ctx\u001b[38;5;241m.\u001b[39m_handle, device_name, op_name,\n\u001b[1;32m     54\u001b[0m                                       inputs, attrs, num_outputs)\n\u001b[1;32m     55\u001b[0m \u001b[38;5;28;01mexcept\u001b[39;00m core\u001b[38;5;241m.\u001b[39m_NotOkStatusException \u001b[38;5;28;01mas\u001b[39;00m e:\n\u001b[1;32m     56\u001b[0m   \u001b[38;5;28;01mif\u001b[39;00m name \u001b[38;5;129;01mis\u001b[39;00m \u001b[38;5;129;01mnot\u001b[39;00m \u001b[38;5;28;01mNone\u001b[39;00m:\n",
      "\u001b[0;31mResourceExhaustedError\u001b[0m: Graph execution error:\n\nDetected at node StatefulPartitionedCall defined at (most recent call last):\n  File \"/usr/lib/python3.10/runpy.py\", line 196, in _run_module_as_main\n\n  File \"/usr/lib/python3.10/runpy.py\", line 86, in _run_code\n\n  File \"/usr/local/lib/python3.10/dist-packages/ipykernel_launcher.py\", line 18, in <module>\n\n  File \"/usr/local/lib/python3.10/dist-packages/traitlets/config/application.py\", line 1075, in launch_instance\n\n  File \"/usr/local/lib/python3.10/dist-packages/ipykernel/kernelapp.py\", line 739, in start\n\n  File \"/usr/local/lib/python3.10/dist-packages/tornado/platform/asyncio.py\", line 205, in start\n\n  File \"/usr/lib/python3.10/asyncio/base_events.py\", line 603, in run_forever\n\n  File \"/usr/lib/python3.10/asyncio/base_events.py\", line 1909, in _run_once\n\n  File \"/usr/lib/python3.10/asyncio/events.py\", line 80, in _run\n\n  File \"/usr/local/lib/python3.10/dist-packages/ipykernel/kernelbase.py\", line 545, in dispatch_queue\n\n  File \"/usr/local/lib/python3.10/dist-packages/ipykernel/kernelbase.py\", line 534, in process_one\n\n  File \"/usr/local/lib/python3.10/dist-packages/ipykernel/kernelbase.py\", line 437, in dispatch_shell\n\n  File \"/usr/local/lib/python3.10/dist-packages/ipykernel/ipkernel.py\", line 362, in execute_request\n\n  File \"/usr/local/lib/python3.10/dist-packages/ipykernel/kernelbase.py\", line 778, in execute_request\n\n  File \"/usr/local/lib/python3.10/dist-packages/ipykernel/ipkernel.py\", line 449, in do_execute\n\n  File \"/usr/local/lib/python3.10/dist-packages/ipykernel/zmqshell.py\", line 549, in run_cell\n\n  File \"/usr/local/lib/python3.10/dist-packages/IPython/core/interactiveshell.py\", line 3075, in run_cell\n\n  File \"/usr/local/lib/python3.10/dist-packages/IPython/core/interactiveshell.py\", line 3130, in _run_cell\n\n  File \"/usr/local/lib/python3.10/dist-packages/IPython/core/async_helpers.py\", line 128, in _pseudo_sync_runner\n\n  File \"/usr/local/lib/python3.10/dist-packages/IPython/core/interactiveshell.py\", line 3334, in run_cell_async\n\n  File \"/usr/local/lib/python3.10/dist-packages/IPython/core/interactiveshell.py\", line 3517, in run_ast_nodes\n\n  File \"/usr/local/lib/python3.10/dist-packages/IPython/core/interactiveshell.py\", line 3577, in run_code\n\n  File \"/tmp/ipykernel_4136096/2028827889.py\", line 1, in <module>\n\n  File \"/home/tripti/.local/lib/python3.10/site-packages/keras/src/utils/traceback_utils.py\", line 117, in error_handler\n\n  File \"/home/tripti/.local/lib/python3.10/site-packages/keras/src/backend/tensorflow/trainer.py\", line 368, in fit\n\n  File \"/home/tripti/.local/lib/python3.10/site-packages/keras/src/backend/tensorflow/trainer.py\", line 216, in function\n\n  File \"/home/tripti/.local/lib/python3.10/site-packages/keras/src/backend/tensorflow/trainer.py\", line 129, in multi_step_on_iterator\n\nOut of memory while trying to allocate 2653156464560 bytes.\n\t [[{{node StatefulPartitionedCall}}]]\nHint: If you want to see a list of allocated tensors when OOM happens, add report_tensor_allocations_upon_oom to RunOptions for current allocation info. This isn't available when running in Eager mode.\n [Op:__inference_multi_step_on_iterator_20859]"
     ]
    }
   ],
   "source": [
    "history = model.fit(\n",
    "    {\"fmri_input\": func_train, \"smri_input\": struct_train},  # Dictionary format for inputs\n",
    "    y_train,  # Output labels\n",
    "    batch_size=2,\n",
    "    epochs=10,\n",
    "    validation_data=(\n",
    "        {\"fmri_input\": func_test, \"smri_input\": struct_test},\n",
    "        y_test\n",
    "    ),\n",
    "    verbose=1\n",
    ")"
   ]
  },
  {
   "cell_type": "code",
   "execution_count": null,
   "metadata": {
    "id": "BOfh24h4iplQ"
   },
   "outputs": [],
   "source": []
  }
 ],
 "metadata": {
  "colab": {
   "provenance": []
  },
  "kernelspec": {
   "display_name": "Python 3",
   "name": "python3"
  },
  "language_info": {
   "codemirror_mode": {
    "name": "ipython",
    "version": 3
   },
   "file_extension": ".py",
   "mimetype": "text/x-python",
   "name": "python",
   "nbconvert_exporter": "python",
   "pygments_lexer": "ipython3",
   "version": "3.10.12"
  }
 },
 "nbformat": 4,
 "nbformat_minor": 0
}
