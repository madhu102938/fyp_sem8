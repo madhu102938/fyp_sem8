{
 "cells": [
  {
   "cell_type": "code",
   "execution_count": 1,
   "metadata": {},
   "outputs": [],
   "source": [
    "import os\n",
    "import pickle as pkl\n",
    "from nilearn import image\n",
    "from nilearn import plotting\n",
    "from nilearn import datasets\n",
    "from nilearn import maskers\n",
    "from nilearn.connectome import ConnectivityMeasure\n",
    "from tqdm import tqdm\n",
    "import numpy as np\n",
    "from nilearn.input_data import NiftiLabelsMasker\n",
    "import nibabel as nib"
   ]
  },
  {
   "cell_type": "code",
   "execution_count": null,
   "metadata": {},
   "outputs": [],
   "source": [
    "# importing data\n",
    "def returning_pkl_file_data(path : str):\n",
    "    with open(path, 'rb') as f:\n",
    "        temp = pkl.load(f)\n",
    "    return temp\n",
    "\n",
    "mci_func = returning_pkl_file_data(r\"feature_extraction/MCI_func_52_79_95_79_197.pkl\")\n",
    "cn_func = returning_pkl_file_data(r'feature_extraction/CN_func_42_79_95_79_197.pkl')\n",
    "ad_func = returning_pkl_file_data(r'feature_extraction/AD_func_40_79_95_79_197.pkl')"
   ]
  },
  {
   "cell_type": "code",
   "execution_count": 2,
   "metadata": {},
   "outputs": [],
   "source": [
    "aal_atlas = datasets.fetch_atlas_aal()"
   ]
  },
  {
   "cell_type": "code",
   "execution_count": 3,
   "metadata": {},
   "outputs": [],
   "source": [
    "with open('aal_atlas.pkl', 'wb') as f:\n",
    "    pkl.dump(aal_atlas, f)"
   ]
  },
  {
   "cell_type": "code",
   "execution_count": null,
   "metadata": {},
   "outputs": [],
   "source": [
    "masker = maskers.NiftiLabelsMasker(\n",
    "    labels_img=aal_atlas.maps,  # Use maps_img instead of maps\n",
    "    resampling_target=\"data\",\n",
    "    t_r=3, \n",
    "    detrend=True,\n",
    "    low_pass=0.1, \n",
    "    high_pass=0.01\n",
    ")"
   ]
  },
  {
   "cell_type": "code",
   "execution_count": null,
   "metadata": {},
   "outputs": [],
   "source": [
    "def roiExtraction(data):\n",
    "    final_features = []\n",
    "    for fmri_data in tqdm(data):\n",
    "        features = masker.fit_transform(fmri_data)\n",
    "        final_features.append(features)\n",
    "    return np.array(final_features)\n",
    "\n",
    "mci_func_features = roiExtraction(mci_func)\n",
    "cn_func_features = roiExtraction(cn_func)\n",
    "ad_func_features = roiExtraction(ad_func)\n",
    "mci_func_features.shape, cn_func_features.shape, ad_func_features.shape"
   ]
  },
  {
   "cell_type": "code",
   "execution_count": null,
   "metadata": {},
   "outputs": [],
   "source": [
    "with open(r\"feature_extraction/MCI_func_features\", 'wb') as f:\n",
    "    pkl.dump(mci_func_features, f)\n",
    "with open(r\"feature_extraction/CN_func_features\", 'wb') as f:\n",
    "    pkl.dump(cn_func_features, f)\n",
    "with open(r\"feature_extraction/AD_func_features\", 'wb') as f:\n",
    "    pkl.dump(ad_func_features, f)"
   ]
  }
 ],
 "metadata": {
  "kernelspec": {
   "display_name": "torch_gpu",
   "language": "python",
   "name": "python3"
  },
  "language_info": {
   "codemirror_mode": {
    "name": "ipython",
    "version": 3
   },
   "file_extension": ".py",
   "mimetype": "text/x-python",
   "name": "python",
   "nbconvert_exporter": "python",
   "pygments_lexer": "ipython3",
   "version": "3.11.9"
  }
 },
 "nbformat": 4,
 "nbformat_minor": 2
}
